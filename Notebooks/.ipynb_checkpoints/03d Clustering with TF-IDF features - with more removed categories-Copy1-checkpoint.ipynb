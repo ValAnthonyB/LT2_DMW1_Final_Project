{
 "cells": [
  {
   "cell_type": "code",
   "execution_count": 1,
   "id": "bbdc69e6-e46a-4d09-86bd-8e96654b365b",
   "metadata": {},
   "outputs": [],
   "source": [
    "import pandas as pd\n",
    "import numpy as np\n",
    "import matplotlib.pyplot as plt"
   ]
  },
  {
   "cell_type": "markdown",
   "id": "eafd2ed6-004c-4b7e-88b6-cd6cad4e014d",
   "metadata": {},
   "source": [
    "# Loading the data"
   ]
  },
  {
   "cell_type": "code",
   "execution_count": 2,
   "id": "31fedd6c-1b99-4fd0-981c-5f37502324ef",
   "metadata": {},
   "outputs": [
    {
     "data": {
      "text/html": [
       "<div>\n",
       "<style scoped>\n",
       "    .dataframe tbody tr th:only-of-type {\n",
       "        vertical-align: middle;\n",
       "    }\n",
       "\n",
       "    .dataframe tbody tr th {\n",
       "        vertical-align: top;\n",
       "    }\n",
       "\n",
       "    .dataframe thead th {\n",
       "        text-align: right;\n",
       "    }\n",
       "</style>\n",
       "<table border=\"1\" class=\"dataframe\">\n",
       "  <thead>\n",
       "    <tr style=\"text-align: right;\">\n",
       "      <th></th>\n",
       "      <th>bagsandluggage</th>\n",
       "      <th>beautyandhealth</th>\n",
       "      <th>capsandhats</th>\n",
       "      <th>drinkware</th>\n",
       "      <th>hoodiesandjackets</th>\n",
       "      <th>kidsapparel</th>\n",
       "      <th>petsupplies</th>\n",
       "      <th>sportsandfitness</th>\n",
       "    </tr>\n",
       "    <tr>\n",
       "      <th>CustomerID</th>\n",
       "      <th></th>\n",
       "      <th></th>\n",
       "      <th></th>\n",
       "      <th></th>\n",
       "      <th></th>\n",
       "      <th></th>\n",
       "      <th></th>\n",
       "      <th></th>\n",
       "    </tr>\n",
       "  </thead>\n",
       "  <tbody>\n",
       "    <tr>\n",
       "      <th>12347</th>\n",
       "      <td>0.568189</td>\n",
       "      <td>0.000000</td>\n",
       "      <td>0.388631</td>\n",
       "      <td>0.463974</td>\n",
       "      <td>0.366188</td>\n",
       "      <td>0.215148</td>\n",
       "      <td>0.0</td>\n",
       "      <td>0.361210</td>\n",
       "    </tr>\n",
       "    <tr>\n",
       "      <th>12348</th>\n",
       "      <td>0.000000</td>\n",
       "      <td>0.000000</td>\n",
       "      <td>0.000000</td>\n",
       "      <td>0.636778</td>\n",
       "      <td>0.000000</td>\n",
       "      <td>0.590556</td>\n",
       "      <td>0.0</td>\n",
       "      <td>0.495740</td>\n",
       "    </tr>\n",
       "    <tr>\n",
       "      <th>12350</th>\n",
       "      <td>0.000000</td>\n",
       "      <td>0.000000</td>\n",
       "      <td>0.974051</td>\n",
       "      <td>0.000000</td>\n",
       "      <td>0.000000</td>\n",
       "      <td>0.000000</td>\n",
       "      <td>0.0</td>\n",
       "      <td>0.226331</td>\n",
       "    </tr>\n",
       "    <tr>\n",
       "      <th>12356</th>\n",
       "      <td>0.203496</td>\n",
       "      <td>0.436919</td>\n",
       "      <td>0.000000</td>\n",
       "      <td>0.498515</td>\n",
       "      <td>0.393450</td>\n",
       "      <td>0.462330</td>\n",
       "      <td>0.0</td>\n",
       "      <td>0.388101</td>\n",
       "    </tr>\n",
       "    <tr>\n",
       "      <th>12359</th>\n",
       "      <td>0.000000</td>\n",
       "      <td>0.000000</td>\n",
       "      <td>1.000000</td>\n",
       "      <td>0.000000</td>\n",
       "      <td>0.000000</td>\n",
       "      <td>0.000000</td>\n",
       "      <td>0.0</td>\n",
       "      <td>0.000000</td>\n",
       "    </tr>\n",
       "  </tbody>\n",
       "</table>\n",
       "</div>"
      ],
      "text/plain": [
       "            bagsandluggage  beautyandhealth  capsandhats  drinkware  \\\n",
       "CustomerID                                                            \n",
       "12347             0.568189         0.000000     0.388631   0.463974   \n",
       "12348             0.000000         0.000000     0.000000   0.636778   \n",
       "12350             0.000000         0.000000     0.974051   0.000000   \n",
       "12356             0.203496         0.436919     0.000000   0.498515   \n",
       "12359             0.000000         0.000000     1.000000   0.000000   \n",
       "\n",
       "            hoodiesandjackets  kidsapparel  petsupplies  sportsandfitness  \n",
       "CustomerID                                                                 \n",
       "12347                0.366188     0.215148          0.0          0.361210  \n",
       "12348                0.000000     0.590556          0.0          0.495740  \n",
       "12350                0.000000     0.000000          0.0          0.226331  \n",
       "12356                0.393450     0.462330          0.0          0.388101  \n",
       "12359                0.000000     0.000000          0.0          0.000000  "
      ]
     },
     "execution_count": 2,
     "metadata": {},
     "output_type": "execute_result"
    }
   ],
   "source": [
    "df = pd.read_parquet('../Data/features_tfidf_removed_categories.parquet.gz')\n",
    "df.head()"
   ]
  },
  {
   "cell_type": "markdown",
   "id": "14a6d7e0-6e17-45ea-a4de-44abe6c9df38",
   "metadata": {},
   "source": [
    "# Mean scaling of the TF-IDF features"
   ]
  },
  {
   "cell_type": "code",
   "execution_count": 3,
   "id": "658ec63a-83c3-4e85-a506-6deb15bd4639",
   "metadata": {},
   "outputs": [],
   "source": [
    "from sklearn.preprocessing import StandardScaler\n",
    "\n",
    "# Initialize the StandardScaler\n",
    "scaler = StandardScaler()\n",
    "\n",
    "# Fit and transform the data simultaneously\n",
    "X = scaler.fit_transform(df.to_numpy())"
   ]
  },
  {
   "cell_type": "code",
   "execution_count": null,
   "id": "f2d20ec6-0c75-423f-8fce-7e4afe3580fd",
   "metadata": {},
   "outputs": [],
   "source": []
  },
  {
   "cell_type": "code",
   "execution_count": null,
   "id": "36ee4f7f-ec77-4162-b3fd-55105ba6a6cd",
   "metadata": {},
   "outputs": [],
   "source": []
  },
  {
   "cell_type": "markdown",
   "id": "ea3403be-2218-4c0e-b6ad-13f95e6a7ea5",
   "metadata": {},
   "source": [
    "# PCA"
   ]
  },
  {
   "cell_type": "code",
   "execution_count": 4,
   "id": "6425d11e-f549-4b89-ba6b-0853a2940ae2",
   "metadata": {},
   "outputs": [
    {
     "data": {
      "image/png": "[encoded data removed]",
      "text/plain": [
       "<Figure size 1000x600 with 1 Axes>"
      ]
     },
     "metadata": {},
     "output_type": "display_data"
    }
   ],
   "source": [
    "from sklearn.decomposition import PCA\n",
    "\n",
    "# Initialize PCA\n",
    "pca = PCA()\n",
    "\n",
    "# Fit PCA to the mean-scaled data\n",
    "pca.fit(X)\n",
    "\n",
    "# Plot the explained variance ratio\n",
    "plt.figure(figsize=(10, 6))\n",
    "plt.plot(range(1, len(pca.explained_variance_ratio_) + 1), pca.explained_variance_ratio_, marker='o', linestyle='-')\n",
    "plt.xlabel('Number of Components')\n",
    "plt.ylabel('Explained Variance Ratio')\n",
    "plt.title('Explained Variance Ratio vs. Number of Components')\n",
    "plt.grid(True)\n",
    "plt.show()"
   ]
  },
  {
   "cell_type": "markdown",
   "id": "70923f8e-4650-41d8-8d6d-02d9844dee31",
   "metadata": {},
   "source": [
    "NOTE: Keep 4 principal components."
   ]
  },
  {
   "cell_type": "code",
   "execution_count": 6,
   "id": "d0c04076-6a75-4c34-92d9-555d5042bf2e",
   "metadata": {},
   "outputs": [],
   "source": [
    "pca = PCA(n_components=4)\n",
    "\n",
    "# Fit PCA to the mean-scaled data and transform it\n",
    "X = pca.fit_transform(X)"
   ]
  },
  {
   "cell_type": "code",
   "execution_count": null,
   "id": "111380f9-513d-4488-9e7e-084e5cfb9b8d",
   "metadata": {},
   "outputs": [],
   "source": []
  },
  {
   "cell_type": "code",
   "execution_count": null,
   "id": "aac23e77-fefc-48be-9716-0322ab445a8e",
   "metadata": {},
   "outputs": [],
   "source": []
  },
  {
   "cell_type": "markdown",
   "id": "eb34343d-8f25-4f62-af31-ae67db202b50",
   "metadata": {},
   "source": [
    "# Clustering"
   ]
  },
  {
   "cell_type": "markdown",
   "id": "ff7111a9-822c-4c9d-a04a-0fd3061f94f4",
   "metadata": {},
   "source": [
    "### 1. K-Means"
   ]
  },
  {
   "cell_type": "code",
   "execution_count": 7,
   "id": "3be89c09-3377-422a-b599-12664b9d2237",
   "metadata": {},
   "outputs": [
    {
     "name": "stdout",
     "output_type": "stream",
     "text": [
      "k = 3\n",
      "\tj = 0\n",
      "\tj = 1\n",
      "\tj = 2\n",
      "\tj = 3\n",
      "\tj = 4\n",
      "\tj = 5\n",
      "\tj = 6\n",
      "\tj = 7\n",
      "\tj = 8\n",
      "\tj = 9\n",
      "k = 4\n",
      "\tj = 0\n",
      "\tj = 1\n",
      "\tj = 2\n",
      "\tj = 3\n",
      "\tj = 4\n",
      "\tj = 5\n",
      "\tj = 6\n",
      "\tj = 7\n",
      "\tj = 8\n",
      "\tj = 9\n",
      "k = 5\n",
      "\tj = 0\n",
      "\tj = 1\n",
      "\tj = 2\n",
      "\tj = 3\n",
      "\tj = 4\n",
      "\tj = 5\n",
      "\tj = 6\n",
      "\tj = 7\n",
      "\tj = 8\n",
      "\tj = 9\n",
      "k = 6\n",
      "\tj = 0\n",
      "\tj = 1\n",
      "\tj = 2\n",
      "\tj = 3\n",
      "\tj = 4\n",
      "\tj = 5\n",
      "\tj = 6\n",
      "\tj = 7\n",
      "\tj = 8\n",
      "\tj = 9\n",
      "k = 7\n",
      "\tj = 0\n",
      "\tj = 1\n",
      "\tj = 2\n",
      "\tj = 3\n",
      "\tj = 4\n",
      "\tj = 5\n",
      "\tj = 6\n",
      "\tj = 7\n",
      "\tj = 8\n",
      "\tj = 9\n",
      "k = 8\n",
      "\tj = 0\n",
      "\tj = 1\n",
      "\tj = 2\n",
      "\tj = 3\n",
      "\tj = 4\n",
      "\tj = 5\n",
      "\tj = 6\n",
      "\tj = 7\n",
      "\tj = 8\n",
      "\tj = 9\n",
      "k = 9\n",
      "\tj = 0\n",
      "\tj = 1\n",
      "\tj = 2\n",
      "\tj = 3\n",
      "\tj = 4\n",
      "\tj = 5\n",
      "\tj = 6\n",
      "\tj = 7\n",
      "\tj = 8\n",
      "\tj = 9\n"
     ]
    }
   ],
   "source": [
    "from sklearn.cluster import KMeans\n",
    "from sklearn.metrics import silhouette_score, calinski_harabasz_score, davies_bouldin_score\n",
    "\n",
    "# Store the evaluation scores\n",
    "inertia = []\n",
    "silhouette_scores = []\n",
    "ch_score = []\n",
    "davies_bouldin_scores = []\n",
    "\n",
    "# Try several K number of clusters\n",
    "k_values = range(3, 10)\n",
    "for k in k_values:\n",
    "    print(f\"k = {k}\")\n",
    "\n",
    "    # Storing the raw scores for each model\n",
    "    inertia_samples = []\n",
    "    silhouette_score_samples = []\n",
    "    ch_score_samples = []\n",
    "    db_score_samples = []\n",
    "\n",
    "    # Cluster 10 times to get the average scores\n",
    "    for _ in range(10):\n",
    "        print(f\"\\tj = {_}\")\n",
    "        \n",
    "        # Clustering Step\n",
    "        kmeans = KMeans(n_clusters=k, \n",
    "                        init='k-means++', \n",
    "                        algorithm='elkan',\n",
    "                        n_init=10)\n",
    "        kmeans.fit(X)\n",
    "\n",
    "        # Getting the cluster labels\n",
    "        labels = kmeans.labels_\n",
    "\n",
    "        # Get the Inertia (for elbow method)\n",
    "        inertia_samples.append(kmeans.inertia_)\n",
    "    \n",
    "        # Get the Silhouette score\n",
    "        silhouette_score_samples.append(silhouette_score(X, labels))\n",
    "\n",
    "        # Calinski-Harabasz score \n",
    "        ch_score_samples.append(calinski_harabasz_score(X, labels))\n",
    "        \n",
    "        # Davies Bouldin Score\n",
    "        db_score_samples.append(davies_bouldin_score(X, labels))\n",
    "\n",
    "\n",
    "    # Mean of the metrics\n",
    "    inertia.append(inertia_samples)\n",
    "    silhouette_scores.append(silhouette_score_samples)\n",
    "    ch_score.append(ch_score_samples)\n",
    "    davies_bouldin_scores.append(db_score_samples)"
   ]
  },
  {
   "cell_type": "code",
   "execution_count": 8,
   "id": "1dc7816c-6414-4561-b3cb-2594c0f67247",
   "metadata": {},
   "outputs": [
    {
     "data": {
      "text/plain": [
       "Text(0.5, 1.0, 'Davies Bouldin Score (ideal: close to zero)')"
      ]
     },
     "execution_count": 8,
     "metadata": {},
     "output_type": "execute_result"
    },
    {
     "data": {
      "image/png": "[encoded data removed]",
      "text/plain": [
       "<Figure size 1000x1000 with 4 Axes>"
      ]
     },
     "metadata": {},
     "output_type": "display_data"
    }
   ],
   "source": [
    "fig, axs = plt.subplots(2, 2, figsize=(10,10))\n",
    "\n",
    "axs[0, 0].plot(k_values, np.mean(inertia, axis=1), linestyle='-', marker='o')\n",
    "axs[0, 0].errorbar(k_values, np.mean(inertia, axis=1), yerr = np.std(inertia, axis=1, ddof=1), fmt ='none')\n",
    "axs[0, 0].set_title('Elbow Method')\n",
    "\n",
    "axs[0, 1].plot(k_values, np.mean(silhouette_scores, axis=1), linestyle='-', marker='o')\n",
    "axs[0, 1].errorbar(k_values, np.mean(silhouette_scores, axis=1), yerr = np.std(silhouette_scores, axis=1, ddof=1), fmt ='none')\n",
    "axs[0, 1].set_title('Silhouette Score (ideal: higher than .5)')\n",
    "\n",
    "axs[1, 0].plot(k_values, np.mean(ch_score, axis=1), linestyle='-', marker='o')\n",
    "axs[1, 0].errorbar(k_values, np.mean(ch_score, axis=1), yerr = np.std(ch_score, axis=1, ddof=1), fmt ='none')\n",
    "axs[1, 0].set_title('Calinski-Harabasz Score (ideal: large score)')\n",
    "\n",
    "axs[1, 1].plot(k_values, np.mean(davies_bouldin_scores, axis=1), linestyle='-', marker='o')\n",
    "axs[1, 1].errorbar(k_values, np.mean(davies_bouldin_scores, axis=1), yerr = np.std(davies_bouldin_scores, axis=1, ddof=1), fmt ='none')\n",
    "axs[1, 1].set_title('Davies Bouldin Score (ideal: close to zero)')"
   ]
  },
  {
   "cell_type": "markdown",
   "id": "c32c011c-6ff6-422c-9d3a-b53ab844f7d6",
   "metadata": {},
   "source": [
    "### NOTE: 5 clusters may be a good candidate (elbow at k=6, silhouette and Calinski-Harabasz scores peak at k=5, and the Davies Bouldin score is lowest at k=5)."
   ]
  },
  {
   "cell_type": "code",
   "execution_count": null,
   "id": "fec6452f-9263-45b9-b66f-366a16fd963d",
   "metadata": {},
   "outputs": [],
   "source": []
  },
  {
   "cell_type": "code",
   "execution_count": null,
   "id": "68a4dfa6-d9f3-4f88-ab1d-abc5d96d2a1b",
   "metadata": {},
   "outputs": [],
   "source": []
  },
  {
   "cell_type": "markdown",
   "id": "aab61fc0-cd68-4d1e-9de1-43cd78d7b2aa",
   "metadata": {},
   "source": [
    "# Final Clustering model\n",
    "\n",
    "We choose a K-Means model with ``k = 5``."
   ]
  },
  {
   "cell_type": "code",
   "execution_count": 9,
   "id": "33c0e5bc-bd0c-4078-a8d5-6c17a288a884",
   "metadata": {},
   "outputs": [
    {
     "data": {
      "text/html": [
       "<div>\n",
       "<style scoped>\n",
       "    .dataframe tbody tr th:only-of-type {\n",
       "        vertical-align: middle;\n",
       "    }\n",
       "\n",
       "    .dataframe tbody tr th {\n",
       "        vertical-align: top;\n",
       "    }\n",
       "\n",
       "    .dataframe thead th {\n",
       "        text-align: right;\n",
       "    }\n",
       "</style>\n",
       "<table border=\"1\" class=\"dataframe\">\n",
       "  <thead>\n",
       "    <tr style=\"text-align: right;\">\n",
       "      <th></th>\n",
       "      <th>bagsandluggage</th>\n",
       "      <th>beautyandhealth</th>\n",
       "      <th>capsandhats</th>\n",
       "      <th>drinkware</th>\n",
       "      <th>hoodiesandjackets</th>\n",
       "      <th>kidsapparel</th>\n",
       "      <th>petsupplies</th>\n",
       "      <th>sportsandfitness</th>\n",
       "      <th>cluster</th>\n",
       "    </tr>\n",
       "    <tr>\n",
       "      <th>CustomerID</th>\n",
       "      <th></th>\n",
       "      <th></th>\n",
       "      <th></th>\n",
       "      <th></th>\n",
       "      <th></th>\n",
       "      <th></th>\n",
       "      <th></th>\n",
       "      <th></th>\n",
       "      <th></th>\n",
       "    </tr>\n",
       "  </thead>\n",
       "  <tbody>\n",
       "    <tr>\n",
       "      <th>12347</th>\n",
       "      <td>0.568189</td>\n",
       "      <td>0.000000</td>\n",
       "      <td>0.388631</td>\n",
       "      <td>0.463974</td>\n",
       "      <td>0.366188</td>\n",
       "      <td>0.215148</td>\n",
       "      <td>0.0</td>\n",
       "      <td>0.361210</td>\n",
       "      <td>0</td>\n",
       "    </tr>\n",
       "    <tr>\n",
       "      <th>12348</th>\n",
       "      <td>0.000000</td>\n",
       "      <td>0.000000</td>\n",
       "      <td>0.000000</td>\n",
       "      <td>0.636778</td>\n",
       "      <td>0.000000</td>\n",
       "      <td>0.590556</td>\n",
       "      <td>0.0</td>\n",
       "      <td>0.495740</td>\n",
       "      <td>3</td>\n",
       "    </tr>\n",
       "    <tr>\n",
       "      <th>12350</th>\n",
       "      <td>0.000000</td>\n",
       "      <td>0.000000</td>\n",
       "      <td>0.974051</td>\n",
       "      <td>0.000000</td>\n",
       "      <td>0.000000</td>\n",
       "      <td>0.000000</td>\n",
       "      <td>0.0</td>\n",
       "      <td>0.226331</td>\n",
       "      <td>4</td>\n",
       "    </tr>\n",
       "    <tr>\n",
       "      <th>12356</th>\n",
       "      <td>0.203496</td>\n",
       "      <td>0.436919</td>\n",
       "      <td>0.000000</td>\n",
       "      <td>0.498515</td>\n",
       "      <td>0.393450</td>\n",
       "      <td>0.462330</td>\n",
       "      <td>0.0</td>\n",
       "      <td>0.388101</td>\n",
       "      <td>0</td>\n",
       "    </tr>\n",
       "    <tr>\n",
       "      <th>12359</th>\n",
       "      <td>0.000000</td>\n",
       "      <td>0.000000</td>\n",
       "      <td>1.000000</td>\n",
       "      <td>0.000000</td>\n",
       "      <td>0.000000</td>\n",
       "      <td>0.000000</td>\n",
       "      <td>0.0</td>\n",
       "      <td>0.000000</td>\n",
       "      <td>4</td>\n",
       "    </tr>\n",
       "  </tbody>\n",
       "</table>\n",
       "</div>"
      ],
      "text/plain": [
       "            bagsandluggage  beautyandhealth  capsandhats  drinkware  \\\n",
       "CustomerID                                                            \n",
       "12347             0.568189         0.000000     0.388631   0.463974   \n",
       "12348             0.000000         0.000000     0.000000   0.636778   \n",
       "12350             0.000000         0.000000     0.974051   0.000000   \n",
       "12356             0.203496         0.436919     0.000000   0.498515   \n",
       "12359             0.000000         0.000000     1.000000   0.000000   \n",
       "\n",
       "            hoodiesandjackets  kidsapparel  petsupplies  sportsandfitness  \\\n",
       "CustomerID                                                                  \n",
       "12347                0.366188     0.215148          0.0          0.361210   \n",
       "12348                0.000000     0.590556          0.0          0.495740   \n",
       "12350                0.000000     0.000000          0.0          0.226331   \n",
       "12356                0.393450     0.462330          0.0          0.388101   \n",
       "12359                0.000000     0.000000          0.0          0.000000   \n",
       "\n",
       "            cluster  \n",
       "CustomerID           \n",
       "12347             0  \n",
       "12348             3  \n",
       "12350             4  \n",
       "12356             0  \n",
       "12359             4  "
      ]
     },
     "execution_count": 9,
     "metadata": {},
     "output_type": "execute_result"
    }
   ],
   "source": [
    "from sklearn.cluster import KMeans\n",
    "from sklearn.metrics import silhouette_score, calinski_harabasz_score, davies_bouldin_score\n",
    "\n",
    "kmeans = KMeans(n_clusters=5, \n",
    "                init='k-means++', \n",
    "                algorithm='elkan',\n",
    "                n_init=10)\n",
    "kmeans.fit(X)\n",
    "\n",
    "# Put the labels in the original dataframe\n",
    "df['cluster'] = kmeans.labels_\n",
    "df.head()"
   ]
  },
  {
   "cell_type": "code",
   "execution_count": null,
   "id": "66bf0d23-353b-4efd-8afc-10e52a86dffd",
   "metadata": {},
   "outputs": [],
   "source": []
  },
  {
   "cell_type": "code",
   "execution_count": null,
   "id": "597e6c55-6d39-4511-bf8e-ee33be1c45a2",
   "metadata": {},
   "outputs": [],
   "source": []
  },
  {
   "cell_type": "markdown",
   "id": "50e30d82-47ee-4bf3-be2e-ef26b6006712",
   "metadata": {},
   "source": [
    "# Descriptives"
   ]
  },
  {
   "cell_type": "markdown",
   "id": "1be82c73-59e6-4b41-9257-116ea4157d46",
   "metadata": {},
   "source": [
    "### We load the counts dataframe"
   ]
  },
  {
   "cell_type": "code",
   "execution_count": 30,
   "id": "312a78c8-321d-4988-8391-250586938cfd",
   "metadata": {},
   "outputs": [
    {
     "data": {
      "text/html": [
       "<div>\n",
       "<style scoped>\n",
       "    .dataframe tbody tr th:only-of-type {\n",
       "        vertical-align: middle;\n",
       "    }\n",
       "\n",
       "    .dataframe tbody tr th {\n",
       "        vertical-align: top;\n",
       "    }\n",
       "\n",
       "    .dataframe thead th {\n",
       "        text-align: right;\n",
       "    }\n",
       "</style>\n",
       "<table border=\"1\" class=\"dataframe\">\n",
       "  <thead>\n",
       "    <tr style=\"text-align: right;\">\n",
       "      <th></th>\n",
       "      <th>Caps and Hats</th>\n",
       "      <th>Drinkware</th>\n",
       "      <th>Hoodies and Jackets</th>\n",
       "      <th>Kids Apparel</th>\n",
       "      <th>Tees</th>\n",
       "      <th>bags &amp; luggage</th>\n",
       "      <th>beauty &amp; health</th>\n",
       "      <th>home &amp; kitchen</th>\n",
       "      <th>office</th>\n",
       "      <th>pet supplies</th>\n",
       "      <th>sports &amp; fitness</th>\n",
       "      <th>cluster</th>\n",
       "    </tr>\n",
       "    <tr>\n",
       "      <th>CustomerID</th>\n",
       "      <th></th>\n",
       "      <th></th>\n",
       "      <th></th>\n",
       "      <th></th>\n",
       "      <th></th>\n",
       "      <th></th>\n",
       "      <th></th>\n",
       "      <th></th>\n",
       "      <th></th>\n",
       "      <th></th>\n",
       "      <th></th>\n",
       "      <th></th>\n",
       "    </tr>\n",
       "  </thead>\n",
       "  <tbody>\n",
       "    <tr>\n",
       "      <th>12347</th>\n",
       "      <td>1</td>\n",
       "      <td>1</td>\n",
       "      <td>1</td>\n",
       "      <td>1</td>\n",
       "      <td>1</td>\n",
       "      <td>1</td>\n",
       "      <td>0</td>\n",
       "      <td>1</td>\n",
       "      <td>1</td>\n",
       "      <td>0</td>\n",
       "      <td>1</td>\n",
       "      <td>0</td>\n",
       "    </tr>\n",
       "    <tr>\n",
       "      <th>12348</th>\n",
       "      <td>0</td>\n",
       "      <td>1</td>\n",
       "      <td>0</td>\n",
       "      <td>1</td>\n",
       "      <td>1</td>\n",
       "      <td>0</td>\n",
       "      <td>0</td>\n",
       "      <td>1</td>\n",
       "      <td>1</td>\n",
       "      <td>0</td>\n",
       "      <td>1</td>\n",
       "      <td>3</td>\n",
       "    </tr>\n",
       "    <tr>\n",
       "      <th>12350</th>\n",
       "      <td>1</td>\n",
       "      <td>0</td>\n",
       "      <td>0</td>\n",
       "      <td>0</td>\n",
       "      <td>1</td>\n",
       "      <td>0</td>\n",
       "      <td>0</td>\n",
       "      <td>1</td>\n",
       "      <td>0</td>\n",
       "      <td>0</td>\n",
       "      <td>1</td>\n",
       "      <td>4</td>\n",
       "    </tr>\n",
       "    <tr>\n",
       "      <th>12356</th>\n",
       "      <td>0</td>\n",
       "      <td>1</td>\n",
       "      <td>1</td>\n",
       "      <td>1</td>\n",
       "      <td>1</td>\n",
       "      <td>1</td>\n",
       "      <td>1</td>\n",
       "      <td>1</td>\n",
       "      <td>1</td>\n",
       "      <td>0</td>\n",
       "      <td>1</td>\n",
       "      <td>0</td>\n",
       "    </tr>\n",
       "    <tr>\n",
       "      <th>12359</th>\n",
       "      <td>1</td>\n",
       "      <td>0</td>\n",
       "      <td>0</td>\n",
       "      <td>0</td>\n",
       "      <td>1</td>\n",
       "      <td>0</td>\n",
       "      <td>0</td>\n",
       "      <td>1</td>\n",
       "      <td>0</td>\n",
       "      <td>0</td>\n",
       "      <td>0</td>\n",
       "      <td>4</td>\n",
       "    </tr>\n",
       "  </tbody>\n",
       "</table>\n",
       "</div>"
      ],
      "text/plain": [
       "            Caps and Hats  Drinkware  Hoodies and Jackets  Kids Apparel  Tees  \\\n",
       "CustomerID                                                                      \n",
       "12347                   1          1                    1             1     1   \n",
       "12348                   0          1                    0             1     1   \n",
       "12350                   1          0                    0             0     1   \n",
       "12356                   0          1                    1             1     1   \n",
       "12359                   1          0                    0             0     1   \n",
       "\n",
       "            bags & luggage  beauty & health  home & kitchen  office  \\\n",
       "CustomerID                                                            \n",
       "12347                    1                0               1       1   \n",
       "12348                    0                0               1       1   \n",
       "12350                    0                0               1       0   \n",
       "12356                    1                1               1       1   \n",
       "12359                    0                0               1       0   \n",
       "\n",
       "            pet supplies  sports & fitness  cluster  \n",
       "CustomerID                                           \n",
       "12347                  0                 1        0  \n",
       "12348                  0                 1        3  \n",
       "12350                  0                 1        4  \n",
       "12356                  0                 1        0  \n",
       "12359                  0                 0        4  "
      ]
     },
     "execution_count": 30,
     "metadata": {},
     "output_type": "execute_result"
    }
   ],
   "source": [
    "df_profiling = pd.read_parquet('../Data/features.parquet.gz').drop(['onesie', 'Gift Cards', 'car & motorbike'], axis=1)\n",
    "\n",
    "# Turn the counts into 1 or 0 (customer bought a product from the category or not)\n",
    "for col in df_profiling.columns:\n",
    "    df_profiling[col] = np.where(df_profiling[col] > 0, 1, 0)\n",
    "    \n",
    "df_profiling = pd.merge(df_profiling, df[['cluster']]\n",
    "                     ,how='inner'\n",
    "                     ,left_index=True\n",
    "                     ,right_index=True)\n",
    "df_profiling.head()"
   ]
  },
  {
   "cell_type": "code",
   "execution_count": 31,
   "id": "87302c99-81dc-4ea9-95de-126b0dc731b6",
   "metadata": {},
   "outputs": [
    {
     "data": {
      "text/plain": [
       "(1317, 12)"
      ]
     },
     "execution_count": 31,
     "metadata": {},
     "output_type": "execute_result"
    }
   ],
   "source": [
    "df_profiling.shape"
   ]
  },
  {
   "cell_type": "code",
   "execution_count": null,
   "id": "9589fccd-4ed8-4e85-994e-d368f83bcd66",
   "metadata": {},
   "outputs": [],
   "source": []
  },
  {
   "cell_type": "markdown",
   "id": "e39051df-9a43-43c9-afd9-bcb1dc7b9f6b",
   "metadata": {},
   "source": [
    "### Cluster membership"
   ]
  },
  {
   "cell_type": "code",
   "execution_count": 32,
   "id": "1c35eb10-4b83-4113-8b3f-972573e24685",
   "metadata": {},
   "outputs": [
    {
     "data": {
      "text/plain": [
       "<Axes: ylabel='cluster'>"
      ]
     },
     "execution_count": 32,
     "metadata": {},
     "output_type": "execute_result"
    },
    {
     "data": {
      "image/png": "[encoded data removed]",
      "text/plain": [
       "<Figure size 640x480 with 1 Axes>"
      ]
     },
     "metadata": {},
     "output_type": "display_data"
    }
   ],
   "source": [
    "df_profiling['cluster'].value_counts().sort_index().plot(kind='barh')"
   ]
  },
  {
   "cell_type": "code",
   "execution_count": null,
   "id": "279770cc-4c22-4fc3-bbab-62663ee9a146",
   "metadata": {},
   "outputs": [],
   "source": []
  },
  {
   "cell_type": "code",
   "execution_count": null,
   "id": "035c6c4c-f3cb-4dc0-83ec-e46cbea38ac1",
   "metadata": {},
   "outputs": [],
   "source": []
  },
  {
   "cell_type": "markdown",
   "id": "24f95abe-e068-4075-bf69-9ccf848c376f",
   "metadata": {},
   "source": [
    "### Proportions of each category per cluster"
   ]
  },
  {
   "cell_type": "markdown",
   "id": "a870ce17-3f7c-4cb5-9466-7bccfcba7432",
   "metadata": {},
   "source": [
    "### Cluster 0"
   ]
  },
  {
   "cell_type": "code",
   "execution_count": 33,
   "id": "7d586a76-8335-426d-8b27-a6fed4ca70a8",
   "metadata": {},
   "outputs": [
    {
     "data": {
      "text/html": [
       "<div>\n",
       "<style scoped>\n",
       "    .dataframe tbody tr th:only-of-type {\n",
       "        vertical-align: middle;\n",
       "    }\n",
       "\n",
       "    .dataframe tbody tr th {\n",
       "        vertical-align: top;\n",
       "    }\n",
       "\n",
       "    .dataframe thead th {\n",
       "        text-align: right;\n",
       "    }\n",
       "</style>\n",
       "<table border=\"1\" class=\"dataframe\">\n",
       "  <thead>\n",
       "    <tr style=\"text-align: right;\">\n",
       "      <th></th>\n",
       "      <th>Caps and Hats</th>\n",
       "      <th>Drinkware</th>\n",
       "      <th>Hoodies and Jackets</th>\n",
       "      <th>Kids Apparel</th>\n",
       "      <th>Tees</th>\n",
       "      <th>bags &amp; luggage</th>\n",
       "      <th>beauty &amp; health</th>\n",
       "      <th>home &amp; kitchen</th>\n",
       "      <th>office</th>\n",
       "      <th>pet supplies</th>\n",
       "      <th>sports &amp; fitness</th>\n",
       "    </tr>\n",
       "    <tr>\n",
       "      <th>cluster</th>\n",
       "      <th></th>\n",
       "      <th></th>\n",
       "      <th></th>\n",
       "      <th></th>\n",
       "      <th></th>\n",
       "      <th></th>\n",
       "      <th></th>\n",
       "      <th></th>\n",
       "      <th></th>\n",
       "      <th></th>\n",
       "      <th></th>\n",
       "    </tr>\n",
       "  </thead>\n",
       "  <tbody>\n",
       "    <tr>\n",
       "      <th>0</th>\n",
       "      <td>0.440633</td>\n",
       "      <td>0.949868</td>\n",
       "      <td>0.472296</td>\n",
       "      <td>0.390501</td>\n",
       "      <td>0.907652</td>\n",
       "      <td>0.74934</td>\n",
       "      <td>0.387863</td>\n",
       "      <td>0.878628</td>\n",
       "      <td>0.860158</td>\n",
       "      <td>0.237467</td>\n",
       "      <td>0.514512</td>\n",
       "    </tr>\n",
       "  </tbody>\n",
       "</table>\n",
       "</div>"
      ],
      "text/plain": [
       "         Caps and Hats  Drinkware  Hoodies and Jackets  Kids Apparel  \\\n",
       "cluster                                                                \n",
       "0             0.440633   0.949868             0.472296      0.390501   \n",
       "\n",
       "             Tees  bags & luggage  beauty & health  home & kitchen    office  \\\n",
       "cluster                                                                        \n",
       "0        0.907652         0.74934         0.387863        0.878628  0.860158   \n",
       "\n",
       "         pet supplies  sports & fitness  \n",
       "cluster                                  \n",
       "0            0.237467          0.514512  "
      ]
     },
     "execution_count": 33,
     "metadata": {},
     "output_type": "execute_result"
    }
   ],
   "source": [
    "df_profiling.groupby('cluster').sum().query('cluster == 0') / df_profiling['cluster'].value_counts().sort_index().loc[0]"
   ]
  },
  {
   "cell_type": "code",
   "execution_count": 34,
   "id": "133adb66-d0a2-472d-bb2e-e070173600eb",
   "metadata": {},
   "outputs": [
    {
     "data": {
      "text/plain": [
       "379"
      ]
     },
     "execution_count": 34,
     "metadata": {},
     "output_type": "execute_result"
    }
   ],
   "source": [
    "len(df_profiling.query('cluster == 0').index) # number of customers in this category"
   ]
  },
  {
   "cell_type": "markdown",
   "id": "763b9b98-709f-42b6-a455-12b6041df13c",
   "metadata": {},
   "source": [
    "Interested in: Tees, Home and Kitchen, Office, ``Drinkware`` and `Bags and Luggage`."
   ]
  },
  {
   "cell_type": "code",
   "execution_count": null,
   "id": "b6f4f2d6-848c-4840-ab99-5ffface4b33d",
   "metadata": {},
   "outputs": [],
   "source": []
  },
  {
   "cell_type": "code",
   "execution_count": null,
   "id": "dde558f8-9d6b-4593-ad71-2cb0ad5f8165",
   "metadata": {},
   "outputs": [],
   "source": []
  },
  {
   "cell_type": "markdown",
   "id": "46e67af0-0c0a-4d56-b3c5-e8df2a651931",
   "metadata": {},
   "source": [
    "### Cluster 1"
   ]
  },
  {
   "cell_type": "code",
   "execution_count": 35,
   "id": "6e3ce4f3-aac9-4aba-8f2d-a492a8dbb99a",
   "metadata": {},
   "outputs": [
    {
     "data": {
      "text/html": [
       "<div>\n",
       "<style scoped>\n",
       "    .dataframe tbody tr th:only-of-type {\n",
       "        vertical-align: middle;\n",
       "    }\n",
       "\n",
       "    .dataframe tbody tr th {\n",
       "        vertical-align: top;\n",
       "    }\n",
       "\n",
       "    .dataframe thead th {\n",
       "        text-align: right;\n",
       "    }\n",
       "</style>\n",
       "<table border=\"1\" class=\"dataframe\">\n",
       "  <thead>\n",
       "    <tr style=\"text-align: right;\">\n",
       "      <th></th>\n",
       "      <th>Caps and Hats</th>\n",
       "      <th>Drinkware</th>\n",
       "      <th>Hoodies and Jackets</th>\n",
       "      <th>Kids Apparel</th>\n",
       "      <th>Tees</th>\n",
       "      <th>bags &amp; luggage</th>\n",
       "      <th>beauty &amp; health</th>\n",
       "      <th>home &amp; kitchen</th>\n",
       "      <th>office</th>\n",
       "      <th>pet supplies</th>\n",
       "      <th>sports &amp; fitness</th>\n",
       "    </tr>\n",
       "    <tr>\n",
       "      <th>cluster</th>\n",
       "      <th></th>\n",
       "      <th></th>\n",
       "      <th></th>\n",
       "      <th></th>\n",
       "      <th></th>\n",
       "      <th></th>\n",
       "      <th></th>\n",
       "      <th></th>\n",
       "      <th></th>\n",
       "      <th></th>\n",
       "      <th></th>\n",
       "    </tr>\n",
       "  </thead>\n",
       "  <tbody>\n",
       "    <tr>\n",
       "      <th>1</th>\n",
       "      <td>0.488806</td>\n",
       "      <td>0.753731</td>\n",
       "      <td>0.947761</td>\n",
       "      <td>0.354478</td>\n",
       "      <td>0.925373</td>\n",
       "      <td>0.447761</td>\n",
       "      <td>0.376866</td>\n",
       "      <td>0.884328</td>\n",
       "      <td>0.80597</td>\n",
       "      <td>0.376866</td>\n",
       "      <td>0.600746</td>\n",
       "    </tr>\n",
       "  </tbody>\n",
       "</table>\n",
       "</div>"
      ],
      "text/plain": [
       "         Caps and Hats  Drinkware  Hoodies and Jackets  Kids Apparel  \\\n",
       "cluster                                                                \n",
       "1             0.488806   0.753731             0.947761      0.354478   \n",
       "\n",
       "             Tees  bags & luggage  beauty & health  home & kitchen   office  \\\n",
       "cluster                                                                       \n",
       "1        0.925373        0.447761         0.376866        0.884328  0.80597   \n",
       "\n",
       "         pet supplies  sports & fitness  \n",
       "cluster                                  \n",
       "1            0.376866          0.600746  "
      ]
     },
     "execution_count": 35,
     "metadata": {},
     "output_type": "execute_result"
    }
   ],
   "source": [
    "df_profiling.groupby('cluster').sum().query('cluster == 1') / df_profiling['cluster'].value_counts().sort_index().loc[1]"
   ]
  },
  {
   "cell_type": "code",
   "execution_count": 36,
   "id": "139458b7-0fdd-4185-bcc5-cd0cc25a99a6",
   "metadata": {},
   "outputs": [
    {
     "data": {
      "text/plain": [
       "268"
      ]
     },
     "execution_count": 36,
     "metadata": {},
     "output_type": "execute_result"
    }
   ],
   "source": [
    "len(df_profiling.query('cluster == 1').index)"
   ]
  },
  {
   "cell_type": "markdown",
   "id": "5213fdb8-4676-4512-95d5-5805d000c890",
   "metadata": {},
   "source": [
    "Interested in: Tees, Home and Kitchen, Office, ``Drinkware``, and ``Hoodies and Jackets``."
   ]
  },
  {
   "cell_type": "code",
   "execution_count": null,
   "id": "f5062d5e-cbae-4b30-bd86-866994c182ca",
   "metadata": {},
   "outputs": [],
   "source": []
  },
  {
   "cell_type": "markdown",
   "id": "a734578d-a986-41bc-af83-f5ca4ce85edc",
   "metadata": {},
   "source": [
    "### Cluster 2"
   ]
  },
  {
   "cell_type": "code",
   "execution_count": 37,
   "id": "8a814f10-24ed-4950-b101-075e40c1f98a",
   "metadata": {},
   "outputs": [
    {
     "data": {
      "text/html": [
       "<div>\n",
       "<style scoped>\n",
       "    .dataframe tbody tr th:only-of-type {\n",
       "        vertical-align: middle;\n",
       "    }\n",
       "\n",
       "    .dataframe tbody tr th {\n",
       "        vertical-align: top;\n",
       "    }\n",
       "\n",
       "    .dataframe thead th {\n",
       "        text-align: right;\n",
       "    }\n",
       "</style>\n",
       "<table border=\"1\" class=\"dataframe\">\n",
       "  <thead>\n",
       "    <tr style=\"text-align: right;\">\n",
       "      <th></th>\n",
       "      <th>Caps and Hats</th>\n",
       "      <th>Drinkware</th>\n",
       "      <th>Hoodies and Jackets</th>\n",
       "      <th>Kids Apparel</th>\n",
       "      <th>Tees</th>\n",
       "      <th>bags &amp; luggage</th>\n",
       "      <th>beauty &amp; health</th>\n",
       "      <th>home &amp; kitchen</th>\n",
       "      <th>office</th>\n",
       "      <th>pet supplies</th>\n",
       "      <th>sports &amp; fitness</th>\n",
       "    </tr>\n",
       "    <tr>\n",
       "      <th>cluster</th>\n",
       "      <th></th>\n",
       "      <th></th>\n",
       "      <th></th>\n",
       "      <th></th>\n",
       "      <th></th>\n",
       "      <th></th>\n",
       "      <th></th>\n",
       "      <th></th>\n",
       "      <th></th>\n",
       "      <th></th>\n",
       "      <th></th>\n",
       "    </tr>\n",
       "  </thead>\n",
       "  <tbody>\n",
       "    <tr>\n",
       "      <th>2</th>\n",
       "      <td>0.52</td>\n",
       "      <td>0.542222</td>\n",
       "      <td>0.386667</td>\n",
       "      <td>0.177778</td>\n",
       "      <td>0.884444</td>\n",
       "      <td>0.444444</td>\n",
       "      <td>1.0</td>\n",
       "      <td>0.968889</td>\n",
       "      <td>0.782222</td>\n",
       "      <td>0.111111</td>\n",
       "      <td>0.386667</td>\n",
       "    </tr>\n",
       "  </tbody>\n",
       "</table>\n",
       "</div>"
      ],
      "text/plain": [
       "         Caps and Hats  Drinkware  Hoodies and Jackets  Kids Apparel  \\\n",
       "cluster                                                                \n",
       "2                 0.52   0.542222             0.386667      0.177778   \n",
       "\n",
       "             Tees  bags & luggage  beauty & health  home & kitchen    office  \\\n",
       "cluster                                                                        \n",
       "2        0.884444        0.444444              1.0        0.968889  0.782222   \n",
       "\n",
       "         pet supplies  sports & fitness  \n",
       "cluster                                  \n",
       "2            0.111111          0.386667  "
      ]
     },
     "execution_count": 37,
     "metadata": {},
     "output_type": "execute_result"
    }
   ],
   "source": [
    "df_profiling.groupby('cluster').sum().query('cluster == 2') / df_profiling['cluster'].value_counts().sort_index().loc[2]"
   ]
  },
  {
   "cell_type": "code",
   "execution_count": 38,
   "id": "b99675b5-3c85-4d5e-a687-df61c9872b17",
   "metadata": {},
   "outputs": [
    {
     "data": {
      "text/plain": [
       "225"
      ]
     },
     "execution_count": 38,
     "metadata": {},
     "output_type": "execute_result"
    }
   ],
   "source": [
    "len(df_profiling.query('cluster == 2').index)"
   ]
  },
  {
   "cell_type": "markdown",
   "id": "0b2651f9-a315-4623-a1fd-f62efcf67c65",
   "metadata": {},
   "source": [
    "Interested in: Tees, Home and Kitchen, Office, and ``Beauty & Health``."
   ]
  },
  {
   "cell_type": "code",
   "execution_count": null,
   "id": "7101a642-e06d-4787-9ac9-a672b54cdb26",
   "metadata": {},
   "outputs": [],
   "source": []
  },
  {
   "cell_type": "code",
   "execution_count": null,
   "id": "c062fbb7-5445-43d3-be9a-aa4fb514a44d",
   "metadata": {},
   "outputs": [],
   "source": []
  },
  {
   "cell_type": "markdown",
   "id": "649b9c37-be21-4b8f-99f9-7543b80b2ebd",
   "metadata": {},
   "source": [
    "### Cluster 3"
   ]
  },
  {
   "cell_type": "code",
   "execution_count": 39,
   "id": "b5acfe61-3005-4bd2-ac6e-675c3d5974ae",
   "metadata": {},
   "outputs": [
    {
     "data": {
      "text/html": [
       "<div>\n",
       "<style scoped>\n",
       "    .dataframe tbody tr th:only-of-type {\n",
       "        vertical-align: middle;\n",
       "    }\n",
       "\n",
       "    .dataframe tbody tr th {\n",
       "        vertical-align: top;\n",
       "    }\n",
       "\n",
       "    .dataframe thead th {\n",
       "        text-align: right;\n",
       "    }\n",
       "</style>\n",
       "<table border=\"1\" class=\"dataframe\">\n",
       "  <thead>\n",
       "    <tr style=\"text-align: right;\">\n",
       "      <th></th>\n",
       "      <th>Caps and Hats</th>\n",
       "      <th>Drinkware</th>\n",
       "      <th>Hoodies and Jackets</th>\n",
       "      <th>Kids Apparel</th>\n",
       "      <th>Tees</th>\n",
       "      <th>bags &amp; luggage</th>\n",
       "      <th>beauty &amp; health</th>\n",
       "      <th>home &amp; kitchen</th>\n",
       "      <th>office</th>\n",
       "      <th>pet supplies</th>\n",
       "      <th>sports &amp; fitness</th>\n",
       "    </tr>\n",
       "    <tr>\n",
       "      <th>cluster</th>\n",
       "      <th></th>\n",
       "      <th></th>\n",
       "      <th></th>\n",
       "      <th></th>\n",
       "      <th></th>\n",
       "      <th></th>\n",
       "      <th></th>\n",
       "      <th></th>\n",
       "      <th></th>\n",
       "      <th></th>\n",
       "      <th></th>\n",
       "    </tr>\n",
       "  </thead>\n",
       "  <tbody>\n",
       "    <tr>\n",
       "      <th>3</th>\n",
       "      <td>0.392857</td>\n",
       "      <td>0.607143</td>\n",
       "      <td>0.469388</td>\n",
       "      <td>0.346939</td>\n",
       "      <td>0.918367</td>\n",
       "      <td>0.454082</td>\n",
       "      <td>0.352041</td>\n",
       "      <td>0.897959</td>\n",
       "      <td>0.821429</td>\n",
       "      <td>0.071429</td>\n",
       "      <td>1.0</td>\n",
       "    </tr>\n",
       "  </tbody>\n",
       "</table>\n",
       "</div>"
      ],
      "text/plain": [
       "         Caps and Hats  Drinkware  Hoodies and Jackets  Kids Apparel  \\\n",
       "cluster                                                                \n",
       "3             0.392857   0.607143             0.469388      0.346939   \n",
       "\n",
       "             Tees  bags & luggage  beauty & health  home & kitchen    office  \\\n",
       "cluster                                                                        \n",
       "3        0.918367        0.454082         0.352041        0.897959  0.821429   \n",
       "\n",
       "         pet supplies  sports & fitness  \n",
       "cluster                                  \n",
       "3            0.071429               1.0  "
      ]
     },
     "execution_count": 39,
     "metadata": {},
     "output_type": "execute_result"
    }
   ],
   "source": [
    "df_profiling.groupby('cluster').sum().query('cluster == 3') / df_profiling['cluster'].value_counts().sort_index().loc[3]"
   ]
  },
  {
   "cell_type": "code",
   "execution_count": 28,
   "id": "c7502c9c-2259-468d-9ad2-f4858e50603a",
   "metadata": {},
   "outputs": [
    {
     "data": {
      "text/plain": [
       "196"
      ]
     },
     "execution_count": 28,
     "metadata": {},
     "output_type": "execute_result"
    }
   ],
   "source": [
    "len(df_profiling.query('cluster == 3').index)"
   ]
  },
  {
   "cell_type": "markdown",
   "id": "900c6f95-d38f-4fff-80f7-2b1928ab24d3",
   "metadata": {},
   "source": [
    "Interested in: Tees, Home and Kitchen, Office,  ``Sports and Fitness``. Mid interest in ``Drinkware``."
   ]
  },
  {
   "cell_type": "code",
   "execution_count": null,
   "id": "b4c443c4-9265-4aae-bcdc-5f1e098009b7",
   "metadata": {},
   "outputs": [],
   "source": []
  },
  {
   "cell_type": "code",
   "execution_count": null,
   "id": "29256490-6304-4c11-92f7-501377437be9",
   "metadata": {},
   "outputs": [],
   "source": []
  },
  {
   "cell_type": "markdown",
   "id": "9f41a079-a849-4e43-84b3-9b7a03979be0",
   "metadata": {},
   "source": [
    "### Cluster 4"
   ]
  },
  {
   "cell_type": "code",
   "execution_count": 40,
   "id": "4587f4c7-de5c-4421-b643-27f8006539b0",
   "metadata": {},
   "outputs": [
    {
     "data": {
      "text/html": [
       "<div>\n",
       "<style scoped>\n",
       "    .dataframe tbody tr th:only-of-type {\n",
       "        vertical-align: middle;\n",
       "    }\n",
       "\n",
       "    .dataframe tbody tr th {\n",
       "        vertical-align: top;\n",
       "    }\n",
       "\n",
       "    .dataframe thead th {\n",
       "        text-align: right;\n",
       "    }\n",
       "</style>\n",
       "<table border=\"1\" class=\"dataframe\">\n",
       "  <thead>\n",
       "    <tr style=\"text-align: right;\">\n",
       "      <th></th>\n",
       "      <th>Caps and Hats</th>\n",
       "      <th>Drinkware</th>\n",
       "      <th>Hoodies and Jackets</th>\n",
       "      <th>Kids Apparel</th>\n",
       "      <th>Tees</th>\n",
       "      <th>bags &amp; luggage</th>\n",
       "      <th>beauty &amp; health</th>\n",
       "      <th>home &amp; kitchen</th>\n",
       "      <th>office</th>\n",
       "      <th>pet supplies</th>\n",
       "      <th>sports &amp; fitness</th>\n",
       "    </tr>\n",
       "    <tr>\n",
       "      <th>cluster</th>\n",
       "      <th></th>\n",
       "      <th></th>\n",
       "      <th></th>\n",
       "      <th></th>\n",
       "      <th></th>\n",
       "      <th></th>\n",
       "      <th></th>\n",
       "      <th></th>\n",
       "      <th></th>\n",
       "      <th></th>\n",
       "      <th></th>\n",
       "    </tr>\n",
       "  </thead>\n",
       "  <tbody>\n",
       "    <tr>\n",
       "      <th>4</th>\n",
       "      <td>0.698795</td>\n",
       "      <td>0.546185</td>\n",
       "      <td>0.48996</td>\n",
       "      <td>0.823293</td>\n",
       "      <td>0.875502</td>\n",
       "      <td>0.409639</td>\n",
       "      <td>0.297189</td>\n",
       "      <td>0.879518</td>\n",
       "      <td>0.771084</td>\n",
       "      <td>0.2249</td>\n",
       "      <td>0.445783</td>\n",
       "    </tr>\n",
       "  </tbody>\n",
       "</table>\n",
       "</div>"
      ],
      "text/plain": [
       "         Caps and Hats  Drinkware  Hoodies and Jackets  Kids Apparel  \\\n",
       "cluster                                                                \n",
       "4             0.698795   0.546185              0.48996      0.823293   \n",
       "\n",
       "             Tees  bags & luggage  beauty & health  home & kitchen    office  \\\n",
       "cluster                                                                        \n",
       "4        0.875502        0.409639         0.297189        0.879518  0.771084   \n",
       "\n",
       "         pet supplies  sports & fitness  \n",
       "cluster                                  \n",
       "4              0.2249          0.445783  "
      ]
     },
     "execution_count": 40,
     "metadata": {},
     "output_type": "execute_result"
    }
   ],
   "source": [
    "df_profiling.groupby('cluster').sum().query('cluster == 4') / df_profiling['cluster'].value_counts().sort_index().loc[4]"
   ]
  },
  {
   "cell_type": "code",
   "execution_count": null,
   "id": "2fc113c5-2cee-4ca6-a443-aa2b9e3d9e48",
   "metadata": {},
   "outputs": [],
   "source": [
    "len(df_profiling.query('cluster == 4').index)"
   ]
  },
  {
   "cell_type": "markdown",
   "id": "dacea349-1bdb-43e0-ab82-e17ecda73c76",
   "metadata": {},
   "source": [
    "Interested in: Tees, Home and Kitchen, Office,  ``Caps and Hats`` and ``Kids Apparel``."
   ]
  },
  {
   "cell_type": "code",
   "execution_count": null,
   "id": "74e320b4-f47a-4670-ba9a-fcc4027ac216",
   "metadata": {},
   "outputs": [],
   "source": []
  },
  {
   "cell_type": "code",
   "execution_count": null,
   "id": "4b7468c5-e342-4eea-b0c6-db114bbc574f",
   "metadata": {},
   "outputs": [],
   "source": []
  },
  {
   "cell_type": "markdown",
   "id": "9522f456-b9cb-4d6c-a721-d4af0326e1eb",
   "metadata": {},
   "source": [
    "# Save the KMeans model using Joblib"
   ]
  },
  {
   "cell_type": "code",
   "execution_count": 43,
   "id": "23a94687-d4d1-4f6e-9cf5-29cb1a4f8324",
   "metadata": {},
   "outputs": [
    {
     "data": {
      "text/plain": [
       "['../Model/kmeans_model_5clusters.joblib']"
      ]
     },
     "execution_count": 43,
     "metadata": {},
     "output_type": "execute_result"
    }
   ],
   "source": [
    "from joblib import dump\n",
    "dump(kmeans, '../Model/kmeans_model_5clusters.joblib')"
   ]
  },
  {
   "cell_type": "code",
   "execution_count": null,
   "id": "abf90115-9dbc-483e-9b79-f8e70a8ac10a",
   "metadata": {},
   "outputs": [],
   "source": []
  },
  {
   "cell_type": "code",
   "execution_count": null,
   "id": "0d562449-a6a1-4cba-93ca-4e08c5cc19f1",
   "metadata": {},
   "outputs": [],
   "source": []
  },
  {
   "cell_type": "markdown",
   "id": "81ba6750-bbe2-4480-9d05-7be4a57e2fc6",
   "metadata": {},
   "source": [
    "# To read the model just do\n",
    "\n",
    "```python\n",
    "from joblib import dump, load\n",
    "\n",
    "kmeans = load('kmeans_model.joblib')\n",
    "y_pred = kmeans.predict(X_new)\n",
    "```"
   ]
  }
 ],
 "metadata": {
  "kernelspec": {
   "display_name": "Python 3 (ipykernel)",
   "language": "python",
   "name": "python3"
  },
  "language_info": {
   "codemirror_mode": {
    "name": "ipython",
    "version": 3
   },
   "file_extension": ".py",
   "mimetype": "text/x-python",
   "name": "python",
   "nbconvert_exporter": "python",
   "pygments_lexer": "ipython3",
   "version": "3.11.2"
  }
 },
 "nbformat": 4,
 "nbformat_minor": 5
}
