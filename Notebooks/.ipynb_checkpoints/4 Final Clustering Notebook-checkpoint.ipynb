{
 "cells": [
  {
   "cell_type": "code",
   "execution_count": 1,
   "id": "ef4ceb21-159b-4dbb-9db0-9b0ed0e4f141",
   "metadata": {},
   "outputs": [],
   "source": [
    "import pandas as pd\n",
    "import numpy as np\n",
    "import matplotlib.pyplot as plt"
   ]
  },
  {
   "cell_type": "markdown",
   "id": "2d2e259f-d720-48f7-b99b-12e9aac3a313",
   "metadata": {},
   "source": [
    "# 1. Loading the data"
   ]
  },
  {
   "cell_type": "code",
   "execution_count": 3,
   "id": "bf7f6b7c-a1c2-4a67-88cc-ff17bfd19d9d",
   "metadata": {},
   "outputs": [
    {
     "data": {
      "text/html": [
       "<div>\n",
       "<style scoped>\n",
       "    .dataframe tbody tr th:only-of-type {\n",
       "        vertical-align: middle;\n",
       "    }\n",
       "\n",
       "    .dataframe tbody tr th {\n",
       "        vertical-align: top;\n",
       "    }\n",
       "\n",
       "    .dataframe thead th {\n",
       "        text-align: right;\n",
       "    }\n",
       "</style>\n",
       "<table border=\"1\" class=\"dataframe\">\n",
       "  <thead>\n",
       "    <tr style=\"text-align: right;\">\n",
       "      <th></th>\n",
       "      <th>bagsandluggage</th>\n",
       "      <th>beautyandhealth</th>\n",
       "      <th>capsandhats</th>\n",
       "      <th>drinkware</th>\n",
       "      <th>hoodiesandjackets</th>\n",
       "      <th>kidsapparel</th>\n",
       "      <th>petsupplies</th>\n",
       "      <th>sportsandfitness</th>\n",
       "    </tr>\n",
       "    <tr>\n",
       "      <th>CustomerID</th>\n",
       "      <th></th>\n",
       "      <th></th>\n",
       "      <th></th>\n",
       "      <th></th>\n",
       "      <th></th>\n",
       "      <th></th>\n",
       "      <th></th>\n",
       "      <th></th>\n",
       "    </tr>\n",
       "  </thead>\n",
       "  <tbody>\n",
       "    <tr>\n",
       "      <th>12347</th>\n",
       "      <td>0.568189</td>\n",
       "      <td>0.000000</td>\n",
       "      <td>0.388631</td>\n",
       "      <td>0.463974</td>\n",
       "      <td>0.366188</td>\n",
       "      <td>0.215148</td>\n",
       "      <td>0.0</td>\n",
       "      <td>0.361210</td>\n",
       "    </tr>\n",
       "    <tr>\n",
       "      <th>12348</th>\n",
       "      <td>0.000000</td>\n",
       "      <td>0.000000</td>\n",
       "      <td>0.000000</td>\n",
       "      <td>0.636778</td>\n",
       "      <td>0.000000</td>\n",
       "      <td>0.590556</td>\n",
       "      <td>0.0</td>\n",
       "      <td>0.495740</td>\n",
       "    </tr>\n",
       "    <tr>\n",
       "      <th>12350</th>\n",
       "      <td>0.000000</td>\n",
       "      <td>0.000000</td>\n",
       "      <td>0.974051</td>\n",
       "      <td>0.000000</td>\n",
       "      <td>0.000000</td>\n",
       "      <td>0.000000</td>\n",
       "      <td>0.0</td>\n",
       "      <td>0.226331</td>\n",
       "    </tr>\n",
       "    <tr>\n",
       "      <th>12356</th>\n",
       "      <td>0.203496</td>\n",
       "      <td>0.436919</td>\n",
       "      <td>0.000000</td>\n",
       "      <td>0.498515</td>\n",
       "      <td>0.393450</td>\n",
       "      <td>0.462330</td>\n",
       "      <td>0.0</td>\n",
       "      <td>0.388101</td>\n",
       "    </tr>\n",
       "    <tr>\n",
       "      <th>12359</th>\n",
       "      <td>0.000000</td>\n",
       "      <td>0.000000</td>\n",
       "      <td>1.000000</td>\n",
       "      <td>0.000000</td>\n",
       "      <td>0.000000</td>\n",
       "      <td>0.000000</td>\n",
       "      <td>0.0</td>\n",
       "      <td>0.000000</td>\n",
       "    </tr>\n",
       "  </tbody>\n",
       "</table>\n",
       "</div>"
      ],
      "text/plain": [
       "            bagsandluggage  beautyandhealth  capsandhats  drinkware  \\\n",
       "CustomerID                                                            \n",
       "12347             0.568189         0.000000     0.388631   0.463974   \n",
       "12348             0.000000         0.000000     0.000000   0.636778   \n",
       "12350             0.000000         0.000000     0.974051   0.000000   \n",
       "12356             0.203496         0.436919     0.000000   0.498515   \n",
       "12359             0.000000         0.000000     1.000000   0.000000   \n",
       "\n",
       "            hoodiesandjackets  kidsapparel  petsupplies  sportsandfitness  \n",
       "CustomerID                                                                 \n",
       "12347                0.366188     0.215148          0.0          0.361210  \n",
       "12348                0.000000     0.590556          0.0          0.495740  \n",
       "12350                0.000000     0.000000          0.0          0.226331  \n",
       "12356                0.393450     0.462330          0.0          0.388101  \n",
       "12359                0.000000     0.000000          0.0          0.000000  "
      ]
     },
     "execution_count": 3,
     "metadata": {},
     "output_type": "execute_result"
    }
   ],
   "source": [
    "df = pd.read_parquet('../Data/features_tfidf_removed_categories.parquet.gz')\n",
    "df.head()"
   ]
  },
  {
   "cell_type": "markdown",
   "id": "641b9f5c-a86c-4ca2-b782-b3864b0a6dc6",
   "metadata": {},
   "source": [
    "# 2. Feature Transformation Pipeline"
   ]
  },
  {
   "cell_type": "code",
   "execution_count": 4,
   "id": "f851b132-5342-4537-803f-f569ffcba04e",
   "metadata": {},
   "outputs": [],
   "source": [
    "from sklearn.pipeline import Pipeline\n",
    "from sklearn.preprocessing import StandardScaler\n",
    "from sklearn.decomposition import PCA\n",
    "from sklearn.cluster import KMeans\n",
    "\n",
    "# Clustering data\n",
    "X = df.to_numpy()\n",
    "\n",
    "# Create the pipeline with three steps\n",
    "feat_trans_pipeline = Pipeline([\n",
    "    ('scaler', StandardScaler()),    # Step 1: Standard Scaling\n",
    "    #('pca', PCA(n_components=7))    # Step 2: PCA with 7 components\n",
    "])\n",
    "\n",
    "# You can now use this pipeline to fit your data and make predictions\n",
    "X_transformed = feat_trans_pipeline.fit_transform(X) "
   ]
  },
  {
   "cell_type": "markdown",
   "id": "9c128df0-7d24-4114-bac9-24f365751636",
   "metadata": {},
   "source": [
    "### Directions of the eigenvectors"
   ]
  },
  {
   "cell_type": "code",
   "execution_count": null,
   "id": "88f9daf9-9be9-4c13-8a6b-8bd44bab332f",
   "metadata": {},
   "outputs": [],
   "source": []
  },
  {
   "cell_type": "code",
   "execution_count": null,
   "id": "76dba402-e0e2-488d-8a5b-b768c753ab93",
   "metadata": {},
   "outputs": [],
   "source": []
  },
  {
   "cell_type": "markdown",
   "id": "90796789-fbc5-41cc-8233-e9e122080d08",
   "metadata": {},
   "source": [
    "# 3. Clustering Step"
   ]
  },
  {
   "cell_type": "code",
   "execution_count": 5,
   "id": "adf5b821-2958-4e9f-8e25-e754f57d8d23",
   "metadata": {},
   "outputs": [
    {
     "data": {
      "text/html": [
       "<div>\n",
       "<style scoped>\n",
       "    .dataframe tbody tr th:only-of-type {\n",
       "        vertical-align: middle;\n",
       "    }\n",
       "\n",
       "    .dataframe tbody tr th {\n",
       "        vertical-align: top;\n",
       "    }\n",
       "\n",
       "    .dataframe thead th {\n",
       "        text-align: right;\n",
       "    }\n",
       "</style>\n",
       "<table border=\"1\" class=\"dataframe\">\n",
       "  <thead>\n",
       "    <tr style=\"text-align: right;\">\n",
       "      <th></th>\n",
       "      <th>bagsandluggage</th>\n",
       "      <th>beautyandhealth</th>\n",
       "      <th>capsandhats</th>\n",
       "      <th>drinkware</th>\n",
       "      <th>hoodiesandjackets</th>\n",
       "      <th>kidsapparel</th>\n",
       "      <th>petsupplies</th>\n",
       "      <th>sportsandfitness</th>\n",
       "      <th>cluster</th>\n",
       "    </tr>\n",
       "    <tr>\n",
       "      <th>CustomerID</th>\n",
       "      <th></th>\n",
       "      <th></th>\n",
       "      <th></th>\n",
       "      <th></th>\n",
       "      <th></th>\n",
       "      <th></th>\n",
       "      <th></th>\n",
       "      <th></th>\n",
       "      <th></th>\n",
       "    </tr>\n",
       "  </thead>\n",
       "  <tbody>\n",
       "    <tr>\n",
       "      <th>12347</th>\n",
       "      <td>0.568189</td>\n",
       "      <td>0.000000</td>\n",
       "      <td>0.388631</td>\n",
       "      <td>0.463974</td>\n",
       "      <td>0.366188</td>\n",
       "      <td>0.215148</td>\n",
       "      <td>0.0</td>\n",
       "      <td>0.361210</td>\n",
       "      <td>5</td>\n",
       "    </tr>\n",
       "    <tr>\n",
       "      <th>12348</th>\n",
       "      <td>0.000000</td>\n",
       "      <td>0.000000</td>\n",
       "      <td>0.000000</td>\n",
       "      <td>0.636778</td>\n",
       "      <td>0.000000</td>\n",
       "      <td>0.590556</td>\n",
       "      <td>0.0</td>\n",
       "      <td>0.495740</td>\n",
       "      <td>6</td>\n",
       "    </tr>\n",
       "    <tr>\n",
       "      <th>12350</th>\n",
       "      <td>0.000000</td>\n",
       "      <td>0.000000</td>\n",
       "      <td>0.974051</td>\n",
       "      <td>0.000000</td>\n",
       "      <td>0.000000</td>\n",
       "      <td>0.000000</td>\n",
       "      <td>0.0</td>\n",
       "      <td>0.226331</td>\n",
       "      <td>2</td>\n",
       "    </tr>\n",
       "    <tr>\n",
       "      <th>12356</th>\n",
       "      <td>0.203496</td>\n",
       "      <td>0.436919</td>\n",
       "      <td>0.000000</td>\n",
       "      <td>0.498515</td>\n",
       "      <td>0.393450</td>\n",
       "      <td>0.462330</td>\n",
       "      <td>0.0</td>\n",
       "      <td>0.388101</td>\n",
       "      <td>6</td>\n",
       "    </tr>\n",
       "    <tr>\n",
       "      <th>12359</th>\n",
       "      <td>0.000000</td>\n",
       "      <td>0.000000</td>\n",
       "      <td>1.000000</td>\n",
       "      <td>0.000000</td>\n",
       "      <td>0.000000</td>\n",
       "      <td>0.000000</td>\n",
       "      <td>0.0</td>\n",
       "      <td>0.000000</td>\n",
       "      <td>2</td>\n",
       "    </tr>\n",
       "  </tbody>\n",
       "</table>\n",
       "</div>"
      ],
      "text/plain": [
       "            bagsandluggage  beautyandhealth  capsandhats  drinkware  \\\n",
       "CustomerID                                                            \n",
       "12347             0.568189         0.000000     0.388631   0.463974   \n",
       "12348             0.000000         0.000000     0.000000   0.636778   \n",
       "12350             0.000000         0.000000     0.974051   0.000000   \n",
       "12356             0.203496         0.436919     0.000000   0.498515   \n",
       "12359             0.000000         0.000000     1.000000   0.000000   \n",
       "\n",
       "            hoodiesandjackets  kidsapparel  petsupplies  sportsandfitness  \\\n",
       "CustomerID                                                                  \n",
       "12347                0.366188     0.215148          0.0          0.361210   \n",
       "12348                0.000000     0.590556          0.0          0.495740   \n",
       "12350                0.000000     0.000000          0.0          0.226331   \n",
       "12356                0.393450     0.462330          0.0          0.388101   \n",
       "12359                0.000000     0.000000          0.0          0.000000   \n",
       "\n",
       "            cluster  \n",
       "CustomerID           \n",
       "12347             5  \n",
       "12348             6  \n",
       "12350             2  \n",
       "12356             6  \n",
       "12359             2  "
      ]
     },
     "execution_count": 5,
     "metadata": {},
     "output_type": "execute_result"
    }
   ],
   "source": [
    "from sklearn.cluster import KMeans\n",
    "\n",
    "kmeans = KMeans(n_clusters=8, \n",
    "                init='k-means++', \n",
    "                algorithm='elkan',\n",
    "                n_init=10)\n",
    "kmeans.fit(X_transformed)\n",
    "\n",
    "# Put the labels in the original dataframe\n",
    "df['cluster'] = kmeans.labels_\n",
    "df.head()"
   ]
  },
  {
   "cell_type": "markdown",
   "id": "e1439565-f4d3-420b-b266-f5c4cf923d9b",
   "metadata": {},
   "source": [
    "# 4. Preliminary EDA on the clusters"
   ]
  },
  {
   "cell_type": "markdown",
   "id": "6851cdef-ab6f-454d-a5de-91d7f2e024e8",
   "metadata": {},
   "source": [
    "### 4.1 cluster sizes"
   ]
  },
  {
   "cell_type": "code",
   "execution_count": 6,
   "id": "6969b9be-0fbd-46e0-9a8b-52e993050b21",
   "metadata": {},
   "outputs": [
    {
     "data": {
      "image/png": "[encoded data removed]",
      "text/plain": [
       "<Figure size 640x480 with 1 Axes>"
      ]
     },
     "metadata": {},
     "output_type": "display_data"
    }
   ],
   "source": [
    "df_profiling = pd.read_parquet('../Data/features.parquet.gz').drop(['onesie', 'Gift Cards', 'car & motorbike'], axis=1)\n",
    "\n",
    "# Turn the counts into 1 or 0 (customer bought a product from the category or not)\n",
    "for col in df_profiling.columns:\n",
    "    df_profiling[col] = np.where(df_profiling[col] > 0, 1, 0)\n",
    "    \n",
    "df_profiling = pd.merge(df_profiling, df[['cluster']]\n",
    "                     ,how='inner'\n",
    "                     ,left_index=True\n",
    "                     ,right_index=True)\n",
    "\n",
    "counts = pd.DataFrame(df_profiling['cluster'].value_counts().sort_index(ascending=False))\n",
    "ax = counts.plot(kind='barh')\n",
    "\n",
    "ax.set_xlabel('Number of Customers')\n",
    "ax.set_xlim(0, 350)\n",
    "\n",
    "for index, value in enumerate(counts['count']):\n",
    "    ax.text(value, index, str(value))\n",
    "\n",
    "# Show the plot\n",
    "plt.show()"
   ]
  },
  {
   "cell_type": "markdown",
   "id": "c605c31c-69ed-4425-9f03-5c260e13a5db",
   "metadata": {},
   "source": [
    "### 4.2 Interests by category"
   ]
  },
  {
   "cell_type": "code",
   "execution_count": 7,
   "id": "8beb80ee-a58f-4301-9713-a3a1201fbe9c",
   "metadata": {},
   "outputs": [],
   "source": [
    "def proportions(cluster_num):\n",
    "    cluster_num = int(cluster_num)\n",
    "    print(f\"Number of customers in cluster {cluster_num}: {df_profiling['cluster'].value_counts().sort_index().loc[0]}\")\n",
    "    return df_profiling.groupby('cluster').sum().query(f'cluster == {cluster_num}') / df_profiling['cluster'].value_counts().sort_index().loc[cluster_num]"
   ]
  },
  {
   "cell_type": "code",
   "execution_count": null,
   "id": "1e888a35-a35f-42c1-a46b-62079ac2994b",
   "metadata": {},
   "outputs": [],
   "source": []
  },
  {
   "cell_type": "code",
   "execution_count": null,
   "id": "0dbd9594-e9d0-497e-8256-872bb974b11f",
   "metadata": {},
   "outputs": [],
   "source": []
  },
  {
   "cell_type": "markdown",
   "id": "684c6524-a440-415e-8567-d2f2b71fa1bd",
   "metadata": {},
   "source": [
    "### Cluster 0"
   ]
  },
  {
   "cell_type": "code",
   "execution_count": 8,
   "id": "814d560e-bda8-4179-b44f-7e404471a762",
   "metadata": {},
   "outputs": [
    {
     "name": "stdout",
     "output_type": "stream",
     "text": [
      "Number of customers in cluster 0: 100\n"
     ]
    },
    {
     "data": {
      "text/html": [
       "<div>\n",
       "<style scoped>\n",
       "    .dataframe tbody tr th:only-of-type {\n",
       "        vertical-align: middle;\n",
       "    }\n",
       "\n",
       "    .dataframe tbody tr th {\n",
       "        vertical-align: top;\n",
       "    }\n",
       "\n",
       "    .dataframe thead th {\n",
       "        text-align: right;\n",
       "    }\n",
       "</style>\n",
       "<table border=\"1\" class=\"dataframe\">\n",
       "  <thead>\n",
       "    <tr style=\"text-align: right;\">\n",
       "      <th></th>\n",
       "      <th>Caps and Hats</th>\n",
       "      <th>Drinkware</th>\n",
       "      <th>Hoodies and Jackets</th>\n",
       "      <th>Kids Apparel</th>\n",
       "      <th>Tees</th>\n",
       "      <th>bags &amp; luggage</th>\n",
       "      <th>beauty &amp; health</th>\n",
       "      <th>home &amp; kitchen</th>\n",
       "      <th>office</th>\n",
       "      <th>pet supplies</th>\n",
       "      <th>sports &amp; fitness</th>\n",
       "    </tr>\n",
       "    <tr>\n",
       "      <th>cluster</th>\n",
       "      <th></th>\n",
       "      <th></th>\n",
       "      <th></th>\n",
       "      <th></th>\n",
       "      <th></th>\n",
       "      <th></th>\n",
       "      <th></th>\n",
       "      <th></th>\n",
       "      <th></th>\n",
       "      <th></th>\n",
       "      <th></th>\n",
       "    </tr>\n",
       "  </thead>\n",
       "  <tbody>\n",
       "    <tr>\n",
       "      <th>0</th>\n",
       "      <td>0.54</td>\n",
       "      <td>0.71</td>\n",
       "      <td>0.56</td>\n",
       "      <td>0.49</td>\n",
       "      <td>0.91</td>\n",
       "      <td>0.51</td>\n",
       "      <td>0.42</td>\n",
       "      <td>0.9</td>\n",
       "      <td>0.86</td>\n",
       "      <td>1.0</td>\n",
       "      <td>0.48</td>\n",
       "    </tr>\n",
       "  </tbody>\n",
       "</table>\n",
       "</div>"
      ],
      "text/plain": [
       "         Caps and Hats  Drinkware  Hoodies and Jackets  Kids Apparel  Tees  \\\n",
       "cluster                                                                      \n",
       "0                 0.54       0.71                 0.56          0.49  0.91   \n",
       "\n",
       "         bags & luggage  beauty & health  home & kitchen  office  \\\n",
       "cluster                                                            \n",
       "0                  0.51             0.42             0.9    0.86   \n",
       "\n",
       "         pet supplies  sports & fitness  \n",
       "cluster                                  \n",
       "0                 1.0              0.48  "
      ]
     },
     "execution_count": 8,
     "metadata": {},
     "output_type": "execute_result"
    }
   ],
   "source": [
    "proportions(0)"
   ]
  },
  {
   "cell_type": "markdown",
   "id": "d74aa0b3-72ea-413a-8550-83b348970d5a",
   "metadata": {},
   "source": [
    "Interested in Tees, Home & Kitchen, Office, and ``Drinkware`` and ``Pet Supplies``."
   ]
  },
  {
   "cell_type": "code",
   "execution_count": null,
   "id": "8fe634e4-c510-4036-b919-6293eff8413c",
   "metadata": {},
   "outputs": [],
   "source": []
  },
  {
   "cell_type": "code",
   "execution_count": null,
   "id": "77bf0154-185c-4654-9852-dc777ab8e5a6",
   "metadata": {},
   "outputs": [],
   "source": []
  },
  {
   "cell_type": "markdown",
   "id": "06694758-bb4a-485d-94d8-884d75aca531",
   "metadata": {},
   "source": [
    "### Cluster 1"
   ]
  },
  {
   "cell_type": "code",
   "execution_count": 9,
   "id": "850e51d1-3ce3-41fc-9858-ef1e9630acd5",
   "metadata": {},
   "outputs": [
    {
     "name": "stdout",
     "output_type": "stream",
     "text": [
      "Number of customers in cluster 1: 100\n"
     ]
    },
    {
     "data": {
      "text/html": [
       "<div>\n",
       "<style scoped>\n",
       "    .dataframe tbody tr th:only-of-type {\n",
       "        vertical-align: middle;\n",
       "    }\n",
       "\n",
       "    .dataframe tbody tr th {\n",
       "        vertical-align: top;\n",
       "    }\n",
       "\n",
       "    .dataframe thead th {\n",
       "        text-align: right;\n",
       "    }\n",
       "</style>\n",
       "<table border=\"1\" class=\"dataframe\">\n",
       "  <thead>\n",
       "    <tr style=\"text-align: right;\">\n",
       "      <th></th>\n",
       "      <th>Caps and Hats</th>\n",
       "      <th>Drinkware</th>\n",
       "      <th>Hoodies and Jackets</th>\n",
       "      <th>Kids Apparel</th>\n",
       "      <th>Tees</th>\n",
       "      <th>bags &amp; luggage</th>\n",
       "      <th>beauty &amp; health</th>\n",
       "      <th>home &amp; kitchen</th>\n",
       "      <th>office</th>\n",
       "      <th>pet supplies</th>\n",
       "      <th>sports &amp; fitness</th>\n",
       "    </tr>\n",
       "    <tr>\n",
       "      <th>cluster</th>\n",
       "      <th></th>\n",
       "      <th></th>\n",
       "      <th></th>\n",
       "      <th></th>\n",
       "      <th></th>\n",
       "      <th></th>\n",
       "      <th></th>\n",
       "      <th></th>\n",
       "      <th></th>\n",
       "      <th></th>\n",
       "      <th></th>\n",
       "    </tr>\n",
       "  </thead>\n",
       "  <tbody>\n",
       "    <tr>\n",
       "      <th>1</th>\n",
       "      <td>0.456989</td>\n",
       "      <td>0.715054</td>\n",
       "      <td>1.0</td>\n",
       "      <td>0.376344</td>\n",
       "      <td>0.924731</td>\n",
       "      <td>0.5</td>\n",
       "      <td>0.419355</td>\n",
       "      <td>0.88172</td>\n",
       "      <td>0.801075</td>\n",
       "      <td>0.209677</td>\n",
       "      <td>0.623656</td>\n",
       "    </tr>\n",
       "  </tbody>\n",
       "</table>\n",
       "</div>"
      ],
      "text/plain": [
       "         Caps and Hats  Drinkware  Hoodies and Jackets  Kids Apparel  \\\n",
       "cluster                                                                \n",
       "1             0.456989   0.715054                  1.0      0.376344   \n",
       "\n",
       "             Tees  bags & luggage  beauty & health  home & kitchen    office  \\\n",
       "cluster                                                                        \n",
       "1        0.924731             0.5         0.419355         0.88172  0.801075   \n",
       "\n",
       "         pet supplies  sports & fitness  \n",
       "cluster                                  \n",
       "1            0.209677          0.623656  "
      ]
     },
     "execution_count": 9,
     "metadata": {},
     "output_type": "execute_result"
    }
   ],
   "source": [
    "proportions(1)"
   ]
  },
  {
   "cell_type": "markdown",
   "id": "babca555-02a2-4a1c-8f01-6c4aa9d5cfc3",
   "metadata": {},
   "source": [
    "Interested in Tees, Home & Kitchen, Office, ``Drinkware`` and ``Hoodies and Jackets``. Mid interest in ``Sports and Fitness``."
   ]
  },
  {
   "cell_type": "code",
   "execution_count": null,
   "id": "decd1b91-9c1d-4d80-bc6f-559396f3df23",
   "metadata": {},
   "outputs": [],
   "source": []
  },
  {
   "cell_type": "code",
   "execution_count": null,
   "id": "b214f631-af8a-41b3-8dd6-3a730f307bd3",
   "metadata": {},
   "outputs": [],
   "source": []
  },
  {
   "cell_type": "markdown",
   "id": "b2194578-19ef-4e99-829c-fb7cc4f1125b",
   "metadata": {},
   "source": [
    "### Cluster 2"
   ]
  },
  {
   "cell_type": "code",
   "execution_count": 10,
   "id": "49324512-6f28-4b12-b48b-0691aea98da2",
   "metadata": {},
   "outputs": [
    {
     "name": "stdout",
     "output_type": "stream",
     "text": [
      "Number of customers in cluster 2: 100\n"
     ]
    },
    {
     "data": {
      "text/html": [
       "<div>\n",
       "<style scoped>\n",
       "    .dataframe tbody tr th:only-of-type {\n",
       "        vertical-align: middle;\n",
       "    }\n",
       "\n",
       "    .dataframe tbody tr th {\n",
       "        vertical-align: top;\n",
       "    }\n",
       "\n",
       "    .dataframe thead th {\n",
       "        text-align: right;\n",
       "    }\n",
       "</style>\n",
       "<table border=\"1\" class=\"dataframe\">\n",
       "  <thead>\n",
       "    <tr style=\"text-align: right;\">\n",
       "      <th></th>\n",
       "      <th>Caps and Hats</th>\n",
       "      <th>Drinkware</th>\n",
       "      <th>Hoodies and Jackets</th>\n",
       "      <th>Kids Apparel</th>\n",
       "      <th>Tees</th>\n",
       "      <th>bags &amp; luggage</th>\n",
       "      <th>beauty &amp; health</th>\n",
       "      <th>home &amp; kitchen</th>\n",
       "      <th>office</th>\n",
       "      <th>pet supplies</th>\n",
       "      <th>sports &amp; fitness</th>\n",
       "    </tr>\n",
       "    <tr>\n",
       "      <th>cluster</th>\n",
       "      <th></th>\n",
       "      <th></th>\n",
       "      <th></th>\n",
       "      <th></th>\n",
       "      <th></th>\n",
       "      <th></th>\n",
       "      <th></th>\n",
       "      <th></th>\n",
       "      <th></th>\n",
       "      <th></th>\n",
       "      <th></th>\n",
       "    </tr>\n",
       "  </thead>\n",
       "  <tbody>\n",
       "    <tr>\n",
       "      <th>2</th>\n",
       "      <td>1.0</td>\n",
       "      <td>0.540541</td>\n",
       "      <td>0.396396</td>\n",
       "      <td>0.189189</td>\n",
       "      <td>0.882883</td>\n",
       "      <td>0.27027</td>\n",
       "      <td>0.414414</td>\n",
       "      <td>0.90991</td>\n",
       "      <td>0.747748</td>\n",
       "      <td>0.054054</td>\n",
       "      <td>0.459459</td>\n",
       "    </tr>\n",
       "  </tbody>\n",
       "</table>\n",
       "</div>"
      ],
      "text/plain": [
       "         Caps and Hats  Drinkware  Hoodies and Jackets  Kids Apparel  \\\n",
       "cluster                                                                \n",
       "2                  1.0   0.540541             0.396396      0.189189   \n",
       "\n",
       "             Tees  bags & luggage  beauty & health  home & kitchen    office  \\\n",
       "cluster                                                                        \n",
       "2        0.882883         0.27027         0.414414         0.90991  0.747748   \n",
       "\n",
       "         pet supplies  sports & fitness  \n",
       "cluster                                  \n",
       "2            0.054054          0.459459  "
      ]
     },
     "execution_count": 10,
     "metadata": {},
     "output_type": "execute_result"
    }
   ],
   "source": [
    "proportions(2)"
   ]
  },
  {
   "cell_type": "markdown",
   "id": "17047adf-6ad1-4dc2-8141-f2369b6018e8",
   "metadata": {},
   "source": [
    "Interested in Tees, Home & Kitchen, Office, and ``Caps and Hats``."
   ]
  },
  {
   "cell_type": "code",
   "execution_count": null,
   "id": "443a20ab-f2af-40f7-af07-a528f83faa38",
   "metadata": {},
   "outputs": [],
   "source": []
  },
  {
   "cell_type": "code",
   "execution_count": null,
   "id": "a5812622-534c-48de-82f6-8c3b02c8c3ad",
   "metadata": {},
   "outputs": [],
   "source": []
  },
  {
   "cell_type": "markdown",
   "id": "8419a476-54ba-4f6d-a74d-a194fc0acb98",
   "metadata": {},
   "source": [
    "### Cluster 3"
   ]
  },
  {
   "cell_type": "code",
   "execution_count": 11,
   "id": "069c651a-7b23-478b-9d03-91df7c92a45b",
   "metadata": {},
   "outputs": [
    {
     "name": "stdout",
     "output_type": "stream",
     "text": [
      "Number of customers in cluster 3: 100\n"
     ]
    },
    {
     "data": {
      "text/html": [
       "<div>\n",
       "<style scoped>\n",
       "    .dataframe tbody tr th:only-of-type {\n",
       "        vertical-align: middle;\n",
       "    }\n",
       "\n",
       "    .dataframe tbody tr th {\n",
       "        vertical-align: top;\n",
       "    }\n",
       "\n",
       "    .dataframe thead th {\n",
       "        text-align: right;\n",
       "    }\n",
       "</style>\n",
       "<table border=\"1\" class=\"dataframe\">\n",
       "  <thead>\n",
       "    <tr style=\"text-align: right;\">\n",
       "      <th></th>\n",
       "      <th>Caps and Hats</th>\n",
       "      <th>Drinkware</th>\n",
       "      <th>Hoodies and Jackets</th>\n",
       "      <th>Kids Apparel</th>\n",
       "      <th>Tees</th>\n",
       "      <th>bags &amp; luggage</th>\n",
       "      <th>beauty &amp; health</th>\n",
       "      <th>home &amp; kitchen</th>\n",
       "      <th>office</th>\n",
       "      <th>pet supplies</th>\n",
       "      <th>sports &amp; fitness</th>\n",
       "    </tr>\n",
       "    <tr>\n",
       "      <th>cluster</th>\n",
       "      <th></th>\n",
       "      <th></th>\n",
       "      <th></th>\n",
       "      <th></th>\n",
       "      <th></th>\n",
       "      <th></th>\n",
       "      <th></th>\n",
       "      <th></th>\n",
       "      <th></th>\n",
       "      <th></th>\n",
       "      <th></th>\n",
       "    </tr>\n",
       "  </thead>\n",
       "  <tbody>\n",
       "    <tr>\n",
       "      <th>3</th>\n",
       "      <td>0.354331</td>\n",
       "      <td>0.629921</td>\n",
       "      <td>0.425197</td>\n",
       "      <td>0.299213</td>\n",
       "      <td>0.92126</td>\n",
       "      <td>0.393701</td>\n",
       "      <td>0.283465</td>\n",
       "      <td>0.889764</td>\n",
       "      <td>0.818898</td>\n",
       "      <td>0.094488</td>\n",
       "      <td>1.0</td>\n",
       "    </tr>\n",
       "  </tbody>\n",
       "</table>\n",
       "</div>"
      ],
      "text/plain": [
       "         Caps and Hats  Drinkware  Hoodies and Jackets  Kids Apparel     Tees  \\\n",
       "cluster                                                                         \n",
       "3             0.354331   0.629921             0.425197      0.299213  0.92126   \n",
       "\n",
       "         bags & luggage  beauty & health  home & kitchen    office  \\\n",
       "cluster                                                              \n",
       "3              0.393701         0.283465        0.889764  0.818898   \n",
       "\n",
       "         pet supplies  sports & fitness  \n",
       "cluster                                  \n",
       "3            0.094488               1.0  "
      ]
     },
     "execution_count": 11,
     "metadata": {},
     "output_type": "execute_result"
    }
   ],
   "source": [
    "proportions(3)"
   ]
  },
  {
   "cell_type": "markdown",
   "id": "3bcd1e63-bd56-498f-8d48-e57801fd1b41",
   "metadata": {},
   "source": [
    "Interested in Tees, Home & Kitchen, Office, ``Sports and Fitness``. Mid interest in ``Drinkware``."
   ]
  },
  {
   "cell_type": "code",
   "execution_count": null,
   "id": "57e86f96-1264-496d-9f25-efc622d7b36e",
   "metadata": {},
   "outputs": [],
   "source": []
  },
  {
   "cell_type": "code",
   "execution_count": null,
   "id": "bcbadf65-f189-40ba-a6c0-295338a7757a",
   "metadata": {},
   "outputs": [],
   "source": []
  },
  {
   "cell_type": "markdown",
   "id": "b480c8e6-319e-4501-aa20-223a6a6a5201",
   "metadata": {},
   "source": [
    "### Cluster 4"
   ]
  },
  {
   "cell_type": "code",
   "execution_count": 12,
   "id": "c7078ae0-0ba6-436a-a676-b5d5031642ae",
   "metadata": {},
   "outputs": [
    {
     "name": "stdout",
     "output_type": "stream",
     "text": [
      "Number of customers in cluster 4: 100\n"
     ]
    },
    {
     "data": {
      "text/html": [
       "<div>\n",
       "<style scoped>\n",
       "    .dataframe tbody tr th:only-of-type {\n",
       "        vertical-align: middle;\n",
       "    }\n",
       "\n",
       "    .dataframe tbody tr th {\n",
       "        vertical-align: top;\n",
       "    }\n",
       "\n",
       "    .dataframe thead th {\n",
       "        text-align: right;\n",
       "    }\n",
       "</style>\n",
       "<table border=\"1\" class=\"dataframe\">\n",
       "  <thead>\n",
       "    <tr style=\"text-align: right;\">\n",
       "      <th></th>\n",
       "      <th>Caps and Hats</th>\n",
       "      <th>Drinkware</th>\n",
       "      <th>Hoodies and Jackets</th>\n",
       "      <th>Kids Apparel</th>\n",
       "      <th>Tees</th>\n",
       "      <th>bags &amp; luggage</th>\n",
       "      <th>beauty &amp; health</th>\n",
       "      <th>home &amp; kitchen</th>\n",
       "      <th>office</th>\n",
       "      <th>pet supplies</th>\n",
       "      <th>sports &amp; fitness</th>\n",
       "    </tr>\n",
       "    <tr>\n",
       "      <th>cluster</th>\n",
       "      <th></th>\n",
       "      <th></th>\n",
       "      <th></th>\n",
       "      <th></th>\n",
       "      <th></th>\n",
       "      <th></th>\n",
       "      <th></th>\n",
       "      <th></th>\n",
       "      <th></th>\n",
       "      <th></th>\n",
       "      <th></th>\n",
       "    </tr>\n",
       "  </thead>\n",
       "  <tbody>\n",
       "    <tr>\n",
       "      <th>4</th>\n",
       "      <td>0.438202</td>\n",
       "      <td>0.550562</td>\n",
       "      <td>0.393258</td>\n",
       "      <td>0.219101</td>\n",
       "      <td>0.870787</td>\n",
       "      <td>0.426966</td>\n",
       "      <td>1.0</td>\n",
       "      <td>0.966292</td>\n",
       "      <td>0.769663</td>\n",
       "      <td>0.11236</td>\n",
       "      <td>0.410112</td>\n",
       "    </tr>\n",
       "  </tbody>\n",
       "</table>\n",
       "</div>"
      ],
      "text/plain": [
       "         Caps and Hats  Drinkware  Hoodies and Jackets  Kids Apparel  \\\n",
       "cluster                                                                \n",
       "4             0.438202   0.550562             0.393258      0.219101   \n",
       "\n",
       "             Tees  bags & luggage  beauty & health  home & kitchen    office  \\\n",
       "cluster                                                                        \n",
       "4        0.870787        0.426966              1.0        0.966292  0.769663   \n",
       "\n",
       "         pet supplies  sports & fitness  \n",
       "cluster                                  \n",
       "4             0.11236          0.410112  "
      ]
     },
     "execution_count": 12,
     "metadata": {},
     "output_type": "execute_result"
    }
   ],
   "source": [
    "proportions(4)"
   ]
  },
  {
   "cell_type": "markdown",
   "id": "14c96978-c41b-489c-a006-59a52d72828a",
   "metadata": {},
   "source": [
    "Interested in Tees, Home & Kitchen, Office, and ``Beauty and Health``."
   ]
  },
  {
   "cell_type": "code",
   "execution_count": null,
   "id": "f1f8d9e6-bcaf-4b67-9fa9-3b3b58688204",
   "metadata": {},
   "outputs": [],
   "source": []
  },
  {
   "cell_type": "code",
   "execution_count": null,
   "id": "b9aa413c-7b01-43df-8fce-69cceffbafb5",
   "metadata": {},
   "outputs": [],
   "source": []
  },
  {
   "cell_type": "markdown",
   "id": "2d7209f3-2de2-4a87-a67d-6a0a29592511",
   "metadata": {},
   "source": [
    "### Cluster 5"
   ]
  },
  {
   "cell_type": "code",
   "execution_count": 13,
   "id": "35ffabc5-7316-4fcb-833e-bd927d0cdaa2",
   "metadata": {},
   "outputs": [
    {
     "name": "stdout",
     "output_type": "stream",
     "text": [
      "Number of customers in cluster 5: 100\n"
     ]
    },
    {
     "data": {
      "text/html": [
       "<div>\n",
       "<style scoped>\n",
       "    .dataframe tbody tr th:only-of-type {\n",
       "        vertical-align: middle;\n",
       "    }\n",
       "\n",
       "    .dataframe tbody tr th {\n",
       "        vertical-align: top;\n",
       "    }\n",
       "\n",
       "    .dataframe thead th {\n",
       "        text-align: right;\n",
       "    }\n",
       "</style>\n",
       "<table border=\"1\" class=\"dataframe\">\n",
       "  <thead>\n",
       "    <tr style=\"text-align: right;\">\n",
       "      <th></th>\n",
       "      <th>Caps and Hats</th>\n",
       "      <th>Drinkware</th>\n",
       "      <th>Hoodies and Jackets</th>\n",
       "      <th>Kids Apparel</th>\n",
       "      <th>Tees</th>\n",
       "      <th>bags &amp; luggage</th>\n",
       "      <th>beauty &amp; health</th>\n",
       "      <th>home &amp; kitchen</th>\n",
       "      <th>office</th>\n",
       "      <th>pet supplies</th>\n",
       "      <th>sports &amp; fitness</th>\n",
       "    </tr>\n",
       "    <tr>\n",
       "      <th>cluster</th>\n",
       "      <th></th>\n",
       "      <th></th>\n",
       "      <th></th>\n",
       "      <th></th>\n",
       "      <th></th>\n",
       "      <th></th>\n",
       "      <th></th>\n",
       "      <th></th>\n",
       "      <th></th>\n",
       "      <th></th>\n",
       "      <th></th>\n",
       "    </tr>\n",
       "  </thead>\n",
       "  <tbody>\n",
       "    <tr>\n",
       "      <th>5</th>\n",
       "      <td>0.423611</td>\n",
       "      <td>0.694444</td>\n",
       "      <td>0.409722</td>\n",
       "      <td>0.270833</td>\n",
       "      <td>0.875</td>\n",
       "      <td>1.0</td>\n",
       "      <td>0.354167</td>\n",
       "      <td>0.861111</td>\n",
       "      <td>0.805556</td>\n",
       "      <td>0.104167</td>\n",
       "      <td>0.465278</td>\n",
       "    </tr>\n",
       "  </tbody>\n",
       "</table>\n",
       "</div>"
      ],
      "text/plain": [
       "         Caps and Hats  Drinkware  Hoodies and Jackets  Kids Apparel   Tees  \\\n",
       "cluster                                                                       \n",
       "5             0.423611   0.694444             0.409722      0.270833  0.875   \n",
       "\n",
       "         bags & luggage  beauty & health  home & kitchen    office  \\\n",
       "cluster                                                              \n",
       "5                   1.0         0.354167        0.861111  0.805556   \n",
       "\n",
       "         pet supplies  sports & fitness  \n",
       "cluster                                  \n",
       "5            0.104167          0.465278  "
      ]
     },
     "execution_count": 13,
     "metadata": {},
     "output_type": "execute_result"
    }
   ],
   "source": [
    "proportions(5)"
   ]
  },
  {
   "cell_type": "markdown",
   "id": "7c52d163-249d-4380-b6e9-22aacdb85f5d",
   "metadata": {},
   "source": [
    "Interested in Tees, Home & Kitchen, Office, ``Drinkware``, and ``Bags and Luggage``."
   ]
  },
  {
   "cell_type": "code",
   "execution_count": null,
   "id": "46a7677f-e4c7-4aee-b048-ab702a6991df",
   "metadata": {},
   "outputs": [],
   "source": []
  },
  {
   "cell_type": "code",
   "execution_count": null,
   "id": "d633f8ed-4587-48a3-9c0c-55ccc7d5ffd0",
   "metadata": {},
   "outputs": [],
   "source": []
  },
  {
   "cell_type": "markdown",
   "id": "3a16a23f-6204-4466-a91a-f3b593bf2754",
   "metadata": {},
   "source": [
    "### Cluster 6"
   ]
  },
  {
   "cell_type": "code",
   "execution_count": 14,
   "id": "b18610cc-b1d2-4dd2-b394-1965b4ec1e47",
   "metadata": {},
   "outputs": [
    {
     "name": "stdout",
     "output_type": "stream",
     "text": [
      "Number of customers in cluster 6: 100\n"
     ]
    },
    {
     "data": {
      "text/html": [
       "<div>\n",
       "<style scoped>\n",
       "    .dataframe tbody tr th:only-of-type {\n",
       "        vertical-align: middle;\n",
       "    }\n",
       "\n",
       "    .dataframe tbody tr th {\n",
       "        vertical-align: top;\n",
       "    }\n",
       "\n",
       "    .dataframe thead th {\n",
       "        text-align: right;\n",
       "    }\n",
       "</style>\n",
       "<table border=\"1\" class=\"dataframe\">\n",
       "  <thead>\n",
       "    <tr style=\"text-align: right;\">\n",
       "      <th></th>\n",
       "      <th>Caps and Hats</th>\n",
       "      <th>Drinkware</th>\n",
       "      <th>Hoodies and Jackets</th>\n",
       "      <th>Kids Apparel</th>\n",
       "      <th>Tees</th>\n",
       "      <th>bags &amp; luggage</th>\n",
       "      <th>beauty &amp; health</th>\n",
       "      <th>home &amp; kitchen</th>\n",
       "      <th>office</th>\n",
       "      <th>pet supplies</th>\n",
       "      <th>sports &amp; fitness</th>\n",
       "    </tr>\n",
       "    <tr>\n",
       "      <th>cluster</th>\n",
       "      <th></th>\n",
       "      <th></th>\n",
       "      <th></th>\n",
       "      <th></th>\n",
       "      <th></th>\n",
       "      <th></th>\n",
       "      <th></th>\n",
       "      <th></th>\n",
       "      <th></th>\n",
       "      <th></th>\n",
       "      <th></th>\n",
       "    </tr>\n",
       "  </thead>\n",
       "  <tbody>\n",
       "    <tr>\n",
       "      <th>6</th>\n",
       "      <td>0.494681</td>\n",
       "      <td>0.606383</td>\n",
       "      <td>0.531915</td>\n",
       "      <td>1.0</td>\n",
       "      <td>0.893617</td>\n",
       "      <td>0.478723</td>\n",
       "      <td>0.329787</td>\n",
       "      <td>0.888298</td>\n",
       "      <td>0.792553</td>\n",
       "      <td>0.143617</td>\n",
       "      <td>0.542553</td>\n",
       "    </tr>\n",
       "  </tbody>\n",
       "</table>\n",
       "</div>"
      ],
      "text/plain": [
       "         Caps and Hats  Drinkware  Hoodies and Jackets  Kids Apparel  \\\n",
       "cluster                                                                \n",
       "6             0.494681   0.606383             0.531915           1.0   \n",
       "\n",
       "             Tees  bags & luggage  beauty & health  home & kitchen    office  \\\n",
       "cluster                                                                        \n",
       "6        0.893617        0.478723         0.329787        0.888298  0.792553   \n",
       "\n",
       "         pet supplies  sports & fitness  \n",
       "cluster                                  \n",
       "6            0.143617          0.542553  "
      ]
     },
     "execution_count": 14,
     "metadata": {},
     "output_type": "execute_result"
    }
   ],
   "source": [
    "proportions(6)"
   ]
  },
  {
   "cell_type": "markdown",
   "id": "47df94b0-89a0-41f5-b56f-17f71cd95693",
   "metadata": {},
   "source": [
    "Interested in Tees, Home & Kitchen, Office, and ``Kids Apparel``. Mid interest in ``Drinkware``."
   ]
  },
  {
   "cell_type": "code",
   "execution_count": null,
   "id": "a9b93f18-8434-4d2e-84a3-67b54f7ccb9a",
   "metadata": {},
   "outputs": [],
   "source": []
  },
  {
   "cell_type": "code",
   "execution_count": null,
   "id": "14e2dd48-c7a3-402e-ab89-a555876ef2f5",
   "metadata": {},
   "outputs": [],
   "source": []
  },
  {
   "cell_type": "markdown",
   "id": "0cb57e5a-3d48-4651-9a5e-6bc66b853f16",
   "metadata": {},
   "source": [
    "### Cluster 7"
   ]
  },
  {
   "cell_type": "code",
   "execution_count": 15,
   "id": "28e5ad39-25f1-46ad-9390-d8a565ffc9aa",
   "metadata": {},
   "outputs": [
    {
     "name": "stdout",
     "output_type": "stream",
     "text": [
      "Number of customers in cluster 7: 100\n"
     ]
    },
    {
     "data": {
      "text/html": [
       "<div>\n",
       "<style scoped>\n",
       "    .dataframe tbody tr th:only-of-type {\n",
       "        vertical-align: middle;\n",
       "    }\n",
       "\n",
       "    .dataframe tbody tr th {\n",
       "        vertical-align: top;\n",
       "    }\n",
       "\n",
       "    .dataframe thead th {\n",
       "        text-align: right;\n",
       "    }\n",
       "</style>\n",
       "<table border=\"1\" class=\"dataframe\">\n",
       "  <thead>\n",
       "    <tr style=\"text-align: right;\">\n",
       "      <th></th>\n",
       "      <th>Caps and Hats</th>\n",
       "      <th>Drinkware</th>\n",
       "      <th>Hoodies and Jackets</th>\n",
       "      <th>Kids Apparel</th>\n",
       "      <th>Tees</th>\n",
       "      <th>bags &amp; luggage</th>\n",
       "      <th>beauty &amp; health</th>\n",
       "      <th>home &amp; kitchen</th>\n",
       "      <th>office</th>\n",
       "      <th>pet supplies</th>\n",
       "      <th>sports &amp; fitness</th>\n",
       "    </tr>\n",
       "    <tr>\n",
       "      <th>cluster</th>\n",
       "      <th></th>\n",
       "      <th></th>\n",
       "      <th></th>\n",
       "      <th></th>\n",
       "      <th></th>\n",
       "      <th></th>\n",
       "      <th></th>\n",
       "      <th></th>\n",
       "      <th></th>\n",
       "      <th></th>\n",
       "      <th></th>\n",
       "    </tr>\n",
       "  </thead>\n",
       "  <tbody>\n",
       "    <tr>\n",
       "      <th>7</th>\n",
       "      <td>0.491166</td>\n",
       "      <td>1.0</td>\n",
       "      <td>0.583039</td>\n",
       "      <td>0.39576</td>\n",
       "      <td>0.925795</td>\n",
       "      <td>0.568905</td>\n",
       "      <td>0.434629</td>\n",
       "      <td>0.890459</td>\n",
       "      <td>0.872792</td>\n",
       "      <td>0.236749</td>\n",
       "      <td>0.586572</td>\n",
       "    </tr>\n",
       "  </tbody>\n",
       "</table>\n",
       "</div>"
      ],
      "text/plain": [
       "         Caps and Hats  Drinkware  Hoodies and Jackets  Kids Apparel  \\\n",
       "cluster                                                                \n",
       "7             0.491166        1.0             0.583039       0.39576   \n",
       "\n",
       "             Tees  bags & luggage  beauty & health  home & kitchen    office  \\\n",
       "cluster                                                                        \n",
       "7        0.925795        0.568905         0.434629        0.890459  0.872792   \n",
       "\n",
       "         pet supplies  sports & fitness  \n",
       "cluster                                  \n",
       "7            0.236749          0.586572  "
      ]
     },
     "execution_count": 15,
     "metadata": {},
     "output_type": "execute_result"
    }
   ],
   "source": [
    "proportions(7)"
   ]
  },
  {
   "cell_type": "markdown",
   "id": "c784a71b-b60b-4937-b9bd-1df65d4a2181",
   "metadata": {},
   "source": [
    "Interested in Tees, Home & Kitchen, Office, ``Drinkware``"
   ]
  },
  {
   "cell_type": "code",
   "execution_count": null,
   "id": "42410395-69ca-424b-99c4-32b28d783aac",
   "metadata": {},
   "outputs": [],
   "source": []
  },
  {
   "cell_type": "code",
   "execution_count": null,
   "id": "14825c65-da6d-4988-aad9-682ecee88f57",
   "metadata": {},
   "outputs": [],
   "source": []
  },
  {
   "cell_type": "markdown",
   "id": "c3ac1138-10a7-4fb6-9ecd-4e1eb0fa2bcd",
   "metadata": {},
   "source": [
    "# Exporting the model"
   ]
  },
  {
   "cell_type": "code",
   "execution_count": 16,
   "id": "f741e2fa-de9a-4a9b-9391-2694f8267495",
   "metadata": {},
   "outputs": [
    {
     "data": {
      "text/plain": [
       "['../Models/kmeans_model_final.joblib']"
      ]
     },
     "execution_count": 16,
     "metadata": {},
     "output_type": "execute_result"
    }
   ],
   "source": [
    "from joblib import dump\n",
    "dump(kmeans, '../Models/kmeans_model_final.joblib')"
   ]
  },
  {
   "cell_type": "code",
   "execution_count": null,
   "id": "ba563203-42f1-4e62-a539-76bf0c6cb5da",
   "metadata": {},
   "outputs": [],
   "source": [
    "# To use the model in a different notebook use:\n",
    "\n",
    "# from joblib import dump, load\n",
    "\n",
    "# kmeans = load('kmeans_model.joblib')\n",
    "# y_pred = kmeans.predict(X_new)"
   ]
  },
  {
   "cell_type": "code",
   "execution_count": null,
   "id": "58e2b556-1c48-4437-9923-3a6dd3ebca6b",
   "metadata": {},
   "outputs": [],
   "source": []
  },
  {
   "cell_type": "code",
   "execution_count": null,
   "id": "58080671-e51e-4803-94bc-30d0d164e349",
   "metadata": {},
   "outputs": [],
   "source": []
  },
  {
   "cell_type": "markdown",
   "id": "92efa5f2-5409-4ea1-9158-a2ee036572c7",
   "metadata": {},
   "source": [
    "# Attach the cluster labels to the original dataset"
   ]
  },
  {
   "cell_type": "code",
   "execution_count": 29,
   "id": "9c864b8b-960d-4d8b-8cb1-632550e4baae",
   "metadata": {},
   "outputs": [
    {
     "data": {
      "text/html": [
       "<div>\n",
       "<style scoped>\n",
       "    .dataframe tbody tr th:only-of-type {\n",
       "        vertical-align: middle;\n",
       "    }\n",
       "\n",
       "    .dataframe tbody tr th {\n",
       "        vertical-align: top;\n",
       "    }\n",
       "\n",
       "    .dataframe thead th {\n",
       "        text-align: right;\n",
       "    }\n",
       "</style>\n",
       "<table border=\"1\" class=\"dataframe\">\n",
       "  <thead>\n",
       "    <tr style=\"text-align: right;\">\n",
       "      <th></th>\n",
       "      <th>CustomerID</th>\n",
       "      <th>Gender</th>\n",
       "      <th>Location</th>\n",
       "      <th>Tenure_Months</th>\n",
       "      <th>Transaction_ID</th>\n",
       "      <th>Transaction_Date</th>\n",
       "      <th>Product_SKU</th>\n",
       "      <th>Product_Description</th>\n",
       "      <th>Product_Category_x</th>\n",
       "      <th>Quantity</th>\n",
       "      <th>...</th>\n",
       "      <th>GST</th>\n",
       "      <th>Date</th>\n",
       "      <th>Offline_Spend</th>\n",
       "      <th>Online_Spend</th>\n",
       "      <th>Month</th>\n",
       "      <th>Coupon_Code</th>\n",
       "      <th>Discount_pct</th>\n",
       "      <th>Product_Category_y</th>\n",
       "      <th>Predicted_Category</th>\n",
       "      <th>cluster</th>\n",
       "    </tr>\n",
       "  </thead>\n",
       "  <tbody>\n",
       "    <tr>\n",
       "      <th>52919</th>\n",
       "      <td>13155</td>\n",
       "      <td>F</td>\n",
       "      <td>California</td>\n",
       "      <td>8</td>\n",
       "      <td>22504</td>\n",
       "      <td>2019-03-10</td>\n",
       "      <td>GGOEGGCX056399</td>\n",
       "      <td>Gift Card - $250.00</td>\n",
       "      <td>Gift Cards</td>\n",
       "      <td>1</td>\n",
       "      <td>...</td>\n",
       "      <td>0.05</td>\n",
       "      <td>2019-03-10</td>\n",
       "      <td>2500</td>\n",
       "      <td>1294.22</td>\n",
       "      <td>3</td>\n",
       "      <td>GC30</td>\n",
       "      <td>30.0</td>\n",
       "      <td>Gift Cards</td>\n",
       "      <td>Gift Cards</td>\n",
       "      <td>6.0</td>\n",
       "    </tr>\n",
       "    <tr>\n",
       "      <th>52920</th>\n",
       "      <td>18077</td>\n",
       "      <td>M</td>\n",
       "      <td>Chicago</td>\n",
       "      <td>34</td>\n",
       "      <td>24250</td>\n",
       "      <td>2019-03-28</td>\n",
       "      <td>GGOEGGCX056299</td>\n",
       "      <td>Gift Card - $25.00</td>\n",
       "      <td>Gift Cards</td>\n",
       "      <td>1</td>\n",
       "      <td>...</td>\n",
       "      <td>0.05</td>\n",
       "      <td>2019-03-28</td>\n",
       "      <td>2000</td>\n",
       "      <td>1066.12</td>\n",
       "      <td>3</td>\n",
       "      <td>GC30</td>\n",
       "      <td>30.0</td>\n",
       "      <td>Gift Cards</td>\n",
       "      <td>Gift Cards</td>\n",
       "      <td>6.0</td>\n",
       "    </tr>\n",
       "    <tr>\n",
       "      <th>52921</th>\n",
       "      <td>16085</td>\n",
       "      <td>M</td>\n",
       "      <td>California</td>\n",
       "      <td>15</td>\n",
       "      <td>39991</td>\n",
       "      <td>2019-10-06</td>\n",
       "      <td>GGOEGOCD078399</td>\n",
       "      <td>Google Leather Perforated Journal</td>\n",
       "      <td>Notebooks &amp; Journals</td>\n",
       "      <td>1</td>\n",
       "      <td>...</td>\n",
       "      <td>0.05</td>\n",
       "      <td>2019-10-06</td>\n",
       "      <td>3000</td>\n",
       "      <td>2230.76</td>\n",
       "      <td>10</td>\n",
       "      <td>NJ10</td>\n",
       "      <td>10.0</td>\n",
       "      <td>Notebooks &amp; Journals</td>\n",
       "      <td>office</td>\n",
       "      <td>7.0</td>\n",
       "    </tr>\n",
       "    <tr>\n",
       "      <th>52922</th>\n",
       "      <td>16085</td>\n",
       "      <td>M</td>\n",
       "      <td>California</td>\n",
       "      <td>15</td>\n",
       "      <td>39991</td>\n",
       "      <td>2019-10-06</td>\n",
       "      <td>GGOEGOCR078499</td>\n",
       "      <td>Google Spiral Leather Journal</td>\n",
       "      <td>Notebooks &amp; Journals</td>\n",
       "      <td>1</td>\n",
       "      <td>...</td>\n",
       "      <td>0.05</td>\n",
       "      <td>2019-10-06</td>\n",
       "      <td>3000</td>\n",
       "      <td>2230.76</td>\n",
       "      <td>10</td>\n",
       "      <td>NJ10</td>\n",
       "      <td>10.0</td>\n",
       "      <td>Notebooks &amp; Journals</td>\n",
       "      <td>office</td>\n",
       "      <td>7.0</td>\n",
       "    </tr>\n",
       "    <tr>\n",
       "      <th>52923</th>\n",
       "      <td>13659</td>\n",
       "      <td>F</td>\n",
       "      <td>Chicago</td>\n",
       "      <td>8</td>\n",
       "      <td>39998</td>\n",
       "      <td>2019-10-06</td>\n",
       "      <td>GGOEGOCC077999</td>\n",
       "      <td>Google Spiral Journal with Pen</td>\n",
       "      <td>Notebooks &amp; Journals</td>\n",
       "      <td>1</td>\n",
       "      <td>...</td>\n",
       "      <td>0.05</td>\n",
       "      <td>2019-10-06</td>\n",
       "      <td>3000</td>\n",
       "      <td>2230.76</td>\n",
       "      <td>10</td>\n",
       "      <td>NJ10</td>\n",
       "      <td>10.0</td>\n",
       "      <td>Notebooks &amp; Journals</td>\n",
       "      <td>office</td>\n",
       "      <td>1.0</td>\n",
       "    </tr>\n",
       "  </tbody>\n",
       "</table>\n",
       "<p>5 rows × 23 columns</p>\n",
       "</div>"
      ],
      "text/plain": [
       "       CustomerID Gender    Location  Tenure_Months  Transaction_ID  \\\n",
       "52919       13155      F  California              8           22504   \n",
       "52920       18077      M     Chicago             34           24250   \n",
       "52921       16085      M  California             15           39991   \n",
       "52922       16085      M  California             15           39991   \n",
       "52923       13659      F     Chicago              8           39998   \n",
       "\n",
       "      Transaction_Date     Product_SKU                Product_Description  \\\n",
       "52919       2019-03-10  GGOEGGCX056399                Gift Card - $250.00   \n",
       "52920       2019-03-28  GGOEGGCX056299                 Gift Card - $25.00   \n",
       "52921       2019-10-06  GGOEGOCD078399  Google Leather Perforated Journal   \n",
       "52922       2019-10-06  GGOEGOCR078499      Google Spiral Leather Journal   \n",
       "52923       2019-10-06  GGOEGOCC077999     Google Spiral Journal with Pen   \n",
       "\n",
       "         Product_Category_x  Quantity  ...   GST       Date Offline_Spend  \\\n",
       "52919            Gift Cards         1  ...  0.05 2019-03-10          2500   \n",
       "52920            Gift Cards         1  ...  0.05 2019-03-28          2000   \n",
       "52921  Notebooks & Journals         1  ...  0.05 2019-10-06          3000   \n",
       "52922  Notebooks & Journals         1  ...  0.05 2019-10-06          3000   \n",
       "52923  Notebooks & Journals         1  ...  0.05 2019-10-06          3000   \n",
       "\n",
       "       Online_Spend Month  Coupon_Code  Discount_pct    Product_Category_y  \\\n",
       "52919       1294.22     3         GC30          30.0            Gift Cards   \n",
       "52920       1066.12     3         GC30          30.0            Gift Cards   \n",
       "52921       2230.76    10         NJ10          10.0  Notebooks & Journals   \n",
       "52922       2230.76    10         NJ10          10.0  Notebooks & Journals   \n",
       "52923       2230.76    10         NJ10          10.0  Notebooks & Journals   \n",
       "\n",
       "      Predicted_Category  cluster  \n",
       "52919         Gift Cards      6.0  \n",
       "52920         Gift Cards      6.0  \n",
       "52921             office      7.0  \n",
       "52922             office      7.0  \n",
       "52923             office      1.0  \n",
       "\n",
       "[5 rows x 23 columns]"
      ]
     },
     "execution_count": 29,
     "metadata": {},
     "output_type": "execute_result"
    }
   ],
   "source": [
    "filepath = '../Data/shopping_dataset.xlsx'\n",
    "df_original = pd.read_excel(filepath, nrows=52924, sheet_name='in')\n",
    "df_original = df_original.iloc[:,1:] # get rid of the first column (row number)\n",
    "\n",
    "df_ref = pd.read_csv('../Data/prod_categories.csv')\n",
    "\n",
    "df_original = pd.merge(df_original, df_ref\n",
    "                     ,how='left'\n",
    "                     ,left_on='Product_Description'\n",
    "                     ,right_on='Product_Description')\n",
    "\n",
    "df_final = pd.merge(df_original, df['cluster'], left_on='CustomerID', right_index=True, how='left')\n",
    "df_final['cluster'].fillna(-1, inplace=True)\n",
    "\n",
    "pd.reset_option('display.max_rows')\n",
    "pd.reset_option('display.max_columns')\n",
    "df_final.tail()"
   ]
  },
  {
   "cell_type": "code",
   "execution_count": 32,
   "id": "6492222d-72b1-40db-a214-d97248bcf2b0",
   "metadata": {},
   "outputs": [
    {
     "data": {
      "text/plain": [
       "cluster\n",
       "-1.0      632\n",
       " 0.0     3858\n",
       " 1.0     7574\n",
       " 2.0     3348\n",
       " 3.0     4413\n",
       " 4.0     6885\n",
       " 5.0     4909\n",
       " 6.0     7556\n",
       " 7.0    13749\n",
       "Name: count, dtype: int64"
      ]
     },
     "execution_count": 32,
     "metadata": {},
     "output_type": "execute_result"
    }
   ],
   "source": [
    "df_final['cluster'].value_counts().sort_index()"
   ]
  },
  {
   "cell_type": "code",
   "execution_count": 37,
   "id": "8d626394-a9e7-4e4b-bc90-4ee3c5101681",
   "metadata": {},
   "outputs": [
    {
     "data": {
      "text/plain": [
       "Index(['CustomerID', 'Gender', 'Location', 'Tenure_Months', 'Transaction_ID',\n",
       "       'Transaction_Date', 'Product_SKU', 'Product_Description',\n",
       "       'Product_Category_x', 'Quantity', 'Avg_Price', 'Delivery_Charges',\n",
       "       'Coupon_Status', 'GST', 'Date', 'Offline_Spend', 'Online_Spend',\n",
       "       'Month', 'Coupon_Code', 'Discount_pct', 'Product_Category_y',\n",
       "       'Predicted_Category', 'cluster'],\n",
       "      dtype='object')"
      ]
     },
     "execution_count": 37,
     "metadata": {},
     "output_type": "execute_result"
    }
   ],
   "source": [
    "df_final.columns"
   ]
  },
  {
   "cell_type": "code",
   "execution_count": 39,
   "id": "18486468-f687-49f7-b6a6-06a43e4b6d06",
   "metadata": {},
   "outputs": [],
   "source": [
    "df_final[['CustomerID', 'Gender', 'Location', 'Tenure_Months', 'Transaction_ID',\n",
    "           'Transaction_Date', 'Product_SKU', 'Product_Description', 'Quantity', 'Avg_Price', 'Delivery_Charges',\n",
    "           'Coupon_Status', 'GST', 'Date', 'Offline_Spend', 'Online_Spend',\n",
    "           'Month', 'Coupon_Code', 'Discount_pct',\n",
    "           'Predicted_Category', 'cluster']].to_csv('shopping_dataset_with_labels.csv', index=False)"
   ]
  },
  {
   "cell_type": "code",
   "execution_count": null,
   "id": "00a6cf86-99be-48fa-b895-feb511c56d01",
   "metadata": {},
   "outputs": [],
   "source": []
  },
  {
   "cell_type": "code",
   "execution_count": null,
   "id": "92304f4b-44bf-47ba-8eab-4e5e9cef563f",
   "metadata": {},
   "outputs": [],
   "source": []
  },
  {
   "cell_type": "markdown",
   "id": "bed606a7-3566-4c07-82f6-3fa1321d69c7",
   "metadata": {},
   "source": [
    "# PCA visualization"
   ]
  },
  {
   "cell_type": "code",
   "execution_count": null,
   "id": "81ab4f45-4ae3-46bf-b067-2a0087e7628f",
   "metadata": {},
   "outputs": [],
   "source": [
    "plt.figure()\n",
    "plt.scatter(X_transformed[:,0], X_transformed[:,1], c=kmeans.labels_)\n",
    "plt.legend()"
   ]
  },
  {
   "cell_type": "markdown",
   "id": "2233ddf6-d8ac-4dc2-94b4-99461c06a212",
   "metadata": {},
   "source": [
    "No patterns seen."
   ]
  },
  {
   "cell_type": "code",
   "execution_count": null,
   "id": "3ad9ab7b-c7bd-4e16-98d1-b5abf74cec01",
   "metadata": {},
   "outputs": [],
   "source": []
  },
  {
   "cell_type": "code",
   "execution_count": null,
   "id": "98fca3ca-8cc3-4bb6-8eaf-d9e308451619",
   "metadata": {},
   "outputs": [],
   "source": []
  }
 ],
 "metadata": {
  "kernelspec": {
   "display_name": "Python 3 (ipykernel)",
   "language": "python",
   "name": "python3"
  },
  "language_info": {
   "codemirror_mode": {
    "name": "ipython",
    "version": 3
   },
   "file_extension": ".py",
   "mimetype": "text/x-python",
   "name": "python",
   "nbconvert_exporter": "python",
   "pygments_lexer": "ipython3",
   "version": "3.11.2"
  }
 },
 "nbformat": 4,
 "nbformat_minor": 5
}
