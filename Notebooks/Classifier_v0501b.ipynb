{
 "cells": [
  {
   "cell_type": "code",
   "execution_count": 6,
   "id": "3351e18d-d5c2-48c0-a801-20bc575f6169",
   "metadata": {},
   "outputs": [
    {
     "name": "stderr",
     "output_type": "stream",
     "text": [
      "[nltk_data] Downloading package stopwords to\n",
      "[nltk_data]     C:\\Users\\Francis\\AppData\\Roaming\\nltk_data...\n",
      "[nltk_data]   Package stopwords is already up-to-date!\n",
      "[nltk_data] Downloading package punkt to\n",
      "[nltk_data]     C:\\Users\\Francis\\AppData\\Roaming\\nltk_data...\n",
      "[nltk_data]   Package punkt is already up-to-date!\n",
      "[nltk_data] Downloading package wordnet to\n",
      "[nltk_data]     C:\\Users\\Francis\\AppData\\Roaming\\nltk_data...\n"
     ]
    },
    {
     "data": {
      "text/plain": [
       "True"
      ]
     },
     "execution_count": 6,
     "metadata": {},
     "output_type": "execute_result"
    }
   ],
   "source": [
    "nltk.download('stopwords')\n",
    "nltk.download('punkt')\n",
    "nltk.download('wordnet')"
   ]
  },
  {
   "cell_type": "code",
   "execution_count": null,
   "id": "2af355ef-db0d-49c6-9db9-fe581e95619a",
   "metadata": {},
   "outputs": [],
   "source": [
    "import nltk\n",
    "from sklearn.feature_extraction.text import TfidfVectorizer\n",
    "from sklearn.svm import SVC\n",
    "\n",
    "# Sample data (product phrases and their categories)\n",
    "training_data = [(\"Red shoes for men\", \"Shoes\"),\n",
    "                 (\"Blue dress for women\", \"Clothing\"),\n",
    "                 (\"Portable Bluetooth speaker\", \"Electronics\")]\n",
    "\n",
    "# Preprocessing\n",
    "stop_words = set(nltk.corpus.stopwords.words('english'))\n",
    "lemmatizer = nltk.stem.WordNetLemmatizer()\n",
    "\n",
    "def preprocess_text(text):\n",
    "    tokens = nltk.word_tokenize(text.lower())\n",
    "    tokens = [lemmatizer.lemmatize(token) for token in tokens if token.isalnum() and token not in stop_words]\n",
    "    return ' '.join(tokens)\n",
    "\n",
    "X_train = [preprocess_text(data[0]) for data in training_data]\n",
    "y_train = [data[1] for data in training_data]\n",
    "\n",
    "# Feature Extraction\n",
    "vectorizer = TfidfVectorizer()\n",
    "X_train_vectorized = vectorizer.fit_transform(X_train)\n",
    "\n",
    "# Model Training\n",
    "classifier = SVC(kernel='linear')\n",
    "classifier.fit(X_train_vectorized, y_train)\n",
    "\n",
    "# Example prediction\n",
    "new_phrase = \"Black leather jacket\"\n",
    "X_new = vectorizer.transform([preprocess_text(new_phrase)])\n",
    "predicted_category = classifier.predict(X_new)[0]\n",
    "print(\"Predicted category:\", predicted_category)"
   ]
  },
  {
   "cell_type": "code",
   "execution_count": 10,
   "id": "8788d110-7c1b-495d-a102-d277ae1ce2ef",
   "metadata": {},
   "outputs": [
    {
     "name": "stdout",
     "output_type": "stream",
     "text": [
      "Combined DataFrame saved to C:\\Users\\Francis\\Desktop\\MSDS\\Term2\\DMW\\FinalProject\\archive_amazon\\result.csv\n"
     ]
    }
   ],
   "source": [
    "# Consolidate the Amazon data set into one csv (first 500 rows per category).\n",
    "\n",
    "import os\n",
    "import pandas as pd\n",
    "\n",
    "\n",
    "directory = r'C:\\Users\\Francis\\Desktop\\MSDS\\Term2\\DMW\\FinalProject\\archive_amazon'\n",
    "dfs = []\n",
    "for filename in os.listdir(directory):\n",
    "    if filename.endswith(\".csv\"):\n",
    "        file_path = os.path.join(directory, filename)\n",
    "        df = pd.read_csv(file_path, usecols=['name', 'main_category', 'sub_category'], nrows=500)\n",
    "        dfs.append(df)\n",
    "\n",
    "combined_df = pd.concat(dfs, ignore_index=True)\n",
    "\n",
    "output_file = r'C:\\Users\\Francis\\Desktop\\MSDS\\Term2\\DMW\\FinalProject\\archive_amazon\\result.csv'\n",
    "combined_df.to_csv(output_file, index=False)\n",
    "\n",
    "print(f\"Combined DataFrame saved to {output_file}\")"
   ]
  },
  {
   "cell_type": "code",
   "execution_count": 1,
   "id": "c4fbe489-201b-4bae-9fcd-f1ef6a77ca42",
   "metadata": {},
   "outputs": [
    {
     "name": "stdout",
     "output_type": "stream",
     "text": [
      "Predicted category: sports & fitness\n"
     ]
    }
   ],
   "source": [
    "# Model training via NLTK and SVM.\n",
    "\n",
    "import nltk\n",
    "from sklearn.feature_extraction.text import TfidfVectorizer\n",
    "from sklearn.svm import SVC\n",
    "import pandas as pd\n",
    "import numpy as np\n",
    "\n",
    "file = r'C:\\Users\\Francis\\Desktop\\MSDS\\Term2\\DMW\\FinalProject\\archive_data\\result_v0501.csv' # updated the file\n",
    "df = pd.read_csv(file, usecols=['name', 'main_category', 'sub_category'])\n",
    "x = df['name'].values.tolist()\n",
    "y = df['main_category'].values.tolist()\n",
    "training_data = [(x[i], y[i]) for i in range(len(x))]\n",
    "\n",
    "\n",
    "# Preprocessing\n",
    "stop_words = set(nltk.corpus.stopwords.words('english'))\n",
    "lemmatizer = nltk.stem.WordNetLemmatizer()\n",
    "\n",
    "def preprocess_text(text):\n",
    "    tokens = nltk.word_tokenize(text.lower())\n",
    "    tokens = [lemmatizer.lemmatize(token) for token in tokens if token.isalnum() and token not in stop_words]\n",
    "    return ' '.join(tokens)\n",
    "\n",
    "X_train = [preprocess_text(data[0]) for data in training_data]\n",
    "y_train = [data[1] for data in training_data]\n",
    "\n",
    "# Feature Extraction\n",
    "vectorizer = TfidfVectorizer()\n",
    "X_train_vectorized = vectorizer.fit_transform(X_train)\n",
    "\n",
    "# Model Training\n",
    "classifier = SVC(kernel='linear')\n",
    "classifier.fit(X_train_vectorized, y_train)\n",
    "\n",
    "# Example prediction\n",
    "new_phrase = \"Black leather jacket\"\n",
    "X_new = vectorizer.transform([preprocess_text(new_phrase)])\n",
    "predicted_category = classifier.predict(X_new)[0]\n",
    "print(\"Predicted category:\", predicted_category)"
   ]
  },
  {
   "cell_type": "code",
   "execution_count": 2,
   "id": "4beaa09f-5573-493f-b0b4-a157b8c80f44",
   "metadata": {},
   "outputs": [],
   "source": [
    "# Category prediction based on trained model.\n",
    "\n",
    "def predict_cat(phrase):\n",
    "    X_new = vectorizer.transform([preprocess_text(phrase)])\n",
    "    predicted_category = classifier.predict(X_new)[0]\n",
    "    return predicted_category"
   ]
  },
  {
   "cell_type": "code",
   "execution_count": 3,
   "id": "82270545-e4d4-425c-8db0-4c0048992564",
   "metadata": {},
   "outputs": [
    {
     "name": "stdout",
     "output_type": "stream",
     "text": [
      "Predicted categories saved to C:\\Users\\Francis\\Desktop\\MSDS\\Term2\\DMW\\FinalProject\\archive_data\\predictedN2.csv\n"
     ]
    }
   ],
   "source": [
    "# Generate csv of predicted categories from our data (Product Description).\n",
    "\n",
    "file = r'C:\\Users\\Francis\\Desktop\\MSDS\\Term2\\DMW\\FinalProject\\archive_data\\fileN.csv'\n",
    "df = pd.read_csv(file, usecols=['Product_Description', 'Product_Category'])\n",
    "df['Predicted_Category'] = df['Product_Description'].apply(predict_cat)\n",
    "\n",
    "output_file = r'C:\\Users\\Francis\\Desktop\\MSDS\\Term2\\DMW\\FinalProject\\archive_data\\predictedN2.csv' # updated the output\n",
    "df.to_csv(output_file, index=False)\n",
    "\n",
    "print(f\"Predicted categories saved to {output_file}\")"
   ]
  },
  {
   "cell_type": "code",
   "execution_count": null,
   "id": "2535ad96-6016-4fe3-9c81-f537bf933b30",
   "metadata": {},
   "outputs": [],
   "source": []
  }
 ],
 "metadata": {
  "kernelspec": {
   "display_name": "Python 3 (ipykernel)",
   "language": "python",
   "name": "python3"
  },
  "language_info": {
   "codemirror_mode": {
    "name": "ipython",
    "version": 3
   },
   "file_extension": ".py",
   "mimetype": "text/x-python",
   "name": "python",
   "nbconvert_exporter": "python",
   "pygments_lexer": "ipython3",
   "version": "3.11.8"
  }
 },
 "nbformat": 4,
 "nbformat_minor": 5
}
