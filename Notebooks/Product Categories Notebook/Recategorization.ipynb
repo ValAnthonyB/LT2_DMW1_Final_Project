{
 "cells": [
  {
   "cell_type": "code",
   "execution_count": 1,
   "id": "10075f77-60ce-4665-aa93-2dab532de2a8",
   "metadata": {},
   "outputs": [],
   "source": [
    "import pandas as pd"
   ]
  },
  {
   "cell_type": "markdown",
   "id": "835c95ad-b4c6-4060-8c20-7b16020c48a6",
   "metadata": {},
   "source": [
    "# Read the data\n",
    "\n",
    "Processing steps of the product categories:\n",
    "1. predictedN2.csv - Frans' output.\n",
    "2. predictedN2_V2.csv - Manually fixed misclassified products using Excel. Added the ``Kids Apparel`` (kids and toddler keyword), ``Caps & Hats`` (cap and hat keyword), and ``Sports & Fitness`` (performance keyword) categories.\n",
    "3. prod_categories.csv - Categorized the ``apparel`` category further into ``Tees`` and ``Hoodies & Jackets``. Also recategorized the products under the ``industrial supplies`` category into ``home & kitchen``."
   ]
  },
  {
   "cell_type": "code",
   "execution_count": 2,
   "id": "07892fe3-713d-4d0f-a148-0fb74db7b388",
   "metadata": {},
   "outputs": [
    {
     "data": {
      "text/html": [
       "<div>\n",
       "<style scoped>\n",
       "    .dataframe tbody tr th:only-of-type {\n",
       "        vertical-align: middle;\n",
       "    }\n",
       "\n",
       "    .dataframe tbody tr th {\n",
       "        vertical-align: top;\n",
       "    }\n",
       "\n",
       "    .dataframe thead th {\n",
       "        text-align: right;\n",
       "    }\n",
       "</style>\n",
       "<table border=\"1\" class=\"dataframe\">\n",
       "  <thead>\n",
       "    <tr style=\"text-align: right;\">\n",
       "      <th></th>\n",
       "      <th>Product_Description</th>\n",
       "      <th>Product_Category</th>\n",
       "      <th>Predicted_Category</th>\n",
       "    </tr>\n",
       "  </thead>\n",
       "  <tbody>\n",
       "    <tr>\n",
       "      <th>0</th>\n",
       "      <td>Nest Learning Thermostat 3rd Gen-USA - Stainle...</td>\n",
       "      <td>Nest-USA</td>\n",
       "      <td>home &amp; kitchen</td>\n",
       "    </tr>\n",
       "    <tr>\n",
       "      <th>1</th>\n",
       "      <td>Nest Cam Outdoor Security Camera - USA</td>\n",
       "      <td>Nest-USA</td>\n",
       "      <td>home &amp; kitchen</td>\n",
       "    </tr>\n",
       "    <tr>\n",
       "      <th>2</th>\n",
       "      <td>Nest Protect Smoke + CO White Battery Alarm-USA</td>\n",
       "      <td>Nest-USA</td>\n",
       "      <td>home &amp; kitchen</td>\n",
       "    </tr>\n",
       "    <tr>\n",
       "      <th>3</th>\n",
       "      <td>Nest Cam Indoor Security Camera - USA</td>\n",
       "      <td>Nest-USA</td>\n",
       "      <td>home &amp; kitchen</td>\n",
       "    </tr>\n",
       "    <tr>\n",
       "      <th>4</th>\n",
       "      <td>Nest Protect Smoke + CO White Wired Alarm-USA</td>\n",
       "      <td>Nest-USA</td>\n",
       "      <td>home &amp; kitchen</td>\n",
       "    </tr>\n",
       "  </tbody>\n",
       "</table>\n",
       "</div>"
      ],
      "text/plain": [
       "                                 Product_Description Product_Category  \\\n",
       "0  Nest Learning Thermostat 3rd Gen-USA - Stainle...         Nest-USA   \n",
       "1             Nest Cam Outdoor Security Camera - USA         Nest-USA   \n",
       "2    Nest Protect Smoke + CO White Battery Alarm-USA         Nest-USA   \n",
       "3              Nest Cam Indoor Security Camera - USA         Nest-USA   \n",
       "4      Nest Protect Smoke + CO White Wired Alarm-USA         Nest-USA   \n",
       "\n",
       "  Predicted_Category  \n",
       "0     home & kitchen  \n",
       "1     home & kitchen  \n",
       "2     home & kitchen  \n",
       "3     home & kitchen  \n",
       "4     home & kitchen  "
      ]
     },
     "execution_count": 2,
     "metadata": {},
     "output_type": "execute_result"
    }
   ],
   "source": [
    "df = pd.read_csv(\"predictedN2_V2.csv\") \n",
    "df.head()"
   ]
  },
  {
   "cell_type": "markdown",
   "id": "cfe7ee59-14f7-4ade-bfde-086659b8b88d",
   "metadata": {},
   "source": [
    "# Separate apparel into Tees, Hoodie/Jacket/Vest"
   ]
  },
  {
   "cell_type": "code",
   "execution_count": 3,
   "id": "689ea7d5-2dc1-4f3f-a94e-0b540f315a34",
   "metadata": {},
   "outputs": [],
   "source": [
    "def apparel_cleaning(prod, cat):\n",
    "    if cat == 'apparel':\n",
    "        if 'tee' in prod.lower():\n",
    "            return 'Tees'\n",
    "\n",
    "        elif ('hoodie' in prod.lower()) or ('jacket' in prod.lower()) or ('vest' in prod.lower()):\n",
    "            return 'Hoodies and Jackets'\n",
    "\n",
    "        else:\n",
    "            return 'Tees'\n",
    "    elif cat == \"industrial supplies\":\n",
    "        return \"home & kitchen\"\n",
    "    \n",
    "    else:\n",
    "        return cat\n",
    "\n",
    "df['Predicted_Category'] = df.apply(lambda row: apparel_cleaning(row['Product_Description'], row['Predicted_Category']) \n",
    "                                    , axis=1)"
   ]
  },
  {
   "cell_type": "markdown",
   "id": "5fd0b55b-d91c-4336-acae-2fd5444c8257",
   "metadata": {},
   "source": [
    "# Export the final product categorization into a CSV file"
   ]
  },
  {
   "cell_type": "code",
   "execution_count": 4,
   "id": "a3cd22b5-4d7f-4af8-9827-2d0c751ece93",
   "metadata": {},
   "outputs": [],
   "source": [
    "df.to_csv('../../Data/prod_categories.csv', index=False)  #"
   ]
  }
 ],
 "metadata": {
  "kernelspec": {
   "display_name": "Python 3 (ipykernel)",
   "language": "python",
   "name": "python3"
  },
  "language_info": {
   "codemirror_mode": {
    "name": "ipython",
    "version": 3
   },
   "file_extension": ".py",
   "mimetype": "text/x-python",
   "name": "python",
   "nbconvert_exporter": "python",
   "pygments_lexer": "ipython3",
   "version": "3.11.2"
  }
 },
 "nbformat": 4,
 "nbformat_minor": 5
}
