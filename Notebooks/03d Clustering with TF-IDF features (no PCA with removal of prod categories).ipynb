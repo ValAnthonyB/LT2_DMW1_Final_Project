{
 "cells": [
  {
   "cell_type": "code",
   "execution_count": 1,
   "id": "bbdc69e6-e46a-4d09-86bd-8e96654b365b",
   "metadata": {},
   "outputs": [],
   "source": [
    "import pandas as pd\n",
    "import numpy as np\n",
    "import matplotlib.pyplot as plt"
   ]
  },
  {
   "cell_type": "markdown",
   "id": "eafd2ed6-004c-4b7e-88b6-cd6cad4e014d",
   "metadata": {},
   "source": [
    "# Loading the data"
   ]
  },
  {
   "cell_type": "code",
   "execution_count": 2,
   "id": "31fedd6c-1b99-4fd0-981c-5f37502324ef",
   "metadata": {},
   "outputs": [
    {
     "data": {
      "text/html": [
       "<div>\n",
       "<style scoped>\n",
       "    .dataframe tbody tr th:only-of-type {\n",
       "        vertical-align: middle;\n",
       "    }\n",
       "\n",
       "    .dataframe tbody tr th {\n",
       "        vertical-align: top;\n",
       "    }\n",
       "\n",
       "    .dataframe thead th {\n",
       "        text-align: right;\n",
       "    }\n",
       "</style>\n",
       "<table border=\"1\" class=\"dataframe\">\n",
       "  <thead>\n",
       "    <tr style=\"text-align: right;\">\n",
       "      <th></th>\n",
       "      <th>bagsandluggage</th>\n",
       "      <th>beautyandhealth</th>\n",
       "      <th>capsandhats</th>\n",
       "      <th>drinkware</th>\n",
       "      <th>hoodiesandjackets</th>\n",
       "      <th>kidsapparel</th>\n",
       "      <th>petsupplies</th>\n",
       "      <th>sportsandfitness</th>\n",
       "    </tr>\n",
       "    <tr>\n",
       "      <th>CustomerID</th>\n",
       "      <th></th>\n",
       "      <th></th>\n",
       "      <th></th>\n",
       "      <th></th>\n",
       "      <th></th>\n",
       "      <th></th>\n",
       "      <th></th>\n",
       "      <th></th>\n",
       "    </tr>\n",
       "  </thead>\n",
       "  <tbody>\n",
       "    <tr>\n",
       "      <th>12347</th>\n",
       "      <td>0.568189</td>\n",
       "      <td>0.000000</td>\n",
       "      <td>0.388631</td>\n",
       "      <td>0.463974</td>\n",
       "      <td>0.366188</td>\n",
       "      <td>0.215148</td>\n",
       "      <td>0.0</td>\n",
       "      <td>0.361210</td>\n",
       "    </tr>\n",
       "    <tr>\n",
       "      <th>12348</th>\n",
       "      <td>0.000000</td>\n",
       "      <td>0.000000</td>\n",
       "      <td>0.000000</td>\n",
       "      <td>0.636778</td>\n",
       "      <td>0.000000</td>\n",
       "      <td>0.590556</td>\n",
       "      <td>0.0</td>\n",
       "      <td>0.495740</td>\n",
       "    </tr>\n",
       "    <tr>\n",
       "      <th>12350</th>\n",
       "      <td>0.000000</td>\n",
       "      <td>0.000000</td>\n",
       "      <td>0.974051</td>\n",
       "      <td>0.000000</td>\n",
       "      <td>0.000000</td>\n",
       "      <td>0.000000</td>\n",
       "      <td>0.0</td>\n",
       "      <td>0.226331</td>\n",
       "    </tr>\n",
       "    <tr>\n",
       "      <th>12356</th>\n",
       "      <td>0.203496</td>\n",
       "      <td>0.436919</td>\n",
       "      <td>0.000000</td>\n",
       "      <td>0.498515</td>\n",
       "      <td>0.393450</td>\n",
       "      <td>0.462330</td>\n",
       "      <td>0.0</td>\n",
       "      <td>0.388101</td>\n",
       "    </tr>\n",
       "    <tr>\n",
       "      <th>12359</th>\n",
       "      <td>0.000000</td>\n",
       "      <td>0.000000</td>\n",
       "      <td>1.000000</td>\n",
       "      <td>0.000000</td>\n",
       "      <td>0.000000</td>\n",
       "      <td>0.000000</td>\n",
       "      <td>0.0</td>\n",
       "      <td>0.000000</td>\n",
       "    </tr>\n",
       "  </tbody>\n",
       "</table>\n",
       "</div>"
      ],
      "text/plain": [
       "            bagsandluggage  beautyandhealth  capsandhats  drinkware  \\\n",
       "CustomerID                                                            \n",
       "12347             0.568189         0.000000     0.388631   0.463974   \n",
       "12348             0.000000         0.000000     0.000000   0.636778   \n",
       "12350             0.000000         0.000000     0.974051   0.000000   \n",
       "12356             0.203496         0.436919     0.000000   0.498515   \n",
       "12359             0.000000         0.000000     1.000000   0.000000   \n",
       "\n",
       "            hoodiesandjackets  kidsapparel  petsupplies  sportsandfitness  \n",
       "CustomerID                                                                 \n",
       "12347                0.366188     0.215148          0.0          0.361210  \n",
       "12348                0.000000     0.590556          0.0          0.495740  \n",
       "12350                0.000000     0.000000          0.0          0.226331  \n",
       "12356                0.393450     0.462330          0.0          0.388101  \n",
       "12359                0.000000     0.000000          0.0          0.000000  "
      ]
     },
     "execution_count": 2,
     "metadata": {},
     "output_type": "execute_result"
    }
   ],
   "source": [
    "df = pd.read_parquet('../Data/features_tfidf_removed_categories.parquet.gz')\n",
    "df.head()"
   ]
  },
  {
   "cell_type": "markdown",
   "id": "14a6d7e0-6e17-45ea-a4de-44abe6c9df38",
   "metadata": {},
   "source": [
    "# Mean scaling of the TF-IDF features"
   ]
  },
  {
   "cell_type": "code",
   "execution_count": 3,
   "id": "658ec63a-83c3-4e85-a506-6deb15bd4639",
   "metadata": {},
   "outputs": [],
   "source": [
    "from sklearn.preprocessing import StandardScaler\n",
    "\n",
    "# Initialize the StandardScaler\n",
    "scaler = StandardScaler()\n",
    "\n",
    "# Fit and transform the data simultaneously\n",
    "X = scaler.fit_transform(df.to_numpy())"
   ]
  },
  {
   "cell_type": "code",
   "execution_count": null,
   "id": "f2d20ec6-0c75-423f-8fce-7e4afe3580fd",
   "metadata": {},
   "outputs": [],
   "source": []
  },
  {
   "cell_type": "code",
   "execution_count": null,
   "id": "36ee4f7f-ec77-4162-b3fd-55105ba6a6cd",
   "metadata": {},
   "outputs": [],
   "source": []
  },
  {
   "cell_type": "markdown",
   "id": "ea3403be-2218-4c0e-b6ad-13f95e6a7ea5",
   "metadata": {},
   "source": [
    "# PCA"
   ]
  },
  {
   "cell_type": "code",
   "execution_count": null,
   "id": "47fe7ac9-de81-4f57-9bfb-42f7351757dc",
   "metadata": {},
   "outputs": [],
   "source": [
    "# from sklearn.decomposition import PCA\n",
    "\n",
    "# # Initialize PCA\n",
    "# pca = PCA()\n",
    "\n",
    "# # Fit PCA to the mean-scaled data\n",
    "# pca.fit(X)\n",
    "\n",
    "# plt.plot(list(range(1, df.shape[1] + 1)), np.cumsum(pca.explained_variance_ratio_), marker='o')\n",
    "# plt.xlabel('Number of Components')\n",
    "# plt.ylabel('Cumulative Explained Variance')"
   ]
  },
  {
   "cell_type": "markdown",
   "id": "70923f8e-4650-41d8-8d6d-02d9844dee31",
   "metadata": {},
   "source": [
    "NOTE: Keep 7 principal components."
   ]
  },
  {
   "cell_type": "code",
   "execution_count": null,
   "id": "d0c04076-6a75-4c34-92d9-555d5042bf2e",
   "metadata": {},
   "outputs": [],
   "source": [
    "# pca = PCA(n_components=7)\n",
    "\n",
    "# # Fit PCA to the mean-scaled data and transform it\n",
    "# X = pca.fit_transform(X)"
   ]
  },
  {
   "cell_type": "code",
   "execution_count": null,
   "id": "111380f9-513d-4488-9e7e-084e5cfb9b8d",
   "metadata": {},
   "outputs": [],
   "source": []
  },
  {
   "cell_type": "code",
   "execution_count": null,
   "id": "aac23e77-fefc-48be-9716-0322ab445a8e",
   "metadata": {},
   "outputs": [],
   "source": []
  },
  {
   "cell_type": "markdown",
   "id": "eb34343d-8f25-4f62-af31-ae67db202b50",
   "metadata": {},
   "source": [
    "# Clustering"
   ]
  },
  {
   "cell_type": "markdown",
   "id": "ff7111a9-822c-4c9d-a04a-0fd3061f94f4",
   "metadata": {},
   "source": [
    "### 1. K-Means"
   ]
  },
  {
   "cell_type": "code",
   "execution_count": 8,
   "id": "3be89c09-3377-422a-b599-12664b9d2237",
   "metadata": {},
   "outputs": [
    {
     "name": "stdout",
     "output_type": "stream",
     "text": [
      "k = 3\n",
      "\tj = 0\n",
      "\tj = 1\n",
      "\tj = 2\n",
      "\tj = 3\n",
      "\tj = 4\n",
      "\tj = 5\n",
      "\tj = 6\n",
      "\tj = 7\n",
      "\tj = 8\n",
      "\tj = 9\n",
      "\tj = 10\n",
      "\tj = 11\n",
      "\tj = 12\n",
      "\tj = 13\n",
      "\tj = 14\n",
      "k = 4\n",
      "\tj = 0\n",
      "\tj = 1\n",
      "\tj = 2\n",
      "\tj = 3\n",
      "\tj = 4\n",
      "\tj = 5\n",
      "\tj = 6\n",
      "\tj = 7\n",
      "\tj = 8\n",
      "\tj = 9\n",
      "\tj = 10\n",
      "\tj = 11\n",
      "\tj = 12\n",
      "\tj = 13\n",
      "\tj = 14\n",
      "k = 5\n",
      "\tj = 0\n",
      "\tj = 1\n",
      "\tj = 2\n",
      "\tj = 3\n",
      "\tj = 4\n",
      "\tj = 5\n",
      "\tj = 6\n",
      "\tj = 7\n",
      "\tj = 8\n",
      "\tj = 9\n",
      "\tj = 10\n",
      "\tj = 11\n",
      "\tj = 12\n",
      "\tj = 13\n",
      "\tj = 14\n",
      "k = 6\n",
      "\tj = 0\n",
      "\tj = 1\n",
      "\tj = 2\n",
      "\tj = 3\n",
      "\tj = 4\n",
      "\tj = 5\n",
      "\tj = 6\n",
      "\tj = 7\n",
      "\tj = 8\n",
      "\tj = 9\n",
      "\tj = 10\n",
      "\tj = 11\n",
      "\tj = 12\n",
      "\tj = 13\n",
      "\tj = 14\n",
      "k = 7\n",
      "\tj = 0\n",
      "\tj = 1\n",
      "\tj = 2\n",
      "\tj = 3\n",
      "\tj = 4\n",
      "\tj = 5\n",
      "\tj = 6\n",
      "\tj = 7\n",
      "\tj = 8\n",
      "\tj = 9\n",
      "\tj = 10\n",
      "\tj = 11\n",
      "\tj = 12\n",
      "\tj = 13\n",
      "\tj = 14\n",
      "k = 8\n",
      "\tj = 0\n",
      "\tj = 1\n",
      "\tj = 2\n",
      "\tj = 3\n",
      "\tj = 4\n",
      "\tj = 5\n",
      "\tj = 6\n",
      "\tj = 7\n",
      "\tj = 8\n",
      "\tj = 9\n",
      "\tj = 10\n",
      "\tj = 11\n",
      "\tj = 12\n",
      "\tj = 13\n",
      "\tj = 14\n",
      "k = 9\n",
      "\tj = 0\n",
      "\tj = 1\n",
      "\tj = 2\n",
      "\tj = 3\n",
      "\tj = 4\n",
      "\tj = 5\n",
      "\tj = 6\n",
      "\tj = 7\n",
      "\tj = 8\n",
      "\tj = 9\n",
      "\tj = 10\n",
      "\tj = 11\n",
      "\tj = 12\n",
      "\tj = 13\n",
      "\tj = 14\n",
      "k = 10\n",
      "\tj = 0\n",
      "\tj = 1\n",
      "\tj = 2\n",
      "\tj = 3\n",
      "\tj = 4\n",
      "\tj = 5\n",
      "\tj = 6\n",
      "\tj = 7\n",
      "\tj = 8\n",
      "\tj = 9\n",
      "\tj = 10\n",
      "\tj = 11\n",
      "\tj = 12\n",
      "\tj = 13\n",
      "\tj = 14\n",
      "k = 11\n",
      "\tj = 0\n",
      "\tj = 1\n",
      "\tj = 2\n",
      "\tj = 3\n",
      "\tj = 4\n",
      "\tj = 5\n",
      "\tj = 6\n",
      "\tj = 7\n",
      "\tj = 8\n",
      "\tj = 9\n",
      "\tj = 10\n",
      "\tj = 11\n",
      "\tj = 12\n",
      "\tj = 13\n",
      "\tj = 14\n",
      "k = 12\n",
      "\tj = 0\n",
      "\tj = 1\n",
      "\tj = 2\n",
      "\tj = 3\n",
      "\tj = 4\n",
      "\tj = 5\n",
      "\tj = 6\n",
      "\tj = 7\n",
      "\tj = 8\n",
      "\tj = 9\n",
      "\tj = 10\n",
      "\tj = 11\n",
      "\tj = 12\n",
      "\tj = 13\n",
      "\tj = 14\n",
      "k = 13\n",
      "\tj = 0\n",
      "\tj = 1\n",
      "\tj = 2\n",
      "\tj = 3\n",
      "\tj = 4\n",
      "\tj = 5\n",
      "\tj = 6\n",
      "\tj = 7\n",
      "\tj = 8\n",
      "\tj = 9\n",
      "\tj = 10\n",
      "\tj = 11\n",
      "\tj = 12\n",
      "\tj = 13\n",
      "\tj = 14\n",
      "k = 14\n",
      "\tj = 0\n",
      "\tj = 1\n",
      "\tj = 2\n",
      "\tj = 3\n",
      "\tj = 4\n",
      "\tj = 5\n",
      "\tj = 6\n",
      "\tj = 7\n",
      "\tj = 8\n",
      "\tj = 9\n",
      "\tj = 10\n",
      "\tj = 11\n",
      "\tj = 12\n",
      "\tj = 13\n",
      "\tj = 14\n"
     ]
    }
   ],
   "source": [
    "from sklearn.cluster import KMeans\n",
    "from sklearn.metrics import silhouette_score, calinski_harabasz_score, davies_bouldin_score\n",
    "\n",
    "# Store the evaluation scores\n",
    "inertia = []\n",
    "silhouette_scores = []\n",
    "ch_score = []\n",
    "davies_bouldin_scores = []\n",
    "\n",
    "# Try several K number of clusters\n",
    "k_values = range(3, 15)\n",
    "for k in k_values:\n",
    "    print(f\"k = {k}\")\n",
    "\n",
    "    # Storing the raw scores for each model\n",
    "    inertia_samples = []\n",
    "    silhouette_score_samples = []\n",
    "    ch_score_samples = []\n",
    "    db_score_samples = []\n",
    "\n",
    "    # Cluster 15 times to get the average evaluation scores later on\n",
    "    for _ in range(15):\n",
    "        print(f\"\\tj = {_}\")\n",
    "        \n",
    "        # Clustering Step\n",
    "        kmeans = KMeans(n_clusters=k, \n",
    "                        init='k-means++', \n",
    "                        algorithm='elkan',\n",
    "                        n_init=10)\n",
    "        kmeans.fit(X)\n",
    "\n",
    "        # Getting the cluster labels\n",
    "        labels = kmeans.labels_\n",
    "\n",
    "        # Get the Inertia (for elbow method)\n",
    "        inertia_samples.append(kmeans.inertia_)\n",
    "    \n",
    "        # Get the Silhouette score\n",
    "        silhouette_score_samples.append(silhouette_score(X, labels))\n",
    "\n",
    "        # Calinski-Harabasz score \n",
    "        ch_score_samples.append(calinski_harabasz_score(X, labels))\n",
    "        \n",
    "        # Davies Bouldin Score\n",
    "        db_score_samples.append(davies_bouldin_score(X, labels))\n",
    "\n",
    "\n",
    "    # Mean of the metrics\n",
    "    inertia.append(inertia_samples)\n",
    "    silhouette_scores.append(silhouette_score_samples)\n",
    "    ch_score.append(ch_score_samples)\n",
    "    davies_bouldin_scores.append(db_score_samples)"
   ]
  },
  {
   "cell_type": "code",
   "execution_count": 9,
   "id": "1dc7816c-6414-4561-b3cb-2594c0f67247",
   "metadata": {},
   "outputs": [
    {
     "data": {
      "text/plain": [
       "Text(0.5, 1.0, 'Davies Bouldin Score (ideal: close to zero)')"
      ]
     },
     "execution_count": 9,
     "metadata": {},
     "output_type": "execute_result"
    },
    {
     "data": {
      "image/png": "[encoded data removed]",
      "text/plain": [
       "<Figure size 1000x1000 with 4 Axes>"
      ]
     },
     "metadata": {},
     "output_type": "display_data"
    }
   ],
   "source": [
    "fig, axs = plt.subplots(2, 2, figsize=(10,10))\n",
    "\n",
    "axs[0, 0].plot(k_values, np.mean(inertia, axis=1), linestyle='-', marker='o')\n",
    "axs[0, 0].errorbar(k_values, np.mean(inertia, axis=1), yerr = np.std(inertia, axis=1, ddof=1), fmt ='none')\n",
    "axs[0, 0].set_title('Elbow Method')\n",
    "\n",
    "axs[0, 1].plot(k_values, np.mean(silhouette_scores, axis=1), linestyle='-', marker='o')\n",
    "axs[0, 1].errorbar(k_values, np.mean(silhouette_scores, axis=1), yerr = np.std(silhouette_scores, axis=1, ddof=1), fmt ='none')\n",
    "axs[0, 1].set_title('Silhouette Score (ideal: higher than .5)')\n",
    "\n",
    "axs[1, 0].plot(k_values, np.mean(ch_score, axis=1), linestyle='-', marker='o')\n",
    "axs[1, 0].errorbar(k_values, np.mean(ch_score, axis=1), yerr = np.std(ch_score, axis=1, ddof=1), fmt ='none')\n",
    "axs[1, 0].set_title('Calinski-Harabasz Score (ideal: large score)')\n",
    "\n",
    "axs[1, 1].plot(k_values, np.mean(davies_bouldin_scores, axis=1), linestyle='-', marker='o')\n",
    "axs[1, 1].errorbar(k_values, np.mean(davies_bouldin_scores, axis=1), yerr = np.std(davies_bouldin_scores, axis=1, ddof=1), fmt ='none')\n",
    "axs[1, 1].set_title('Davies Bouldin Score (ideal: close to zero)')"
   ]
  },
  {
   "cell_type": "markdown",
   "id": "c32c011c-6ff6-422c-9d3a-b53ab844f7d6",
   "metadata": {},
   "source": [
    "### NOTE: 8 clusters may be a good candidate (elbow at k=8, silhouette and Calinski-Harabasz scores peak at k=8, and the Davies Bouldin score is lowest at k=8)."
   ]
  },
  {
   "cell_type": "code",
   "execution_count": null,
   "id": "fec6452f-9263-45b9-b66f-366a16fd963d",
   "metadata": {},
   "outputs": [],
   "source": []
  },
  {
   "cell_type": "code",
   "execution_count": null,
   "id": "68a4dfa6-d9f3-4f88-ab1d-abc5d96d2a1b",
   "metadata": {},
   "outputs": [],
   "source": []
  },
  {
   "cell_type": "markdown",
   "id": "aab61fc0-cd68-4d1e-9de1-43cd78d7b2aa",
   "metadata": {},
   "source": [
    "# Final Clustering model\n",
    "\n",
    "We choose a K-Means model with ``k = 8``."
   ]
  },
  {
   "cell_type": "code",
   "execution_count": 10,
   "id": "33c0e5bc-bd0c-4078-a8d5-6c17a288a884",
   "metadata": {},
   "outputs": [
    {
     "data": {
      "text/html": [
       "<div>\n",
       "<style scoped>\n",
       "    .dataframe tbody tr th:only-of-type {\n",
       "        vertical-align: middle;\n",
       "    }\n",
       "\n",
       "    .dataframe tbody tr th {\n",
       "        vertical-align: top;\n",
       "    }\n",
       "\n",
       "    .dataframe thead th {\n",
       "        text-align: right;\n",
       "    }\n",
       "</style>\n",
       "<table border=\"1\" class=\"dataframe\">\n",
       "  <thead>\n",
       "    <tr style=\"text-align: right;\">\n",
       "      <th></th>\n",
       "      <th>bagsandluggage</th>\n",
       "      <th>beautyandhealth</th>\n",
       "      <th>capsandhats</th>\n",
       "      <th>drinkware</th>\n",
       "      <th>hoodiesandjackets</th>\n",
       "      <th>kidsapparel</th>\n",
       "      <th>petsupplies</th>\n",
       "      <th>sportsandfitness</th>\n",
       "      <th>cluster</th>\n",
       "    </tr>\n",
       "    <tr>\n",
       "      <th>CustomerID</th>\n",
       "      <th></th>\n",
       "      <th></th>\n",
       "      <th></th>\n",
       "      <th></th>\n",
       "      <th></th>\n",
       "      <th></th>\n",
       "      <th></th>\n",
       "      <th></th>\n",
       "      <th></th>\n",
       "    </tr>\n",
       "  </thead>\n",
       "  <tbody>\n",
       "    <tr>\n",
       "      <th>12347</th>\n",
       "      <td>0.568189</td>\n",
       "      <td>0.000000</td>\n",
       "      <td>0.388631</td>\n",
       "      <td>0.463974</td>\n",
       "      <td>0.366188</td>\n",
       "      <td>0.215148</td>\n",
       "      <td>0.0</td>\n",
       "      <td>0.361210</td>\n",
       "      <td>0</td>\n",
       "    </tr>\n",
       "    <tr>\n",
       "      <th>12348</th>\n",
       "      <td>0.000000</td>\n",
       "      <td>0.000000</td>\n",
       "      <td>0.000000</td>\n",
       "      <td>0.636778</td>\n",
       "      <td>0.000000</td>\n",
       "      <td>0.590556</td>\n",
       "      <td>0.0</td>\n",
       "      <td>0.495740</td>\n",
       "      <td>7</td>\n",
       "    </tr>\n",
       "    <tr>\n",
       "      <th>12350</th>\n",
       "      <td>0.000000</td>\n",
       "      <td>0.000000</td>\n",
       "      <td>0.974051</td>\n",
       "      <td>0.000000</td>\n",
       "      <td>0.000000</td>\n",
       "      <td>0.000000</td>\n",
       "      <td>0.0</td>\n",
       "      <td>0.226331</td>\n",
       "      <td>2</td>\n",
       "    </tr>\n",
       "    <tr>\n",
       "      <th>12356</th>\n",
       "      <td>0.203496</td>\n",
       "      <td>0.436919</td>\n",
       "      <td>0.000000</td>\n",
       "      <td>0.498515</td>\n",
       "      <td>0.393450</td>\n",
       "      <td>0.462330</td>\n",
       "      <td>0.0</td>\n",
       "      <td>0.388101</td>\n",
       "      <td>7</td>\n",
       "    </tr>\n",
       "    <tr>\n",
       "      <th>12359</th>\n",
       "      <td>0.000000</td>\n",
       "      <td>0.000000</td>\n",
       "      <td>1.000000</td>\n",
       "      <td>0.000000</td>\n",
       "      <td>0.000000</td>\n",
       "      <td>0.000000</td>\n",
       "      <td>0.0</td>\n",
       "      <td>0.000000</td>\n",
       "      <td>2</td>\n",
       "    </tr>\n",
       "  </tbody>\n",
       "</table>\n",
       "</div>"
      ],
      "text/plain": [
       "            bagsandluggage  beautyandhealth  capsandhats  drinkware  \\\n",
       "CustomerID                                                            \n",
       "12347             0.568189         0.000000     0.388631   0.463974   \n",
       "12348             0.000000         0.000000     0.000000   0.636778   \n",
       "12350             0.000000         0.000000     0.974051   0.000000   \n",
       "12356             0.203496         0.436919     0.000000   0.498515   \n",
       "12359             0.000000         0.000000     1.000000   0.000000   \n",
       "\n",
       "            hoodiesandjackets  kidsapparel  petsupplies  sportsandfitness  \\\n",
       "CustomerID                                                                  \n",
       "12347                0.366188     0.215148          0.0          0.361210   \n",
       "12348                0.000000     0.590556          0.0          0.495740   \n",
       "12350                0.000000     0.000000          0.0          0.226331   \n",
       "12356                0.393450     0.462330          0.0          0.388101   \n",
       "12359                0.000000     0.000000          0.0          0.000000   \n",
       "\n",
       "            cluster  \n",
       "CustomerID           \n",
       "12347             0  \n",
       "12348             7  \n",
       "12350             2  \n",
       "12356             7  \n",
       "12359             2  "
      ]
     },
     "execution_count": 10,
     "metadata": {},
     "output_type": "execute_result"
    }
   ],
   "source": [
    "from sklearn.cluster import KMeans\n",
    "from sklearn.metrics import silhouette_score, calinski_harabasz_score, davies_bouldin_score\n",
    "\n",
    "kmeans = KMeans(n_clusters=8, \n",
    "                init='k-means++', \n",
    "                algorithm='elkan',\n",
    "                n_init=10)\n",
    "kmeans.fit(X)\n",
    "\n",
    "# Put the labels in the original dataframe\n",
    "df['cluster'] = kmeans.labels_\n",
    "df.head()"
   ]
  },
  {
   "cell_type": "code",
   "execution_count": null,
   "id": "66bf0d23-353b-4efd-8afc-10e52a86dffd",
   "metadata": {},
   "outputs": [],
   "source": []
  },
  {
   "cell_type": "code",
   "execution_count": null,
   "id": "597e6c55-6d39-4511-bf8e-ee33be1c45a2",
   "metadata": {},
   "outputs": [],
   "source": []
  },
  {
   "cell_type": "markdown",
   "id": "50e30d82-47ee-4bf3-be2e-ef26b6006712",
   "metadata": {},
   "source": [
    "# Descriptives"
   ]
  },
  {
   "cell_type": "markdown",
   "id": "1be82c73-59e6-4b41-9257-116ea4157d46",
   "metadata": {},
   "source": [
    "### We load the counts dataframe"
   ]
  },
  {
   "cell_type": "code",
   "execution_count": 11,
   "id": "312a78c8-321d-4988-8391-250586938cfd",
   "metadata": {},
   "outputs": [
    {
     "data": {
      "text/html": [
       "<div>\n",
       "<style scoped>\n",
       "    .dataframe tbody tr th:only-of-type {\n",
       "        vertical-align: middle;\n",
       "    }\n",
       "\n",
       "    .dataframe tbody tr th {\n",
       "        vertical-align: top;\n",
       "    }\n",
       "\n",
       "    .dataframe thead th {\n",
       "        text-align: right;\n",
       "    }\n",
       "</style>\n",
       "<table border=\"1\" class=\"dataframe\">\n",
       "  <thead>\n",
       "    <tr style=\"text-align: right;\">\n",
       "      <th></th>\n",
       "      <th>Caps and Hats</th>\n",
       "      <th>Drinkware</th>\n",
       "      <th>Hoodies and Jackets</th>\n",
       "      <th>Kids Apparel</th>\n",
       "      <th>Tees</th>\n",
       "      <th>bags &amp; luggage</th>\n",
       "      <th>beauty &amp; health</th>\n",
       "      <th>home &amp; kitchen</th>\n",
       "      <th>office</th>\n",
       "      <th>pet supplies</th>\n",
       "      <th>sports &amp; fitness</th>\n",
       "      <th>cluster</th>\n",
       "    </tr>\n",
       "    <tr>\n",
       "      <th>CustomerID</th>\n",
       "      <th></th>\n",
       "      <th></th>\n",
       "      <th></th>\n",
       "      <th></th>\n",
       "      <th></th>\n",
       "      <th></th>\n",
       "      <th></th>\n",
       "      <th></th>\n",
       "      <th></th>\n",
       "      <th></th>\n",
       "      <th></th>\n",
       "      <th></th>\n",
       "    </tr>\n",
       "  </thead>\n",
       "  <tbody>\n",
       "    <tr>\n",
       "      <th>12347</th>\n",
       "      <td>1</td>\n",
       "      <td>1</td>\n",
       "      <td>1</td>\n",
       "      <td>1</td>\n",
       "      <td>1</td>\n",
       "      <td>1</td>\n",
       "      <td>0</td>\n",
       "      <td>1</td>\n",
       "      <td>1</td>\n",
       "      <td>0</td>\n",
       "      <td>1</td>\n",
       "      <td>0</td>\n",
       "    </tr>\n",
       "    <tr>\n",
       "      <th>12348</th>\n",
       "      <td>0</td>\n",
       "      <td>1</td>\n",
       "      <td>0</td>\n",
       "      <td>1</td>\n",
       "      <td>1</td>\n",
       "      <td>0</td>\n",
       "      <td>0</td>\n",
       "      <td>1</td>\n",
       "      <td>1</td>\n",
       "      <td>0</td>\n",
       "      <td>1</td>\n",
       "      <td>7</td>\n",
       "    </tr>\n",
       "    <tr>\n",
       "      <th>12350</th>\n",
       "      <td>1</td>\n",
       "      <td>0</td>\n",
       "      <td>0</td>\n",
       "      <td>0</td>\n",
       "      <td>1</td>\n",
       "      <td>0</td>\n",
       "      <td>0</td>\n",
       "      <td>1</td>\n",
       "      <td>0</td>\n",
       "      <td>0</td>\n",
       "      <td>1</td>\n",
       "      <td>2</td>\n",
       "    </tr>\n",
       "    <tr>\n",
       "      <th>12356</th>\n",
       "      <td>0</td>\n",
       "      <td>1</td>\n",
       "      <td>1</td>\n",
       "      <td>1</td>\n",
       "      <td>1</td>\n",
       "      <td>1</td>\n",
       "      <td>1</td>\n",
       "      <td>1</td>\n",
       "      <td>1</td>\n",
       "      <td>0</td>\n",
       "      <td>1</td>\n",
       "      <td>7</td>\n",
       "    </tr>\n",
       "    <tr>\n",
       "      <th>12359</th>\n",
       "      <td>1</td>\n",
       "      <td>0</td>\n",
       "      <td>0</td>\n",
       "      <td>0</td>\n",
       "      <td>1</td>\n",
       "      <td>0</td>\n",
       "      <td>0</td>\n",
       "      <td>1</td>\n",
       "      <td>0</td>\n",
       "      <td>0</td>\n",
       "      <td>0</td>\n",
       "      <td>2</td>\n",
       "    </tr>\n",
       "  </tbody>\n",
       "</table>\n",
       "</div>"
      ],
      "text/plain": [
       "            Caps and Hats  Drinkware  Hoodies and Jackets  Kids Apparel  Tees  \\\n",
       "CustomerID                                                                      \n",
       "12347                   1          1                    1             1     1   \n",
       "12348                   0          1                    0             1     1   \n",
       "12350                   1          0                    0             0     1   \n",
       "12356                   0          1                    1             1     1   \n",
       "12359                   1          0                    0             0     1   \n",
       "\n",
       "            bags & luggage  beauty & health  home & kitchen  office  \\\n",
       "CustomerID                                                            \n",
       "12347                    1                0               1       1   \n",
       "12348                    0                0               1       1   \n",
       "12350                    0                0               1       0   \n",
       "12356                    1                1               1       1   \n",
       "12359                    0                0               1       0   \n",
       "\n",
       "            pet supplies  sports & fitness  cluster  \n",
       "CustomerID                                           \n",
       "12347                  0                 1        0  \n",
       "12348                  0                 1        7  \n",
       "12350                  0                 1        2  \n",
       "12356                  0                 1        7  \n",
       "12359                  0                 0        2  "
      ]
     },
     "execution_count": 11,
     "metadata": {},
     "output_type": "execute_result"
    }
   ],
   "source": [
    "df_profiling = pd.read_parquet('../Data/features.parquet.gz').drop(['onesie', 'Gift Cards', 'car & motorbike'], axis=1)\n",
    "\n",
    "# Turn the counts into 1 or 0 (customer bought a product from the category or not)\n",
    "for col in df_profiling.columns:\n",
    "    df_profiling[col] = np.where(df_profiling[col] > 0, 1, 0)\n",
    "    \n",
    "df_profiling = pd.merge(df_profiling, df[['cluster']]\n",
    "                     ,how='inner'\n",
    "                     ,left_index=True\n",
    "                     ,right_index=True)\n",
    "df_profiling.head()"
   ]
  },
  {
   "cell_type": "code",
   "execution_count": 12,
   "id": "87302c99-81dc-4ea9-95de-126b0dc731b6",
   "metadata": {},
   "outputs": [
    {
     "data": {
      "text/plain": [
       "(1317, 12)"
      ]
     },
     "execution_count": 12,
     "metadata": {},
     "output_type": "execute_result"
    }
   ],
   "source": [
    "df_profiling.shape"
   ]
  },
  {
   "cell_type": "markdown",
   "id": "d172e87c-44ab-499d-b43d-fd4ada5ca87b",
   "metadata": {},
   "source": [
    "We lost around 100 customers since they bought from categories that were dropped."
   ]
  },
  {
   "cell_type": "code",
   "execution_count": null,
   "id": "83135f14-58eb-4eab-97b4-4f9f2dfbe99c",
   "metadata": {},
   "outputs": [],
   "source": []
  },
  {
   "cell_type": "code",
   "execution_count": null,
   "id": "f6c83131-229a-49f5-a238-59b8aa9f2726",
   "metadata": {},
   "outputs": [],
   "source": []
  },
  {
   "cell_type": "markdown",
   "id": "e39051df-9a43-43c9-afd9-bcb1dc7b9f6b",
   "metadata": {},
   "source": [
    "### Cluster membership"
   ]
  },
  {
   "cell_type": "code",
   "execution_count": 18,
   "id": "1c35eb10-4b83-4113-8b3f-972573e24685",
   "metadata": {},
   "outputs": [
    {
     "data": {
      "image/png": "[encoded data removed]",
      "text/plain": [
       "<Figure size 640x480 with 1 Axes>"
      ]
     },
     "metadata": {},
     "output_type": "display_data"
    }
   ],
   "source": [
    "counts = pd.DataFrame(df_profiling['cluster'].value_counts().sort_index(ascending=False))\n",
    "\n",
    "ax = counts.plot(kind='barh')\n",
    "\n",
    "ax.set_xlabel('Number of Customers')\n",
    "ax.set_xlim(0, 350)\n",
    "\n",
    "for index, value in enumerate(counts['count']):\n",
    "    ax.text(value, index, str(value))\n",
    "\n",
    "# Show the plot\n",
    "plt.show()"
   ]
  },
  {
   "cell_type": "code",
   "execution_count": null,
   "id": "279770cc-4c22-4fc3-bbab-62663ee9a146",
   "metadata": {},
   "outputs": [],
   "source": []
  },
  {
   "cell_type": "code",
   "execution_count": null,
   "id": "035c6c4c-f3cb-4dc0-83ec-e46cbea38ac1",
   "metadata": {},
   "outputs": [],
   "source": []
  },
  {
   "cell_type": "markdown",
   "id": "24f95abe-e068-4075-bf69-9ccf848c376f",
   "metadata": {},
   "source": [
    "### Proportions of each category per cluster"
   ]
  },
  {
   "cell_type": "code",
   "execution_count": 34,
   "id": "79f611be-5f3e-44a6-b368-2146ed750558",
   "metadata": {},
   "outputs": [],
   "source": [
    "def proportions(cluster_num):\n",
    "    cluster_num = int(cluster_num)\n",
    "    return df_profiling.groupby('cluster').sum().query(f'cluster == {cluster_num}') / df_profiling['cluster'].value_counts().sort_index().loc[cluster_num]"
   ]
  },
  {
   "cell_type": "markdown",
   "id": "a870ce17-3f7c-4cb5-9466-7bccfcba7432",
   "metadata": {},
   "source": [
    "### Cluster 0"
   ]
  },
  {
   "cell_type": "code",
   "execution_count": 35,
   "id": "7d586a76-8335-426d-8b27-a6fed4ca70a8",
   "metadata": {},
   "outputs": [
    {
     "data": {
      "text/html": [
       "<div>\n",
       "<style scoped>\n",
       "    .dataframe tbody tr th:only-of-type {\n",
       "        vertical-align: middle;\n",
       "    }\n",
       "\n",
       "    .dataframe tbody tr th {\n",
       "        vertical-align: top;\n",
       "    }\n",
       "\n",
       "    .dataframe thead th {\n",
       "        text-align: right;\n",
       "    }\n",
       "</style>\n",
       "<table border=\"1\" class=\"dataframe\">\n",
       "  <thead>\n",
       "    <tr style=\"text-align: right;\">\n",
       "      <th></th>\n",
       "      <th>Caps and Hats</th>\n",
       "      <th>Drinkware</th>\n",
       "      <th>Hoodies and Jackets</th>\n",
       "      <th>Kids Apparel</th>\n",
       "      <th>Tees</th>\n",
       "      <th>bags &amp; luggage</th>\n",
       "      <th>beauty &amp; health</th>\n",
       "      <th>home &amp; kitchen</th>\n",
       "      <th>office</th>\n",
       "      <th>pet supplies</th>\n",
       "      <th>sports &amp; fitness</th>\n",
       "    </tr>\n",
       "    <tr>\n",
       "      <th>cluster</th>\n",
       "      <th></th>\n",
       "      <th></th>\n",
       "      <th></th>\n",
       "      <th></th>\n",
       "      <th></th>\n",
       "      <th></th>\n",
       "      <th></th>\n",
       "      <th></th>\n",
       "      <th></th>\n",
       "      <th></th>\n",
       "      <th></th>\n",
       "    </tr>\n",
       "  </thead>\n",
       "  <tbody>\n",
       "    <tr>\n",
       "      <th>0</th>\n",
       "      <td>0.423611</td>\n",
       "      <td>0.694444</td>\n",
       "      <td>0.409722</td>\n",
       "      <td>0.270833</td>\n",
       "      <td>0.875</td>\n",
       "      <td>1.0</td>\n",
       "      <td>0.354167</td>\n",
       "      <td>0.861111</td>\n",
       "      <td>0.805556</td>\n",
       "      <td>0.104167</td>\n",
       "      <td>0.465278</td>\n",
       "    </tr>\n",
       "  </tbody>\n",
       "</table>\n",
       "</div>"
      ],
      "text/plain": [
       "         Caps and Hats  Drinkware  Hoodies and Jackets  Kids Apparel   Tees  \\\n",
       "cluster                                                                       \n",
       "0             0.423611   0.694444             0.409722      0.270833  0.875   \n",
       "\n",
       "         bags & luggage  beauty & health  home & kitchen    office  \\\n",
       "cluster                                                              \n",
       "0                   1.0         0.354167        0.861111  0.805556   \n",
       "\n",
       "         pet supplies  sports & fitness  \n",
       "cluster                                  \n",
       "0            0.104167          0.465278  "
      ]
     },
     "execution_count": 35,
     "metadata": {},
     "output_type": "execute_result"
    }
   ],
   "source": [
    "proportions(0)"
   ]
  },
  {
   "cell_type": "code",
   "execution_count": 36,
   "id": "133adb66-d0a2-472d-bb2e-e070173600eb",
   "metadata": {},
   "outputs": [
    {
     "data": {
      "text/plain": [
       "144"
      ]
     },
     "execution_count": 36,
     "metadata": {},
     "output_type": "execute_result"
    }
   ],
   "source": [
    "len(df_profiling.query('cluster == 0').index) # number of customers in this category"
   ]
  },
  {
   "cell_type": "markdown",
   "id": "763b9b98-709f-42b6-a455-12b6041df13c",
   "metadata": {},
   "source": [
    "Interested in: Tees, Home and Kitchen, Office, ``Drinkware`` and `Bags and Luggage`."
   ]
  },
  {
   "cell_type": "code",
   "execution_count": null,
   "id": "b6f4f2d6-848c-4840-ab99-5ffface4b33d",
   "metadata": {},
   "outputs": [],
   "source": []
  },
  {
   "cell_type": "code",
   "execution_count": null,
   "id": "dde558f8-9d6b-4593-ad71-2cb0ad5f8165",
   "metadata": {},
   "outputs": [],
   "source": []
  },
  {
   "cell_type": "markdown",
   "id": "46e67af0-0c0a-4d56-b3c5-e8df2a651931",
   "metadata": {},
   "source": [
    "### Cluster 1"
   ]
  },
  {
   "cell_type": "code",
   "execution_count": 37,
   "id": "6e3ce4f3-aac9-4aba-8f2d-a492a8dbb99a",
   "metadata": {},
   "outputs": [
    {
     "data": {
      "text/html": [
       "<div>\n",
       "<style scoped>\n",
       "    .dataframe tbody tr th:only-of-type {\n",
       "        vertical-align: middle;\n",
       "    }\n",
       "\n",
       "    .dataframe tbody tr th {\n",
       "        vertical-align: top;\n",
       "    }\n",
       "\n",
       "    .dataframe thead th {\n",
       "        text-align: right;\n",
       "    }\n",
       "</style>\n",
       "<table border=\"1\" class=\"dataframe\">\n",
       "  <thead>\n",
       "    <tr style=\"text-align: right;\">\n",
       "      <th></th>\n",
       "      <th>Caps and Hats</th>\n",
       "      <th>Drinkware</th>\n",
       "      <th>Hoodies and Jackets</th>\n",
       "      <th>Kids Apparel</th>\n",
       "      <th>Tees</th>\n",
       "      <th>bags &amp; luggage</th>\n",
       "      <th>beauty &amp; health</th>\n",
       "      <th>home &amp; kitchen</th>\n",
       "      <th>office</th>\n",
       "      <th>pet supplies</th>\n",
       "      <th>sports &amp; fitness</th>\n",
       "    </tr>\n",
       "    <tr>\n",
       "      <th>cluster</th>\n",
       "      <th></th>\n",
       "      <th></th>\n",
       "      <th></th>\n",
       "      <th></th>\n",
       "      <th></th>\n",
       "      <th></th>\n",
       "      <th></th>\n",
       "      <th></th>\n",
       "      <th></th>\n",
       "      <th></th>\n",
       "      <th></th>\n",
       "    </tr>\n",
       "  </thead>\n",
       "  <tbody>\n",
       "    <tr>\n",
       "      <th>1</th>\n",
       "      <td>0.54</td>\n",
       "      <td>0.71</td>\n",
       "      <td>0.56</td>\n",
       "      <td>0.49</td>\n",
       "      <td>0.91</td>\n",
       "      <td>0.51</td>\n",
       "      <td>0.42</td>\n",
       "      <td>0.9</td>\n",
       "      <td>0.86</td>\n",
       "      <td>1.0</td>\n",
       "      <td>0.48</td>\n",
       "    </tr>\n",
       "  </tbody>\n",
       "</table>\n",
       "</div>"
      ],
      "text/plain": [
       "         Caps and Hats  Drinkware  Hoodies and Jackets  Kids Apparel  Tees  \\\n",
       "cluster                                                                      \n",
       "1                 0.54       0.71                 0.56          0.49  0.91   \n",
       "\n",
       "         bags & luggage  beauty & health  home & kitchen  office  \\\n",
       "cluster                                                            \n",
       "1                  0.51             0.42             0.9    0.86   \n",
       "\n",
       "         pet supplies  sports & fitness  \n",
       "cluster                                  \n",
       "1                 1.0              0.48  "
      ]
     },
     "execution_count": 37,
     "metadata": {},
     "output_type": "execute_result"
    }
   ],
   "source": [
    "proportions(1)"
   ]
  },
  {
   "cell_type": "code",
   "execution_count": 20,
   "id": "139458b7-0fdd-4185-bcc5-cd0cc25a99a6",
   "metadata": {},
   "outputs": [
    {
     "data": {
      "text/plain": [
       "100"
      ]
     },
     "execution_count": 20,
     "metadata": {},
     "output_type": "execute_result"
    }
   ],
   "source": [
    "len(df_profiling.query('cluster == 1').index)"
   ]
  },
  {
   "cell_type": "markdown",
   "id": "5213fdb8-4676-4512-95d5-5805d000c890",
   "metadata": {},
   "source": [
    "Interested in: Tees, Home and Kitchen, Office, ``Drinkware``, and ``Pet Supplies``."
   ]
  },
  {
   "cell_type": "code",
   "execution_count": null,
   "id": "f5062d5e-cbae-4b30-bd86-866994c182ca",
   "metadata": {},
   "outputs": [],
   "source": []
  },
  {
   "cell_type": "code",
   "execution_count": null,
   "id": "86694cde-a174-47c6-9682-99272ef648b0",
   "metadata": {},
   "outputs": [],
   "source": []
  },
  {
   "cell_type": "markdown",
   "id": "a734578d-a986-41bc-af83-f5ca4ce85edc",
   "metadata": {},
   "source": [
    "### Cluster 2"
   ]
  },
  {
   "cell_type": "code",
   "execution_count": 38,
   "id": "8a814f10-24ed-4950-b101-075e40c1f98a",
   "metadata": {},
   "outputs": [
    {
     "data": {
      "text/html": [
       "<div>\n",
       "<style scoped>\n",
       "    .dataframe tbody tr th:only-of-type {\n",
       "        vertical-align: middle;\n",
       "    }\n",
       "\n",
       "    .dataframe tbody tr th {\n",
       "        vertical-align: top;\n",
       "    }\n",
       "\n",
       "    .dataframe thead th {\n",
       "        text-align: right;\n",
       "    }\n",
       "</style>\n",
       "<table border=\"1\" class=\"dataframe\">\n",
       "  <thead>\n",
       "    <tr style=\"text-align: right;\">\n",
       "      <th></th>\n",
       "      <th>Caps and Hats</th>\n",
       "      <th>Drinkware</th>\n",
       "      <th>Hoodies and Jackets</th>\n",
       "      <th>Kids Apparel</th>\n",
       "      <th>Tees</th>\n",
       "      <th>bags &amp; luggage</th>\n",
       "      <th>beauty &amp; health</th>\n",
       "      <th>home &amp; kitchen</th>\n",
       "      <th>office</th>\n",
       "      <th>pet supplies</th>\n",
       "      <th>sports &amp; fitness</th>\n",
       "    </tr>\n",
       "    <tr>\n",
       "      <th>cluster</th>\n",
       "      <th></th>\n",
       "      <th></th>\n",
       "      <th></th>\n",
       "      <th></th>\n",
       "      <th></th>\n",
       "      <th></th>\n",
       "      <th></th>\n",
       "      <th></th>\n",
       "      <th></th>\n",
       "      <th></th>\n",
       "      <th></th>\n",
       "    </tr>\n",
       "  </thead>\n",
       "  <tbody>\n",
       "    <tr>\n",
       "      <th>2</th>\n",
       "      <td>1.0</td>\n",
       "      <td>0.540541</td>\n",
       "      <td>0.396396</td>\n",
       "      <td>0.189189</td>\n",
       "      <td>0.882883</td>\n",
       "      <td>0.27027</td>\n",
       "      <td>0.414414</td>\n",
       "      <td>0.90991</td>\n",
       "      <td>0.747748</td>\n",
       "      <td>0.054054</td>\n",
       "      <td>0.459459</td>\n",
       "    </tr>\n",
       "  </tbody>\n",
       "</table>\n",
       "</div>"
      ],
      "text/plain": [
       "         Caps and Hats  Drinkware  Hoodies and Jackets  Kids Apparel  \\\n",
       "cluster                                                                \n",
       "2                  1.0   0.540541             0.396396      0.189189   \n",
       "\n",
       "             Tees  bags & luggage  beauty & health  home & kitchen    office  \\\n",
       "cluster                                                                        \n",
       "2        0.882883         0.27027         0.414414         0.90991  0.747748   \n",
       "\n",
       "         pet supplies  sports & fitness  \n",
       "cluster                                  \n",
       "2            0.054054          0.459459  "
      ]
     },
     "execution_count": 38,
     "metadata": {},
     "output_type": "execute_result"
    }
   ],
   "source": [
    "proportions(2)"
   ]
  },
  {
   "cell_type": "code",
   "execution_count": null,
   "id": "b99675b5-3c85-4d5e-a687-df61c9872b17",
   "metadata": {},
   "outputs": [],
   "source": [
    "len(df_profiling.query('cluster == 2').index)"
   ]
  },
  {
   "cell_type": "markdown",
   "id": "0b2651f9-a315-4623-a1fd-f62efcf67c65",
   "metadata": {},
   "source": [
    "Interested in: Tees, Home and Kitchen, Office, and ``Caps and Hats``."
   ]
  },
  {
   "cell_type": "code",
   "execution_count": null,
   "id": "7101a642-e06d-4787-9ac9-a672b54cdb26",
   "metadata": {},
   "outputs": [],
   "source": []
  },
  {
   "cell_type": "code",
   "execution_count": null,
   "id": "c062fbb7-5445-43d3-be9a-aa4fb514a44d",
   "metadata": {},
   "outputs": [],
   "source": []
  },
  {
   "cell_type": "markdown",
   "id": "649b9c37-be21-4b8f-99f9-7543b80b2ebd",
   "metadata": {},
   "source": [
    "### Cluster 3"
   ]
  },
  {
   "cell_type": "code",
   "execution_count": 39,
   "id": "b5acfe61-3005-4bd2-ac6e-675c3d5974ae",
   "metadata": {},
   "outputs": [
    {
     "data": {
      "text/html": [
       "<div>\n",
       "<style scoped>\n",
       "    .dataframe tbody tr th:only-of-type {\n",
       "        vertical-align: middle;\n",
       "    }\n",
       "\n",
       "    .dataframe tbody tr th {\n",
       "        vertical-align: top;\n",
       "    }\n",
       "\n",
       "    .dataframe thead th {\n",
       "        text-align: right;\n",
       "    }\n",
       "</style>\n",
       "<table border=\"1\" class=\"dataframe\">\n",
       "  <thead>\n",
       "    <tr style=\"text-align: right;\">\n",
       "      <th></th>\n",
       "      <th>Caps and Hats</th>\n",
       "      <th>Drinkware</th>\n",
       "      <th>Hoodies and Jackets</th>\n",
       "      <th>Kids Apparel</th>\n",
       "      <th>Tees</th>\n",
       "      <th>bags &amp; luggage</th>\n",
       "      <th>beauty &amp; health</th>\n",
       "      <th>home &amp; kitchen</th>\n",
       "      <th>office</th>\n",
       "      <th>pet supplies</th>\n",
       "      <th>sports &amp; fitness</th>\n",
       "    </tr>\n",
       "    <tr>\n",
       "      <th>cluster</th>\n",
       "      <th></th>\n",
       "      <th></th>\n",
       "      <th></th>\n",
       "      <th></th>\n",
       "      <th></th>\n",
       "      <th></th>\n",
       "      <th></th>\n",
       "      <th></th>\n",
       "      <th></th>\n",
       "      <th></th>\n",
       "      <th></th>\n",
       "    </tr>\n",
       "  </thead>\n",
       "  <tbody>\n",
       "    <tr>\n",
       "      <th>3</th>\n",
       "      <td>0.456989</td>\n",
       "      <td>0.715054</td>\n",
       "      <td>1.0</td>\n",
       "      <td>0.376344</td>\n",
       "      <td>0.924731</td>\n",
       "      <td>0.5</td>\n",
       "      <td>0.419355</td>\n",
       "      <td>0.88172</td>\n",
       "      <td>0.801075</td>\n",
       "      <td>0.209677</td>\n",
       "      <td>0.623656</td>\n",
       "    </tr>\n",
       "  </tbody>\n",
       "</table>\n",
       "</div>"
      ],
      "text/plain": [
       "         Caps and Hats  Drinkware  Hoodies and Jackets  Kids Apparel  \\\n",
       "cluster                                                                \n",
       "3             0.456989   0.715054                  1.0      0.376344   \n",
       "\n",
       "             Tees  bags & luggage  beauty & health  home & kitchen    office  \\\n",
       "cluster                                                                        \n",
       "3        0.924731             0.5         0.419355         0.88172  0.801075   \n",
       "\n",
       "         pet supplies  sports & fitness  \n",
       "cluster                                  \n",
       "3            0.209677          0.623656  "
      ]
     },
     "execution_count": 39,
     "metadata": {},
     "output_type": "execute_result"
    }
   ],
   "source": [
    "proportions(3)"
   ]
  },
  {
   "cell_type": "code",
   "execution_count": 23,
   "id": "c7502c9c-2259-468d-9ad2-f4858e50603a",
   "metadata": {},
   "outputs": [
    {
     "data": {
      "text/plain": [
       "186"
      ]
     },
     "execution_count": 23,
     "metadata": {},
     "output_type": "execute_result"
    }
   ],
   "source": [
    "len(df_profiling.query('cluster == 3').index)"
   ]
  },
  {
   "cell_type": "markdown",
   "id": "900c6f95-d38f-4fff-80f7-2b1928ab24d3",
   "metadata": {},
   "source": [
    "Interested in: Tees, Home and Kitchen, Office, ``Drinkware``. Mid interest in ``Sports and Fitness``."
   ]
  },
  {
   "cell_type": "code",
   "execution_count": null,
   "id": "b4c443c4-9265-4aae-bcdc-5f1e098009b7",
   "metadata": {},
   "outputs": [],
   "source": []
  },
  {
   "cell_type": "code",
   "execution_count": null,
   "id": "29256490-6304-4c11-92f7-501377437be9",
   "metadata": {},
   "outputs": [],
   "source": []
  },
  {
   "cell_type": "markdown",
   "id": "9f41a079-a849-4e43-84b3-9b7a03979be0",
   "metadata": {},
   "source": [
    "### Cluster 4"
   ]
  },
  {
   "cell_type": "code",
   "execution_count": 40,
   "id": "4587f4c7-de5c-4421-b643-27f8006539b0",
   "metadata": {},
   "outputs": [
    {
     "data": {
      "text/html": [
       "<div>\n",
       "<style scoped>\n",
       "    .dataframe tbody tr th:only-of-type {\n",
       "        vertical-align: middle;\n",
       "    }\n",
       "\n",
       "    .dataframe tbody tr th {\n",
       "        vertical-align: top;\n",
       "    }\n",
       "\n",
       "    .dataframe thead th {\n",
       "        text-align: right;\n",
       "    }\n",
       "</style>\n",
       "<table border=\"1\" class=\"dataframe\">\n",
       "  <thead>\n",
       "    <tr style=\"text-align: right;\">\n",
       "      <th></th>\n",
       "      <th>Caps and Hats</th>\n",
       "      <th>Drinkware</th>\n",
       "      <th>Hoodies and Jackets</th>\n",
       "      <th>Kids Apparel</th>\n",
       "      <th>Tees</th>\n",
       "      <th>bags &amp; luggage</th>\n",
       "      <th>beauty &amp; health</th>\n",
       "      <th>home &amp; kitchen</th>\n",
       "      <th>office</th>\n",
       "      <th>pet supplies</th>\n",
       "      <th>sports &amp; fitness</th>\n",
       "    </tr>\n",
       "    <tr>\n",
       "      <th>cluster</th>\n",
       "      <th></th>\n",
       "      <th></th>\n",
       "      <th></th>\n",
       "      <th></th>\n",
       "      <th></th>\n",
       "      <th></th>\n",
       "      <th></th>\n",
       "      <th></th>\n",
       "      <th></th>\n",
       "      <th></th>\n",
       "      <th></th>\n",
       "    </tr>\n",
       "  </thead>\n",
       "  <tbody>\n",
       "    <tr>\n",
       "      <th>4</th>\n",
       "      <td>0.354331</td>\n",
       "      <td>0.629921</td>\n",
       "      <td>0.425197</td>\n",
       "      <td>0.299213</td>\n",
       "      <td>0.92126</td>\n",
       "      <td>0.393701</td>\n",
       "      <td>0.283465</td>\n",
       "      <td>0.889764</td>\n",
       "      <td>0.818898</td>\n",
       "      <td>0.094488</td>\n",
       "      <td>1.0</td>\n",
       "    </tr>\n",
       "  </tbody>\n",
       "</table>\n",
       "</div>"
      ],
      "text/plain": [
       "         Caps and Hats  Drinkware  Hoodies and Jackets  Kids Apparel     Tees  \\\n",
       "cluster                                                                         \n",
       "4             0.354331   0.629921             0.425197      0.299213  0.92126   \n",
       "\n",
       "         bags & luggage  beauty & health  home & kitchen    office  \\\n",
       "cluster                                                              \n",
       "4              0.393701         0.283465        0.889764  0.818898   \n",
       "\n",
       "         pet supplies  sports & fitness  \n",
       "cluster                                  \n",
       "4            0.094488               1.0  "
      ]
     },
     "execution_count": 40,
     "metadata": {},
     "output_type": "execute_result"
    }
   ],
   "source": [
    "proportions(4)"
   ]
  },
  {
   "cell_type": "code",
   "execution_count": 25,
   "id": "2fc113c5-2cee-4ca6-a443-aa2b9e3d9e48",
   "metadata": {},
   "outputs": [
    {
     "data": {
      "text/plain": [
       "127"
      ]
     },
     "execution_count": 25,
     "metadata": {},
     "output_type": "execute_result"
    }
   ],
   "source": [
    "len(df_profiling.query('cluster == 4').index)"
   ]
  },
  {
   "cell_type": "markdown",
   "id": "dacea349-1bdb-43e0-ab82-e17ecda73c76",
   "metadata": {},
   "source": [
    "Interested in: Tees, Home and Kitchen, Office,  ``Sports and Fitness``. Mid interest in ``Drinkware``."
   ]
  },
  {
   "cell_type": "code",
   "execution_count": null,
   "id": "74e320b4-f47a-4670-ba9a-fcc4027ac216",
   "metadata": {},
   "outputs": [],
   "source": []
  },
  {
   "cell_type": "code",
   "execution_count": null,
   "id": "4b7468c5-e342-4eea-b0c6-db114bbc574f",
   "metadata": {},
   "outputs": [],
   "source": []
  },
  {
   "cell_type": "markdown",
   "id": "12e5c4ed-4247-469b-87c7-a65f3aef9da5",
   "metadata": {},
   "source": [
    "### Cluster 5"
   ]
  },
  {
   "cell_type": "code",
   "execution_count": 41,
   "id": "0f6cb311-e5e1-4418-8527-fca298365583",
   "metadata": {},
   "outputs": [
    {
     "data": {
      "text/html": [
       "<div>\n",
       "<style scoped>\n",
       "    .dataframe tbody tr th:only-of-type {\n",
       "        vertical-align: middle;\n",
       "    }\n",
       "\n",
       "    .dataframe tbody tr th {\n",
       "        vertical-align: top;\n",
       "    }\n",
       "\n",
       "    .dataframe thead th {\n",
       "        text-align: right;\n",
       "    }\n",
       "</style>\n",
       "<table border=\"1\" class=\"dataframe\">\n",
       "  <thead>\n",
       "    <tr style=\"text-align: right;\">\n",
       "      <th></th>\n",
       "      <th>Caps and Hats</th>\n",
       "      <th>Drinkware</th>\n",
       "      <th>Hoodies and Jackets</th>\n",
       "      <th>Kids Apparel</th>\n",
       "      <th>Tees</th>\n",
       "      <th>bags &amp; luggage</th>\n",
       "      <th>beauty &amp; health</th>\n",
       "      <th>home &amp; kitchen</th>\n",
       "      <th>office</th>\n",
       "      <th>pet supplies</th>\n",
       "      <th>sports &amp; fitness</th>\n",
       "    </tr>\n",
       "    <tr>\n",
       "      <th>cluster</th>\n",
       "      <th></th>\n",
       "      <th></th>\n",
       "      <th></th>\n",
       "      <th></th>\n",
       "      <th></th>\n",
       "      <th></th>\n",
       "      <th></th>\n",
       "      <th></th>\n",
       "      <th></th>\n",
       "      <th></th>\n",
       "      <th></th>\n",
       "    </tr>\n",
       "  </thead>\n",
       "  <tbody>\n",
       "    <tr>\n",
       "      <th>5</th>\n",
       "      <td>0.491166</td>\n",
       "      <td>1.0</td>\n",
       "      <td>0.583039</td>\n",
       "      <td>0.39576</td>\n",
       "      <td>0.925795</td>\n",
       "      <td>0.568905</td>\n",
       "      <td>0.434629</td>\n",
       "      <td>0.890459</td>\n",
       "      <td>0.872792</td>\n",
       "      <td>0.236749</td>\n",
       "      <td>0.586572</td>\n",
       "    </tr>\n",
       "  </tbody>\n",
       "</table>\n",
       "</div>"
      ],
      "text/plain": [
       "         Caps and Hats  Drinkware  Hoodies and Jackets  Kids Apparel  \\\n",
       "cluster                                                                \n",
       "5             0.491166        1.0             0.583039       0.39576   \n",
       "\n",
       "             Tees  bags & luggage  beauty & health  home & kitchen    office  \\\n",
       "cluster                                                                        \n",
       "5        0.925795        0.568905         0.434629        0.890459  0.872792   \n",
       "\n",
       "         pet supplies  sports & fitness  \n",
       "cluster                                  \n",
       "5            0.236749          0.586572  "
      ]
     },
     "execution_count": 41,
     "metadata": {},
     "output_type": "execute_result"
    }
   ],
   "source": [
    "proportions(5)"
   ]
  },
  {
   "cell_type": "code",
   "execution_count": 27,
   "id": "947fa2fc-b2bb-4042-aa1f-3de63f2be993",
   "metadata": {},
   "outputs": [
    {
     "data": {
      "text/plain": [
       "127"
      ]
     },
     "execution_count": 27,
     "metadata": {},
     "output_type": "execute_result"
    }
   ],
   "source": [
    "len(df_profiling.query('cluster == 4').index)"
   ]
  },
  {
   "cell_type": "markdown",
   "id": "a53da23a-a4bc-4e46-93e5-70661a9f2fc8",
   "metadata": {},
   "source": [
    "Interested in: Tees, Home and Kitchen, Office,  ``Drinkware``. Mid interest in ``Hoodies and Jackets``, and ``Sports and Fitness``."
   ]
  },
  {
   "cell_type": "code",
   "execution_count": null,
   "id": "7a97d964-5d5d-4d41-ba77-143dfc2cf3ea",
   "metadata": {},
   "outputs": [],
   "source": []
  },
  {
   "cell_type": "code",
   "execution_count": null,
   "id": "62e97e71-fcde-4d8c-b826-671125b6361a",
   "metadata": {},
   "outputs": [],
   "source": []
  },
  {
   "cell_type": "markdown",
   "id": "9ee30177-16c0-4d97-9b13-79a8227d9274",
   "metadata": {},
   "source": [
    "### Cluster 6"
   ]
  },
  {
   "cell_type": "code",
   "execution_count": 42,
   "id": "5d08a7a6-a99e-450a-a08e-ec22fc31b177",
   "metadata": {},
   "outputs": [
    {
     "data": {
      "text/html": [
       "<div>\n",
       "<style scoped>\n",
       "    .dataframe tbody tr th:only-of-type {\n",
       "        vertical-align: middle;\n",
       "    }\n",
       "\n",
       "    .dataframe tbody tr th {\n",
       "        vertical-align: top;\n",
       "    }\n",
       "\n",
       "    .dataframe thead th {\n",
       "        text-align: right;\n",
       "    }\n",
       "</style>\n",
       "<table border=\"1\" class=\"dataframe\">\n",
       "  <thead>\n",
       "    <tr style=\"text-align: right;\">\n",
       "      <th></th>\n",
       "      <th>Caps and Hats</th>\n",
       "      <th>Drinkware</th>\n",
       "      <th>Hoodies and Jackets</th>\n",
       "      <th>Kids Apparel</th>\n",
       "      <th>Tees</th>\n",
       "      <th>bags &amp; luggage</th>\n",
       "      <th>beauty &amp; health</th>\n",
       "      <th>home &amp; kitchen</th>\n",
       "      <th>office</th>\n",
       "      <th>pet supplies</th>\n",
       "      <th>sports &amp; fitness</th>\n",
       "    </tr>\n",
       "    <tr>\n",
       "      <th>cluster</th>\n",
       "      <th></th>\n",
       "      <th></th>\n",
       "      <th></th>\n",
       "      <th></th>\n",
       "      <th></th>\n",
       "      <th></th>\n",
       "      <th></th>\n",
       "      <th></th>\n",
       "      <th></th>\n",
       "      <th></th>\n",
       "      <th></th>\n",
       "    </tr>\n",
       "  </thead>\n",
       "  <tbody>\n",
       "    <tr>\n",
       "      <th>6</th>\n",
       "      <td>0.435028</td>\n",
       "      <td>0.548023</td>\n",
       "      <td>0.389831</td>\n",
       "      <td>0.214689</td>\n",
       "      <td>0.870056</td>\n",
       "      <td>0.423729</td>\n",
       "      <td>1.0</td>\n",
       "      <td>0.966102</td>\n",
       "      <td>0.768362</td>\n",
       "      <td>0.107345</td>\n",
       "      <td>0.40678</td>\n",
       "    </tr>\n",
       "  </tbody>\n",
       "</table>\n",
       "</div>"
      ],
      "text/plain": [
       "         Caps and Hats  Drinkware  Hoodies and Jackets  Kids Apparel  \\\n",
       "cluster                                                                \n",
       "6             0.435028   0.548023             0.389831      0.214689   \n",
       "\n",
       "             Tees  bags & luggage  beauty & health  home & kitchen    office  \\\n",
       "cluster                                                                        \n",
       "6        0.870056        0.423729              1.0        0.966102  0.768362   \n",
       "\n",
       "         pet supplies  sports & fitness  \n",
       "cluster                                  \n",
       "6            0.107345           0.40678  "
      ]
     },
     "execution_count": 42,
     "metadata": {},
     "output_type": "execute_result"
    }
   ],
   "source": [
    "proportions(6)"
   ]
  },
  {
   "cell_type": "markdown",
   "id": "3a966baf-8048-4580-9b22-2830d651307c",
   "metadata": {},
   "source": [
    "Interested in: Tees, Home and Kitchen, Office, and  ``Beauty and Health``."
   ]
  },
  {
   "cell_type": "code",
   "execution_count": null,
   "id": "8fcc6ff1-7b16-499e-93ce-619c33c7f54f",
   "metadata": {},
   "outputs": [],
   "source": []
  },
  {
   "cell_type": "code",
   "execution_count": null,
   "id": "10365d61-ef33-4f8c-8390-fe68f0ae4113",
   "metadata": {},
   "outputs": [],
   "source": []
  },
  {
   "cell_type": "markdown",
   "id": "2dccce2a-5b69-4880-80b9-ebed842ce8ca",
   "metadata": {},
   "source": [
    "### Cluster 7"
   ]
  },
  {
   "cell_type": "code",
   "execution_count": 43,
   "id": "d4aac59e-ff54-4442-b25a-832cd253ede7",
   "metadata": {},
   "outputs": [
    {
     "data": {
      "text/html": [
       "<div>\n",
       "<style scoped>\n",
       "    .dataframe tbody tr th:only-of-type {\n",
       "        vertical-align: middle;\n",
       "    }\n",
       "\n",
       "    .dataframe tbody tr th {\n",
       "        vertical-align: top;\n",
       "    }\n",
       "\n",
       "    .dataframe thead th {\n",
       "        text-align: right;\n",
       "    }\n",
       "</style>\n",
       "<table border=\"1\" class=\"dataframe\">\n",
       "  <thead>\n",
       "    <tr style=\"text-align: right;\">\n",
       "      <th></th>\n",
       "      <th>Caps and Hats</th>\n",
       "      <th>Drinkware</th>\n",
       "      <th>Hoodies and Jackets</th>\n",
       "      <th>Kids Apparel</th>\n",
       "      <th>Tees</th>\n",
       "      <th>bags &amp; luggage</th>\n",
       "      <th>beauty &amp; health</th>\n",
       "      <th>home &amp; kitchen</th>\n",
       "      <th>office</th>\n",
       "      <th>pet supplies</th>\n",
       "      <th>sports &amp; fitness</th>\n",
       "    </tr>\n",
       "    <tr>\n",
       "      <th>cluster</th>\n",
       "      <th></th>\n",
       "      <th></th>\n",
       "      <th></th>\n",
       "      <th></th>\n",
       "      <th></th>\n",
       "      <th></th>\n",
       "      <th></th>\n",
       "      <th></th>\n",
       "      <th></th>\n",
       "      <th></th>\n",
       "      <th></th>\n",
       "    </tr>\n",
       "  </thead>\n",
       "  <tbody>\n",
       "    <tr>\n",
       "      <th>7</th>\n",
       "      <td>0.497354</td>\n",
       "      <td>0.608466</td>\n",
       "      <td>0.534392</td>\n",
       "      <td>1.0</td>\n",
       "      <td>0.89418</td>\n",
       "      <td>0.481481</td>\n",
       "      <td>0.333333</td>\n",
       "      <td>0.888889</td>\n",
       "      <td>0.793651</td>\n",
       "      <td>0.148148</td>\n",
       "      <td>0.544974</td>\n",
       "    </tr>\n",
       "  </tbody>\n",
       "</table>\n",
       "</div>"
      ],
      "text/plain": [
       "         Caps and Hats  Drinkware  Hoodies and Jackets  Kids Apparel     Tees  \\\n",
       "cluster                                                                         \n",
       "7             0.497354   0.608466             0.534392           1.0  0.89418   \n",
       "\n",
       "         bags & luggage  beauty & health  home & kitchen    office  \\\n",
       "cluster                                                              \n",
       "7              0.481481         0.333333        0.888889  0.793651   \n",
       "\n",
       "         pet supplies  sports & fitness  \n",
       "cluster                                  \n",
       "7            0.148148          0.544974  "
      ]
     },
     "execution_count": 43,
     "metadata": {},
     "output_type": "execute_result"
    }
   ],
   "source": [
    "proportions(7)"
   ]
  },
  {
   "cell_type": "markdown",
   "id": "26577dc2-460b-42f0-811f-52575eb6f092",
   "metadata": {},
   "source": [
    "Interested in: Tees, Home and Kitchen, Office,  and ``Kids Apparel``. Mid interest in ``Drinkware`` and ``Sports and Fitness``."
   ]
  },
  {
   "cell_type": "code",
   "execution_count": null,
   "id": "b3f92498-0a93-4443-baf1-e2fb2b2079ab",
   "metadata": {},
   "outputs": [],
   "source": []
  },
  {
   "cell_type": "code",
   "execution_count": null,
   "id": "b1d3d097-922e-4651-9997-1337af5a4c93",
   "metadata": {},
   "outputs": [],
   "source": []
  },
  {
   "cell_type": "markdown",
   "id": "9522f456-b9cb-4d6c-a721-d4af0326e1eb",
   "metadata": {},
   "source": [
    "# Save the KMeans model using Joblib"
   ]
  },
  {
   "cell_type": "code",
   "execution_count": 44,
   "id": "23a94687-d4d1-4f6e-9cf5-29cb1a4f8324",
   "metadata": {},
   "outputs": [
    {
     "data": {
      "text/plain": [
       "['../Model/kmeans_model_8clusters.joblib']"
      ]
     },
     "execution_count": 44,
     "metadata": {},
     "output_type": "execute_result"
    }
   ],
   "source": [
    "from joblib import dump\n",
    "dump(kmeans, '../Models/kmeans_model_8clusters.joblib')"
   ]
  },
  {
   "cell_type": "code",
   "execution_count": null,
   "id": "abf90115-9dbc-483e-9b79-f8e70a8ac10a",
   "metadata": {},
   "outputs": [],
   "source": []
  },
  {
   "cell_type": "code",
   "execution_count": null,
   "id": "0d562449-a6a1-4cba-93ca-4e08c5cc19f1",
   "metadata": {},
   "outputs": [],
   "source": []
  },
  {
   "cell_type": "markdown",
   "id": "81ba6750-bbe2-4480-9d05-7be4a57e2fc6",
   "metadata": {},
   "source": [
    "# To read the model in order to make predictions just do\n",
    "\n",
    "```python\n",
    "from joblib import dump, load\n",
    "\n",
    "kmeans = load('kmeans_model.joblib')\n",
    "y_pred = kmeans.predict(X_new)\n",
    "```\n",
    "\n",
    "# Remember to perform the exact same transformations to the new data before making predictions."
   ]
  },
  {
   "cell_type": "code",
   "execution_count": null,
   "id": "fc68048c-c6be-45f4-95b4-cf3f2c933b18",
   "metadata": {},
   "outputs": [],
   "source": []
  },
  {
   "cell_type": "code",
   "execution_count": null,
   "id": "4b5a8867-8345-4c78-8866-dd83778af482",
   "metadata": {},
   "outputs": [],
   "source": []
  },
  {
   "cell_type": "markdown",
   "id": "b6e035e3-5f39-41cb-988f-df4c5c5de643",
   "metadata": {},
   "source": [
    "# Export the cluster labels (use this reference file for EDA)"
   ]
  },
  {
   "cell_type": "code",
   "execution_count": 45,
   "id": "fd36535b-51bd-4949-850b-3fd1225fa19b",
   "metadata": {},
   "outputs": [
    {
     "data": {
      "text/html": [
       "<div>\n",
       "<style scoped>\n",
       "    .dataframe tbody tr th:only-of-type {\n",
       "        vertical-align: middle;\n",
       "    }\n",
       "\n",
       "    .dataframe tbody tr th {\n",
       "        vertical-align: top;\n",
       "    }\n",
       "\n",
       "    .dataframe thead th {\n",
       "        text-align: right;\n",
       "    }\n",
       "</style>\n",
       "<table border=\"1\" class=\"dataframe\">\n",
       "  <thead>\n",
       "    <tr style=\"text-align: right;\">\n",
       "      <th></th>\n",
       "      <th>Caps and Hats</th>\n",
       "      <th>Drinkware</th>\n",
       "      <th>Hoodies and Jackets</th>\n",
       "      <th>Kids Apparel</th>\n",
       "      <th>Tees</th>\n",
       "      <th>bags &amp; luggage</th>\n",
       "      <th>beauty &amp; health</th>\n",
       "      <th>home &amp; kitchen</th>\n",
       "      <th>office</th>\n",
       "      <th>pet supplies</th>\n",
       "      <th>sports &amp; fitness</th>\n",
       "      <th>cluster</th>\n",
       "    </tr>\n",
       "    <tr>\n",
       "      <th>CustomerID</th>\n",
       "      <th></th>\n",
       "      <th></th>\n",
       "      <th></th>\n",
       "      <th></th>\n",
       "      <th></th>\n",
       "      <th></th>\n",
       "      <th></th>\n",
       "      <th></th>\n",
       "      <th></th>\n",
       "      <th></th>\n",
       "      <th></th>\n",
       "      <th></th>\n",
       "    </tr>\n",
       "  </thead>\n",
       "  <tbody>\n",
       "    <tr>\n",
       "      <th>12347</th>\n",
       "      <td>1</td>\n",
       "      <td>1</td>\n",
       "      <td>1</td>\n",
       "      <td>1</td>\n",
       "      <td>1</td>\n",
       "      <td>1</td>\n",
       "      <td>0</td>\n",
       "      <td>1</td>\n",
       "      <td>1</td>\n",
       "      <td>0</td>\n",
       "      <td>1</td>\n",
       "      <td>0</td>\n",
       "    </tr>\n",
       "    <tr>\n",
       "      <th>12348</th>\n",
       "      <td>0</td>\n",
       "      <td>1</td>\n",
       "      <td>0</td>\n",
       "      <td>1</td>\n",
       "      <td>1</td>\n",
       "      <td>0</td>\n",
       "      <td>0</td>\n",
       "      <td>1</td>\n",
       "      <td>1</td>\n",
       "      <td>0</td>\n",
       "      <td>1</td>\n",
       "      <td>7</td>\n",
       "    </tr>\n",
       "    <tr>\n",
       "      <th>12350</th>\n",
       "      <td>1</td>\n",
       "      <td>0</td>\n",
       "      <td>0</td>\n",
       "      <td>0</td>\n",
       "      <td>1</td>\n",
       "      <td>0</td>\n",
       "      <td>0</td>\n",
       "      <td>1</td>\n",
       "      <td>0</td>\n",
       "      <td>0</td>\n",
       "      <td>1</td>\n",
       "      <td>2</td>\n",
       "    </tr>\n",
       "    <tr>\n",
       "      <th>12356</th>\n",
       "      <td>0</td>\n",
       "      <td>1</td>\n",
       "      <td>1</td>\n",
       "      <td>1</td>\n",
       "      <td>1</td>\n",
       "      <td>1</td>\n",
       "      <td>1</td>\n",
       "      <td>1</td>\n",
       "      <td>1</td>\n",
       "      <td>0</td>\n",
       "      <td>1</td>\n",
       "      <td>7</td>\n",
       "    </tr>\n",
       "    <tr>\n",
       "      <th>12359</th>\n",
       "      <td>1</td>\n",
       "      <td>0</td>\n",
       "      <td>0</td>\n",
       "      <td>0</td>\n",
       "      <td>1</td>\n",
       "      <td>0</td>\n",
       "      <td>0</td>\n",
       "      <td>1</td>\n",
       "      <td>0</td>\n",
       "      <td>0</td>\n",
       "      <td>0</td>\n",
       "      <td>2</td>\n",
       "    </tr>\n",
       "  </tbody>\n",
       "</table>\n",
       "</div>"
      ],
      "text/plain": [
       "            Caps and Hats  Drinkware  Hoodies and Jackets  Kids Apparel  Tees  \\\n",
       "CustomerID                                                                      \n",
       "12347                   1          1                    1             1     1   \n",
       "12348                   0          1                    0             1     1   \n",
       "12350                   1          0                    0             0     1   \n",
       "12356                   0          1                    1             1     1   \n",
       "12359                   1          0                    0             0     1   \n",
       "\n",
       "            bags & luggage  beauty & health  home & kitchen  office  \\\n",
       "CustomerID                                                            \n",
       "12347                    1                0               1       1   \n",
       "12348                    0                0               1       1   \n",
       "12350                    0                0               1       0   \n",
       "12356                    1                1               1       1   \n",
       "12359                    0                0               1       0   \n",
       "\n",
       "            pet supplies  sports & fitness  cluster  \n",
       "CustomerID                                           \n",
       "12347                  0                 1        0  \n",
       "12348                  0                 1        7  \n",
       "12350                  0                 1        2  \n",
       "12356                  0                 1        7  \n",
       "12359                  0                 0        2  "
      ]
     },
     "execution_count": 45,
     "metadata": {},
     "output_type": "execute_result"
    }
   ],
   "source": [
    "df_profiling.head()"
   ]
  },
  {
   "cell_type": "code",
   "execution_count": 46,
   "id": "fb7f7c51-4a40-4a96-bfa2-3b47e8670011",
   "metadata": {},
   "outputs": [],
   "source": [
    "df_profiling[['cluster']].to_parquet('../Data/cluster_labels.parquet.gz', compression='gzip') "
   ]
  },
  {
   "cell_type": "code",
   "execution_count": null,
   "id": "63270846-200f-4c6a-a60c-fd73a983a887",
   "metadata": {},
   "outputs": [],
   "source": []
  },
  {
   "cell_type": "code",
   "execution_count": null,
   "id": "a07bddd4-f3ff-4177-b1df-dbdc14d0f0d5",
   "metadata": {},
   "outputs": [],
   "source": []
  },
  {
   "cell_type": "markdown",
   "id": "13723ef8-e7dc-4d51-8250-7960f71ebc98",
   "metadata": {},
   "source": [
    "# Reading the cluster labels file (to test)"
   ]
  },
  {
   "cell_type": "code",
   "execution_count": 47,
   "id": "a40f4994-7606-46b2-bc7e-a4c277bffe5b",
   "metadata": {},
   "outputs": [
    {
     "data": {
      "text/html": [
       "<div>\n",
       "<style scoped>\n",
       "    .dataframe tbody tr th:only-of-type {\n",
       "        vertical-align: middle;\n",
       "    }\n",
       "\n",
       "    .dataframe tbody tr th {\n",
       "        vertical-align: top;\n",
       "    }\n",
       "\n",
       "    .dataframe thead th {\n",
       "        text-align: right;\n",
       "    }\n",
       "</style>\n",
       "<table border=\"1\" class=\"dataframe\">\n",
       "  <thead>\n",
       "    <tr style=\"text-align: right;\">\n",
       "      <th></th>\n",
       "      <th>cluster</th>\n",
       "    </tr>\n",
       "    <tr>\n",
       "      <th>CustomerID</th>\n",
       "      <th></th>\n",
       "    </tr>\n",
       "  </thead>\n",
       "  <tbody>\n",
       "    <tr>\n",
       "      <th>12347</th>\n",
       "      <td>0</td>\n",
       "    </tr>\n",
       "    <tr>\n",
       "      <th>12348</th>\n",
       "      <td>7</td>\n",
       "    </tr>\n",
       "    <tr>\n",
       "      <th>12350</th>\n",
       "      <td>2</td>\n",
       "    </tr>\n",
       "    <tr>\n",
       "      <th>12356</th>\n",
       "      <td>7</td>\n",
       "    </tr>\n",
       "    <tr>\n",
       "      <th>12359</th>\n",
       "      <td>2</td>\n",
       "    </tr>\n",
       "  </tbody>\n",
       "</table>\n",
       "</div>"
      ],
      "text/plain": [
       "            cluster\n",
       "CustomerID         \n",
       "12347             0\n",
       "12348             7\n",
       "12350             2\n",
       "12356             7\n",
       "12359             2"
      ]
     },
     "execution_count": 47,
     "metadata": {},
     "output_type": "execute_result"
    }
   ],
   "source": [
    "df_cls = pd.read_parquet('../Data/cluster_labels.parquet.gz')\n",
    "df_cls.head()"
   ]
  }
 ],
 "metadata": {
  "kernelspec": {
   "display_name": "Python 3 (ipykernel)",
   "language": "python",
   "name": "python3"
  },
  "language_info": {
   "codemirror_mode": {
    "name": "ipython",
    "version": 3
   },
   "file_extension": ".py",
   "mimetype": "text/x-python",
   "name": "python",
   "nbconvert_exporter": "python",
   "pygments_lexer": "ipython3",
   "version": "3.11.2"
  }
 },
 "nbformat": 4,
 "nbformat_minor": 5
}
